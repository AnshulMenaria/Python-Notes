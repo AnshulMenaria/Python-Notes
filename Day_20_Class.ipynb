{
 "cells": [
  {
   "cell_type": "code",
   "execution_count": 2,
   "id": "14ad1e0e-efba-4311-9fe2-55b43cd714b6",
   "metadata": {},
   "outputs": [
    {
     "name": "stdout",
     "output_type": "stream",
     "text": [
      "Buddy  says woof!\n",
      "Golden Retriver this is breed\n"
     ]
    }
   ],
   "source": [
    "class Dog: # Creating a class\n",
    "    def __init__(self,name,breed): #using self in constructor to reuse the variable which are defined in this\n",
    "        self.name = name # assigning variable using self.variable to re use and the function will know that it is refered from constructor\n",
    "        self.breed = breed\n",
    "\n",
    "    def bark(self): # passing self so it should know that it has to access the variable from constructor\n",
    "        print(f\"{self.name}  says woof!\") # using the assigned variable to get argument\n",
    "        print(f\"{self.breed} this is breed\")\n",
    "\n",
    "d1=Dog(\"Buddy\",\"Golden Retriver\") # creating object using class and passing arguments for the required parameters we defined in construcot\n",
    "d1.bark() # calling function which we want to access"
   ]
  },
  {
   "cell_type": "code",
   "execution_count": 1,
   "id": "a02578bf-cc8b-4069-8d51-feff62a8cdff",
   "metadata": {},
   "outputs": [
    {
     "ename": "TypeError",
     "evalue": "Dog.__init__() takes 2 positional arguments but 3 were given",
     "output_type": "error",
     "traceback": [
      "\u001b[1;31m---------------------------------------------------------------------------\u001b[0m",
      "\u001b[1;31mTypeError\u001b[0m                                 Traceback (most recent call last)",
      "Cell \u001b[1;32mIn[1], line 10\u001b[0m\n\u001b[0;32m      7\u001b[0m         \u001b[38;5;28mprint\u001b[39m(\u001b[38;5;124mf\u001b[39m\u001b[38;5;124m\"\u001b[39m\u001b[38;5;132;01m{\u001b[39;00mname\u001b[38;5;132;01m}\u001b[39;00m\u001b[38;5;124m  says woof!\u001b[39m\u001b[38;5;124m\"\u001b[39m)\n\u001b[0;32m      8\u001b[0m         \u001b[38;5;28mprint\u001b[39m(\u001b[38;5;124mf\u001b[39m\u001b[38;5;124m\"\u001b[39m\u001b[38;5;132;01m{\u001b[39;00mbreed\u001b[38;5;132;01m}\u001b[39;00m\u001b[38;5;124m this is breed\u001b[39m\u001b[38;5;124m\"\u001b[39m)\n\u001b[1;32m---> 10\u001b[0m d1\u001b[38;5;241m=\u001b[39m\u001b[43mDog\u001b[49m\u001b[43m(\u001b[49m\u001b[38;5;124;43m\"\u001b[39;49m\u001b[38;5;124;43mBuddy\u001b[39;49m\u001b[38;5;124;43m\"\u001b[39;49m\u001b[43m,\u001b[49m\u001b[38;5;124;43m\"\u001b[39;49m\u001b[38;5;124;43mGolden Retriver\u001b[39;49m\u001b[38;5;124;43m\"\u001b[39;49m\u001b[43m)\u001b[49m\n\u001b[0;32m     11\u001b[0m d1\u001b[38;5;241m.\u001b[39mbark()\n",
      "\u001b[1;31mTypeError\u001b[0m: Dog.__init__() takes 2 positional arguments but 3 were given"
     ]
    }
   ],
   "source": [
    "class Dog: # Creating a class\n",
    "    def __init__(name,breed): # if we didn't pass self in starting then it will not passed using self in any function \n",
    "        self.name = name\n",
    "        self.breed = breed\n",
    "\n",
    "    def bark(): # if there is no self and we remains the function empty\n",
    "        print(f\"{name}  says woof!\") # we didnt passed any paramaeter so it will cause errors \n",
    "        print(f\"{breed} this is breed\") \n",
    "\n",
    "d1=Dog(\"Buddy\",\"Golden Retriver\")\n",
    "d1.bark()"
   ]
  },
  {
   "cell_type": "code",
   "execution_count": 22,
   "id": "51f87815-0641-4e45-b816-27f4c9311b9e",
   "metadata": {},
   "outputs": [],
   "source": [
    "class House:\n",
    "    def __init__(self,color,floors,rooms,area):\n",
    "        self.color = color\n",
    "        self.floor = floors\n",
    "        self.room = rooms\n",
    "        self.area = area\n",
    "\n",
    "    def h_color(self):\n",
    "        print(f\"My House is {self.color} in color\")\n",
    "    def h_floor(self):\n",
    "        print(f\"My House has {self.floor} floors\")\n",
    "    def h_room(self):\n",
    "        print(f\"My House has {self.room} rooms\")\n",
    "    def h_area(self):\n",
    "        print(f\"My House built in {self.area}sq.ft.\")"
   ]
  },
  {
   "cell_type": "code",
   "execution_count": 23,
   "id": "224e94c7-ff23-4cdd-afd2-01f1c0f3f497",
   "metadata": {},
   "outputs": [
    {
     "name": "stdout",
     "output_type": "stream",
     "text": [
      "My House is Peach in color\n",
      "My House has 3 floors\n",
      "My House has 6 rooms\n",
      "My House built in 1500sq.ft.\n"
     ]
    }
   ],
   "source": [
    "h1=House(\"Peach\",\"3\",\"6\",\"1500\")\n",
    "h1.h_color()\n",
    "h1.h_floor()\n",
    "h1.h_room()\n",
    "h1.h_area()"
   ]
  },
  {
   "cell_type": "code",
   "execution_count": null,
   "id": "b3a3648f-ff46-4b0b-9564-8d86cc5c5d4c",
   "metadata": {},
   "outputs": [],
   "source": []
  }
 ],
 "metadata": {
  "kernelspec": {
   "display_name": "Python 3 (ipykernel)",
   "language": "python",
   "name": "python3"
  },
  "language_info": {
   "codemirror_mode": {
    "name": "ipython",
    "version": 3
   },
   "file_extension": ".py",
   "mimetype": "text/x-python",
   "name": "python",
   "nbconvert_exporter": "python",
   "pygments_lexer": "ipython3",
   "version": "3.10.11"
  }
 },
 "nbformat": 4,
 "nbformat_minor": 5
}
