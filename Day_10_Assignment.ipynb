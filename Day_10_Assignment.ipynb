{
  "nbformat": 4,
  "nbformat_minor": 0,
  "metadata": {
    "colab": {
      "provenance": [],
      "authorship_tag": "ABX9TyN2nJTQ1y+HiWGjyYDG2AZM",
      "include_colab_link": true
    },
    "kernelspec": {
      "name": "python3",
      "display_name": "Python 3"
    },
    "language_info": {
      "name": "python"
    }
  },
  "cells": [
    {
      "cell_type": "markdown",
      "metadata": {
        "id": "view-in-github",
        "colab_type": "text"
      },
      "source": [
        "<a href=\"https://colab.research.google.com/github/AnshulMenaria/Python-Notes/blob/main/Day_10_Assignment.ipynb\" target=\"_parent\"><img src=\"https://colab.research.google.com/assets/colab-badge.svg\" alt=\"Open In Colab\"/></a>"
      ]
    },
    {
      "cell_type": "code",
      "execution_count": null,
      "metadata": {
        "id": "JnG8igxGkKsR",
        "colab": {
          "base_uri": "https://localhost:8080/"
        },
        "outputId": "73b5d6ab-5446-49d2-bf43-6a8c849dd2cd"
      },
      "outputs": [
        {
          "output_type": "stream",
          "name": "stdout",
          "text": [
            "['datavizion', 'yahoo', 'google', 'health']\n"
          ]
        }
      ],
      "source": [
        "# 7. extract the email service provider name\n",
        "# a. emaillist=[\"KSR@datavizion.com\",\"mymail@yahoo.com\",\"milindmali@google.\n",
        "# com\",\"snehal@health\n",
        "\n",
        "emaillist=[\"KSR@datavizion.com\",\"mymail@yahoo.com\",\"milindmali@google.com\",\"snehal@health.com\"]\n",
        "\n",
        "emailprovider=[]\n",
        "\n",
        "for i in emaillist:\n",
        "  for j in range (len(i)):\n",
        "    if (i[j]==\"@\"):\n",
        "      for k in range (j+1,len(i)):\n",
        "        if (i[k]==\".\"):\n",
        "          emailprovider.append(i[j+1:k])\n",
        "          break\n",
        "print(emailprovider)\n"
      ]
    },
    {
      "cell_type": "code",
      "source": [
        "# 8. extract all the emailid for the given string\n",
        "# a. string=\"Hi my name is Govind Das and my mail id is\n",
        "# milindmali108@gmail.com and my organization mail is KSR@datavizion.com\n",
        "# b. Output => milindmali108@gmail.com\n",
        "\n",
        "string=\"Hi my name is Govind Das and my mail id is milindmali108@gmail.com and my organization mail is KSR@datavizion.com\"\n",
        "emailid=[]\n",
        "\n",
        "for i in range (len(string)):\n",
        "  if (string[i]==\"@\"):\n",
        "    for j in range(i,-1,-1):\n",
        "      first=0\n",
        "      if (string[j]==\" \" or j==0):\n",
        "        first=j+1\n",
        "        break\n",
        "    for k in range (i,len(string)):\n",
        "      last=0\n",
        "      if (string[k]==\" \" or k==len(string)-1):\n",
        "        if(k==len(string)-1):\n",
        "          last=k+1\n",
        "        else:\n",
        "          last=k\n",
        "        break\n",
        "    emailid.append(string[first:last])\n",
        "print(emailid)"
      ],
      "metadata": {
        "colab": {
          "base_uri": "https://localhost:8080/"
        },
        "id": "GVm-WIoplEjt",
        "outputId": "56ad0c92-f549-4066-bedf-8e1166ac26ef"
      },
      "execution_count": null,
      "outputs": [
        {
          "output_type": "stream",
          "name": "stdout",
          "text": [
            "['milindmali108@gmail.com', 'KSR@datavizion.com']\n"
          ]
        }
      ]
    },
    {
      "cell_type": "code",
      "source": [
        "# 9. Create a Python set such that it shows the element from both lists in a pair\n",
        "# a. first_list = [2, 3, 4, 5, 6, 7, 8]\n",
        "# b. second_list = [4, 9, 16, 25, 36, 49, 64]\n",
        "# c. Result is {(6, 36), (8, 64), (4, 16), (5, 25), (3, 9), (7, 49), (2, 4)}\n",
        "\n",
        "first_list=[2,3,4,5,6,7,8]\n",
        "second_list=[4,9,16,25,36,49,64]\n",
        "list1=[]\n",
        "\n",
        "for i in first_list:\n",
        "  for j in second_list:\n",
        "    if (i*i==j):\n",
        "      list1.append((i,j))\n",
        "print(set(list1))"
      ],
      "metadata": {
        "colab": {
          "base_uri": "https://localhost:8080/"
        },
        "id": "7nwILoe_lFzu",
        "outputId": "cf6d08b9-7424-4e04-97cb-9c8780174297"
      },
      "execution_count": null,
      "outputs": [
        {
          "output_type": "stream",
          "name": "stdout",
          "text": [
            "{(7, 49), (2, 4), (4, 16), (8, 64), (6, 36), (3, 9), (5, 25)}\n"
          ]
        }
      ]
    },
    {
      "cell_type": "code",
      "source": [
        "# 10. Write a program to reverse a List in Python\n",
        "# a. list = [4, 5, 6, 7, 8, 9]\n",
        "# b. Output => [9, 8, 7, 6, 5, 4]\n",
        "#without using another list or list.reverse\n",
        "list1=[4,5,6,7,8,9]\n",
        "list2=[]\n",
        "for i in range (len(list1)-1,-1,-1):\n",
        "  list2.append(list1[i])\n",
        "for i in range (len(list1)): # if questions says the changes should done in same list\n",
        "  list1[i]=list2[i]\n",
        "print(list1)\n"
      ],
      "metadata": {
        "id": "7AlWa7NQlHYL",
        "colab": {
          "base_uri": "https://localhost:8080/"
        },
        "outputId": "a755b586-a615-43ca-98a2-4785cd74802b"
      },
      "execution_count": null,
      "outputs": [
        {
          "output_type": "stream",
          "name": "stdout",
          "text": [
            "[9, 8, 7, 6, 5, 4]\n"
          ]
        }
      ]
    },
    {
      "cell_type": "code",
      "source": [
        "# 11. Write a program to clone or copy the list:\n",
        "list1=[4,5,6,7,8,9]\n",
        "list2=[]\n",
        "\n",
        "for i in range (len(list1)):\n",
        "  list2.append(list1[i])\n",
        "\n",
        "print(\"List1:\",list1)\n",
        "print(\"Copy of the List1:\",list2)"
      ],
      "metadata": {
        "id": "VVS3T-cUlJBL",
        "colab": {
          "base_uri": "https://localhost:8080/"
        },
        "outputId": "6a1c72d4-f166-4ec3-9acd-feacd9ab520e"
      },
      "execution_count": null,
      "outputs": [
        {
          "output_type": "stream",
          "name": "stdout",
          "text": [
            "List1: [4, 5, 6, 7, 8, 9]\n",
            "Copy of the List1: [4, 5, 6, 7, 8, 9]\n"
          ]
        }
      ]
    },
    {
      "cell_type": "code",
      "source": [
        "# 12. Write a program to get sum of number of digit in a list\n",
        "list1=[4,5,6,7,8,9]\n",
        "sum=0\n",
        "for i in list1:\n",
        "  sum+=i\n",
        "print(list1)\n",
        "print(\"Sum:\",sum)"
      ],
      "metadata": {
        "id": "Y1sa4rKklJ3S",
        "colab": {
          "base_uri": "https://localhost:8080/"
        },
        "outputId": "477f534c-53d8-4ea9-e5be-586bd9ed19e0"
      },
      "execution_count": null,
      "outputs": [
        {
          "output_type": "stream",
          "name": "stdout",
          "text": [
            "[4, 5, 6, 7, 8, 9]\n",
            "Sum: 39\n"
          ]
        }
      ]
    },
    {
      "cell_type": "code",
      "source": [
        "# 13. Write a program to get the smallest number in a list\n",
        "\n",
        "# Note => without using reverse(), sort() and slicing operator\n",
        "\n",
        "list1=[4,5,6,2,-1,7,8,9,-3,-2]\n",
        "small=list1[0]\n",
        "\n",
        "for i in range (1,len(list1)):\n",
        "  if(small>list1[i]):\n",
        "    small=list1[i]\n",
        "print(list1)\n",
        "print(\"Smallest number:\",small)"
      ],
      "metadata": {
        "id": "k4DVCGuDlK66",
        "colab": {
          "base_uri": "https://localhost:8080/"
        },
        "outputId": "21172ae9-262d-4b71-fa3a-a0b247f0a7d8"
      },
      "execution_count": null,
      "outputs": [
        {
          "output_type": "stream",
          "name": "stdout",
          "text": [
            "[4, 5, 6, 2, -1, 7, 8, 9, -3, -2]\n",
            "Smallest number: -3\n"
          ]
        }
      ]
    },
    {
      "cell_type": "code",
      "source": [
        "# 14. Write a program to print the count of even and odd number from a list\n",
        "\n",
        "list1=[4,5,6,7,8,9]\n",
        "evencount=0\n",
        "oddcount=0\n",
        "for i in list1:\n",
        "  if(i%2==0):\n",
        "    evencount+=1\n",
        "  else:\n",
        "    oddcount+=1\n",
        "print(\"Total Even Numbers:\",evencount)\n",
        "print(\"Total Odd Numbers:\",oddcount)\n"
      ],
      "metadata": {
        "id": "K88YeK1elMo-",
        "colab": {
          "base_uri": "https://localhost:8080/"
        },
        "outputId": "b7364167-802f-4570-eab7-5da3a331d4ba"
      },
      "execution_count": null,
      "outputs": [
        {
          "output_type": "stream",
          "name": "stdout",
          "text": [
            "Total Even Numbers 3\n",
            "Total Odd Numbers 3\n"
          ]
        }
      ]
    },
    {
      "cell_type": "code",
      "source": [
        "# 15. Write a program to get count of unique values inside a list\n",
        "# a. input_list = [1, 2, 2, 5, 8, 4, 4, 8]\n",
        "# b. Output => 1,5\n",
        "\n",
        "input_list = [1, 2, 2, 5, 8, 4, 4, 8]\n",
        "unique_list=[]\n",
        "for i in range(len(input_list)):\n",
        "    is_unique = True\n",
        "    for j in range(len(input_list)):\n",
        "        if i != j and input_list[i] == input_list[j]:\n",
        "            is_unique = False\n",
        "            break\n",
        "    if is_unique:\n",
        "        unique_list.append(input_list[i])\n",
        "\n",
        "print(unique_list)"
      ],
      "metadata": {
        "id": "YKDp986GlOh3",
        "colab": {
          "base_uri": "https://localhost:8080/"
        },
        "outputId": "f4642ed0-cb1a-4a0f-cfb9-27a21aed6eea"
      },
      "execution_count": 60,
      "outputs": [
        {
          "output_type": "stream",
          "name": "stdout",
          "text": [
            "[1, 5]\n"
          ]
        }
      ]
    },
    {
      "cell_type": "code",
      "source": [],
      "metadata": {
        "id": "PEDsZk82dA7o"
      },
      "execution_count": null,
      "outputs": []
    }
  ]
}