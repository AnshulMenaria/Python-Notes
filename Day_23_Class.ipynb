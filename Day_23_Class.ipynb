{
 "cells": [
  {
   "cell_type": "code",
   "execution_count": 25,
   "id": "aefcf4f3-585c-4ae1-89ce-953aae64665e",
   "metadata": {},
   "outputs": [],
   "source": [
    "class BankAccount:\n",
    "    def __init__(self,account_holder,balance):\n",
    "        self.__holder = account_holder\n",
    "        self.__bal = balance\n",
    "\n",
    "    def account_holder(self):\n",
    "        return self.__holder\n",
    "\n",
    "    def balance(self):\n",
    "        return self.__bal\n",
    "\n",
    "    def deposit(self,amount):\n",
    "        if amount >0:\n",
    "            self.__bal += amount\n",
    "            return f\"Deposit Successful! New Balance: {self.__bal}\"\n",
    "        else:\n",
    "            return \"Invalid Deposit Amount\"\n",
    "\n",
    "    def withdrawal(self,amount):\n",
    "        if amount<self.__bal:\n",
    "            self.__bal -= amount\n",
    "            return f\"Withdrwal Successfull! Remaining Balance:{self.__bal}\"\n",
    "\n",
    "        else:\n",
    "            return \"Insufficient Balance\"\n",
    "\n",
    "account=BankAccount(\"Anshul\",20000)\n",
    "\n"
   ]
  },
  {
   "cell_type": "code",
   "execution_count": 26,
   "id": "20157969-65db-45df-b3a8-7bfe5e386bf8",
   "metadata": {},
   "outputs": [
    {
     "name": "stdout",
     "output_type": "stream",
     "text": [
      "Anshul\n",
      "20000\n",
      "Deposit Successful! New Balance: 40000\n",
      "Withdrwal Successfull! Remaining Balance:30000\n",
      "<bound method BankAccount.balance of <__main__.BankAccount object at 0x000001DFF99502E0>>\n"
     ]
    }
   ],
   "source": [
    "print(account.account_holder())\n",
    "print(account.balance())\n",
    "print(account.deposit(20000))\n",
    "print(account.withdrawal(10000))\n",
    "\n",
    "print(account.balance)"
   ]
  },
  {
   "cell_type": "code",
   "execution_count": 33,
   "id": "e8c87e41-70fe-4608-9313-40970c2a4360",
   "metadata": {},
   "outputs": [
    {
     "name": "stdout",
     "output_type": "stream",
     "text": [
      "Anshul\n",
      "50\n",
      "Grade Updated Successfully!\n",
      "80\n",
      "Invalid Grade! Must be between 0 to 100\n"
     ]
    }
   ],
   "source": [
    "class Student:\n",
    "    def __init__(self,name,grade):\n",
    "        self.name = name\n",
    "        self.__grade = grade\n",
    "\n",
    "    def get_grade(self):\n",
    "        return self.__grade\n",
    "\n",
    "    def set_grade(self,new_grade):\n",
    "        if(0<=new_grade<=100):\n",
    "            self.__grade = new_grade\n",
    "            return \"Grade Updated Successfully!\"\n",
    "        else:\n",
    "            return \"Invalid Grade! Must be between 0 to 100\"\n",
    "\n",
    "student = Student(\"Anshul\",50)\n",
    "print(student.name)\n",
    "print(student.get_grade())\n",
    "print(student.set_grade(80))\n",
    "print(student.get_grade())\n",
    "print(student.set_grade(200))\n"
   ]
  },
  {
   "cell_type": "code",
   "execution_count": null,
   "id": "a1114b6f-60dd-4f41-b8ce-ee6a91d9ed65",
   "metadata": {},
   "outputs": [],
   "source": []
  }
 ],
 "metadata": {
  "kernelspec": {
   "display_name": "Python 3 (ipykernel)",
   "language": "python",
   "name": "python3"
  },
  "language_info": {
   "codemirror_mode": {
    "name": "ipython",
    "version": 3
   },
   "file_extension": ".py",
   "mimetype": "text/x-python",
   "name": "python",
   "nbconvert_exporter": "python",
   "pygments_lexer": "ipython3",
   "version": "3.10.11"
  }
 },
 "nbformat": 4,
 "nbformat_minor": 5
}
