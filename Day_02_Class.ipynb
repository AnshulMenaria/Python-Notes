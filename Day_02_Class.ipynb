{
  "nbformat": 4,
  "nbformat_minor": 0,
  "metadata": {
    "colab": {
      "provenance": [],
      "authorship_tag": "ABX9TyPU8WsmSg4mx3p5PdJ46mVj",
      "include_colab_link": true
    },
    "kernelspec": {
      "name": "python3",
      "display_name": "Python 3"
    },
    "language_info": {
      "name": "python"
    }
  },
  "cells": [
    {
      "cell_type": "markdown",
      "metadata": {
        "id": "view-in-github",
        "colab_type": "text"
      },
      "source": [
        "<a href=\"https://colab.research.google.com/github/AnshulMenaria/Python-Assignments/blob/main/Day_2_Class.ipynb\" target=\"_parent\"><img src=\"https://colab.research.google.com/assets/colab-badge.svg\" alt=\"Open In Colab\"/></a>"
      ]
    },
    {
      "cell_type": "code",
      "execution_count": null,
      "metadata": {
        "id": "LdJGcCQYKAfR"
      },
      "outputs": [],
      "source": [
        "#condition statement\n",
        "# 3 variable => minimum value out of the same\n",
        "\n"
      ]
    },
    {
      "cell_type": "code",
      "source": [],
      "metadata": {
        "colab": {
          "base_uri": "https://localhost:8080/"
        },
        "id": "IXYJVdLiOAei",
        "outputId": "379295a6-06fa-4c69-d8fb-0f79729f31f1"
      },
      "execution_count": null,
      "outputs": [
        {
          "output_type": "stream",
          "name": "stdout",
          "text": [
            "Hello\n"
          ]
        }
      ]
    },
    {
      "cell_type": "code",
      "source": [
        "a=35\n",
        "if(a%2==0 ):\n",
        "  print(\"Hii\")\n",
        "elif(a%5==0):\n",
        "  print(\"Hello\")\n",
        "else:\n",
        "  print(\"Bye\")"
      ],
      "metadata": {
        "colab": {
          "base_uri": "https://localhost:8080/"
        },
        "id": "9XK3FOoBOPdK",
        "outputId": "06f23930-6895-40bb-b46d-349731933ea5"
      },
      "execution_count": null,
      "outputs": [
        {
          "output_type": "stream",
          "name": "stdout",
          "text": [
            "Hello\n"
          ]
        }
      ]
    },
    {
      "cell_type": "code",
      "source": [
        "\n",
        "\n",
        "age=int(input(\"Enter the value:\"))\n",
        "if(age>10 and age<18):\n",
        "  print(\"Child\")\n",
        "elif(age>18 and age<30):\n",
        "  print(\"Adult\")\n",
        "elif(age>30 and age<60):\n",
        "  print(\"Mature\")\n",
        "elif(age>60):\n",
        "  print(\"Old\")\n",
        "else:\n",
        "  print(\"infant\")"
      ],
      "metadata": {
        "colab": {
          "base_uri": "https://localhost:8080/"
        },
        "id": "eNbNDKYOPlyM",
        "outputId": "7192ce2d-5a1f-42f4-9018-4be5b55edd80"
      },
      "execution_count": null,
      "outputs": [
        {
          "output_type": "stream",
          "name": "stdout",
          "text": [
            "Enter the value:20\n",
            "Adult\n"
          ]
        }
      ]
    },
    {
      "cell_type": "code",
      "source": [
        "age=int(input(\"Enter the value:\"))\n",
        "if(age>5):\n",
        "  print(\"Aadhar Card Created\")\n",
        "  if(age>18):\n",
        "    print(\"Pan Card Created and Linked with Aadhar card\")\n",
        "  else:\n",
        "    print(\"Pan Card No Created Because Age is less tan 18\")\n",
        "else:\n",
        "  print(\"Aadhar Card No Created Because Age is less tan 5\")"
      ],
      "metadata": {
        "colab": {
          "base_uri": "https://localhost:8080/"
        },
        "id": "fGCbURM7Ql6E",
        "outputId": "96ca06a6-f9b4-4dab-95fb-bf7388e25975"
      },
      "execution_count": null,
      "outputs": [
        {
          "output_type": "stream",
          "name": "stdout",
          "text": [
            "Enter the value:20\n",
            "Aadhar Card Created\n",
            "Pan Card Created and Linked with Aadhar card\n"
          ]
        }
      ]
    },
    {
      "cell_type": "code",
      "source": [
        "num=int(input(\"Enter the value:\"))\n",
        "if(num%2==0):\n",
        "  if(num%3==0):\n",
        "    print(\"Number is divisible by 2 and 3\")\n",
        "  else:\n",
        "    print(\"Number is divisible by 2\")\n",
        "else:\n",
        "  print(\"number is not divisible \")"
      ],
      "metadata": {
        "colab": {
          "base_uri": "https://localhost:8080/"
        },
        "id": "KdqctifTUBLa",
        "outputId": "f7351609-5352-4663-81e0-c50b29bc2f04"
      },
      "execution_count": null,
      "outputs": [
        {
          "output_type": "stream",
          "name": "stdout",
          "text": [
            "Enter the value:18\n",
            "Number is divisible by 2 and 3\n"
          ]
        }
      ]
    },
    {
      "cell_type": "code",
      "source": [],
      "metadata": {
        "id": "2Ko16DZkUmRV"
      },
      "execution_count": null,
      "outputs": []
    },
    {
      "cell_type": "code",
      "source": [],
      "metadata": {
        "id": "l_7JhguCYfo5"
      },
      "execution_count": null,
      "outputs": []
    },
    {
      "cell_type": "code",
      "source": [],
      "metadata": {
        "id": "Uwgw2bYfWoOS"
      },
      "execution_count": null,
      "outputs": []
    }
  ]
}
