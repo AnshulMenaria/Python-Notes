{
 "cells": [
  {
   "cell_type": "code",
   "execution_count": 4,
   "id": "c261c84d-c5bc-4188-9f43-097b0ee4576f",
   "metadata": {},
   "outputs": [],
   "source": [
    "# Inheritance:\n",
    "\n",
    "# It is a fundamental concept in OOPs that allow a class (child class) to inherit attribute and methods from another class (Parent class) \n",
    "# this promotes code reusability and modularity\n",
    "\n",
    "# Key Benifits of Inheritance:\n",
    "\n",
    "# 1.) Code Reusability - The child class can reuse the code in the parent class\n",
    "# 2.) Extensibility - The child class can add or modify the functionalitites of the parent class\n",
    "# 3.) Heirarichal Structure - Relationship between classes are more organized\n",
    "\n",
    "# Types of Inheritance:\n",
    "\n",
    "# 1.) Single Inheritance - A child class inherits from one parent class\n",
    "# 2.) Multiple Inheritance - A child class inherits from two or more parent classes\n",
    "# 3.) Multilevel Inheritance - A child class inherits from a parent class and that parent class inherits from another parent classes\n",
    "\n",
    "\n",
    "# Class Method:\n",
    "\n",
    "# It is a method that operates on the class itself rather than or instance of the class, it is defined using the @ class method decorator\n",
    "# and takes \"CLS\"(same as self) class reference as its first parameter\n",
    "\n",
    "# Features of class parameter:\n",
    "\n",
    "# 1.) It operates on the class rather then instance specific data\n",
    "# 2.) We can modify tthe class state using CLS\n",
    "# 3.) It can be called on both class and its objects\n"
   ]
  },
  {
   "cell_type": "code",
   "execution_count": 3,
   "id": "73965d53-627b-4a91-b4a2-28cc1b0fe341",
   "metadata": {},
   "outputs": [
    {
     "name": "stdout",
     "output_type": "stream",
     "text": [
      "Engine Started\n",
      "wheels are rotating\n",
      "Driving\n"
     ]
    }
   ],
   "source": [
    "# Multiple Inheritance :\n",
    "\n",
    "class Engine:\n",
    "    def start_engine(self):\n",
    "        print(\"Engine Started\")\n",
    "\n",
    "class Wheels:\n",
    "    def rotate_wheels(self):\n",
    "        print(\"wheels are rotating\")\n",
    "\n",
    "class Car(Engine,Wheels):\n",
    "    def drive(self):\n",
    "        print(\"Driving\")\n",
    "        \n",
    "mycar = Car()\n",
    "mycar.start_engine()\n",
    "mycar.rotate_wheels()\n",
    "mycar.drive()"
   ]
  },
  {
   "cell_type": "code",
   "execution_count": 6,
   "id": "91a1349c-ef52-42ed-995f-fb1f7d90b2d9",
   "metadata": {},
   "outputs": [
    {
     "name": "stdout",
     "output_type": "stream",
     "text": [
      "Animal is eating\n",
      "Dog is barking\n",
      "Puppy is weeping\n"
     ]
    }
   ],
   "source": [
    "# Multilevel Inheritance :\n",
    "\n",
    "class Animal:\n",
    "    def eat(self):\n",
    "        print(\"Animal is eating\")\n",
    "\n",
    "class Dog(Animal):\n",
    "    def bark(self):\n",
    "        print(\"Dog is barking\")\n",
    "\n",
    "class Puppy(Dog):\n",
    "    def weep(self):\n",
    "        print(\"Puppy is weeping\")\n",
    "\n",
    "puppy = Puppy()\n",
    "puppy.eat()\n",
    "puppy.bark()\n",
    "puppy.weep()"
   ]
  },
  {
   "cell_type": "code",
   "execution_count": 12,
   "id": "b4fbaf4c-7f95-42c9-9f14-1e129ef50504",
   "metadata": {},
   "outputs": [
    {
     "name": "stdout",
     "output_type": "stream",
     "text": [
      "Tech Solution\n",
      "Tech Solution\n",
      "Tech Solution\n",
      "ABC\n",
      "ABC\n",
      "ABC\n",
      "ABC\n",
      "XYZ\n",
      "XYZ\n",
      "XYZ\n",
      "XYZ\n"
     ]
    }
   ],
   "source": [
    "class Employee:\n",
    "    company_name = \"Tech Solution\"\n",
    "\n",
    "    def __init__(self,name,salary):\n",
    "        self.name=name\n",
    "        self.sal=salary\n",
    "\n",
    "    @classmethod\n",
    "    def change_company_name(cls,new_name):\n",
    "        cls.company_name = new_name\n",
    "\n",
    "emp1 = Employee(\"Sam\",50000)\n",
    "print(emp1.company_name)\n",
    "emp2 = Employee(\"Ram\",40000)\n",
    "print(emp2.company_name)\n",
    "emp3 = Employee(\"Shyam\",30000)\n",
    "print(emp3.company_name)\n",
    "\n",
    "Employee.change_company_name(\"ABC\")\n",
    "print(Employee.company_name)\n",
    "print(emp1.company_name)\n",
    "print(emp2.company_name)\n",
    "print(emp3.company_name)\n",
    "\n",
    "emp1.change_company_name(\"XYZ\")\n",
    "print(Employee.company_name)\n",
    "print(emp1.company_name)\n",
    "print(emp2.company_name)\n",
    "print(emp3.company_name)\n",
    "\n",
    "# Simply, updating name using class or object it will be changed for every object or class"
   ]
  },
  {
   "cell_type": "code",
   "execution_count": null,
   "id": "908f3400-eed8-4a64-8241-436fad494f4c",
   "metadata": {},
   "outputs": [],
   "source": [
    "s"
   ]
  }
 ],
 "metadata": {
  "kernelspec": {
   "display_name": "Python 3 (ipykernel)",
   "language": "python",
   "name": "python3"
  },
  "language_info": {
   "codemirror_mode": {
    "name": "ipython",
    "version": 3
   },
   "file_extension": ".py",
   "mimetype": "text/x-python",
   "name": "python",
   "nbconvert_exporter": "python",
   "pygments_lexer": "ipython3",
   "version": "3.10.11"
  }
 },
 "nbformat": 4,
 "nbformat_minor": 5
}
