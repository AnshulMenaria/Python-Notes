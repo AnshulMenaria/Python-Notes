{
  "nbformat": 4,
  "nbformat_minor": 0,
  "metadata": {
    "colab": {
      "provenance": [],
      "authorship_tag": "ABX9TyPP7FlI+J8e28cl4iD8JJtB",
      "include_colab_link": true
    },
    "kernelspec": {
      "name": "python3",
      "display_name": "Python 3"
    },
    "language_info": {
      "name": "python"
    }
  },
  "cells": [
    {
      "cell_type": "markdown",
      "metadata": {
        "id": "view-in-github",
        "colab_type": "text"
      },
      "source": [
        "<a href=\"https://colab.research.google.com/github/AnshulMenaria/Python-Notes/blob/main/Day_16_Class.ipynb\" target=\"_parent\"><img src=\"https://colab.research.google.com/assets/colab-badge.svg\" alt=\"Open In Colab\"/></a>"
      ]
    },
    {
      "cell_type": "code",
      "execution_count": 5,
      "metadata": {
        "colab": {
          "base_uri": "https://localhost:8080/"
        },
        "id": "Y9CoZpOveIE_",
        "outputId": "86413854-de1e-4f2f-8b10-a2d9d522a21e"
      },
      "outputs": [
        {
          "output_type": "execute_result",
          "data": {
            "text/plain": [
              "['hey', 'hyy']"
            ]
          },
          "metadata": {},
          "execution_count": 5
        }
      ],
      "source": [
        "def func(x):\n",
        "  y=x.split(\" \")\n",
        "  return y\n",
        "\n",
        "a=func\n",
        "a(\"hey hyy\")"
      ]
    },
    {
      "cell_type": "code",
      "source": [
        "a=lambda x:x.split(\" \")\n",
        "a(\"hey hyy\")"
      ],
      "metadata": {
        "colab": {
          "base_uri": "https://localhost:8080/"
        },
        "id": "zujm4Q0weOti",
        "outputId": "51caae58-47f2-455d-b890-eacf2ee159c6"
      },
      "execution_count": 3,
      "outputs": [
        {
          "output_type": "execute_result",
          "data": {
            "text/plain": [
              "['hey', 'hyy']"
            ]
          },
          "metadata": {},
          "execution_count": 3
        }
      ]
    },
    {
      "cell_type": "code",
      "source": [
        "def func(x):\n",
        "  return x*5\n",
        "\n",
        "func(50)"
      ],
      "metadata": {
        "colab": {
          "base_uri": "https://localhost:8080/"
        },
        "id": "ppjo6VwCeYJY",
        "outputId": "353acc3d-3a91-45eb-8a10-3771babb8d66"
      },
      "execution_count": 6,
      "outputs": [
        {
          "output_type": "execute_result",
          "data": {
            "text/plain": [
              "250"
            ]
          },
          "metadata": {},
          "execution_count": 6
        }
      ]
    },
    {
      "cell_type": "code",
      "source": [
        "map(func,[10,20])"
      ],
      "metadata": {
        "colab": {
          "base_uri": "https://localhost:8080/"
        },
        "id": "ADnUhlo_gGbB",
        "outputId": "000b8f51-9fc7-4319-d756-41905f7fa77f"
      },
      "execution_count": 7,
      "outputs": [
        {
          "output_type": "execute_result",
          "data": {
            "text/plain": [
              "<map at 0x7ca4ef3c73d0>"
            ]
          },
          "metadata": {},
          "execution_count": 7
        }
      ]
    },
    {
      "cell_type": "code",
      "source": [
        "# using next\n",
        "a=map(func,[10,20,30])\n",
        "next(a) # it takes first element"
      ],
      "metadata": {
        "colab": {
          "base_uri": "https://localhost:8080/"
        },
        "id": "7J1thCf2gXAR",
        "outputId": "e247d84b-e9b1-4617-e865-2dd68ecdb1e4"
      },
      "execution_count": 11,
      "outputs": [
        {
          "output_type": "execute_result",
          "data": {
            "text/plain": [
              "50"
            ]
          },
          "metadata": {},
          "execution_count": 11
        }
      ]
    },
    {
      "cell_type": "code",
      "source": [
        "\n",
        "next(a) # then second element"
      ],
      "metadata": {
        "colab": {
          "base_uri": "https://localhost:8080/"
        },
        "id": "RpHrLiYtgh0x",
        "outputId": "29da4ced-919a-4334-fb87-15af69bb009e"
      },
      "execution_count": 12,
      "outputs": [
        {
          "output_type": "execute_result",
          "data": {
            "text/plain": [
              "100"
            ]
          },
          "metadata": {},
          "execution_count": 12
        }
      ]
    },
    {
      "cell_type": "code",
      "source": [
        "next(a) # now third time takes the third element\n",
        "#map runs functions and give memory address and next runs map and retunr the output of the memory address"
      ],
      "metadata": {
        "colab": {
          "base_uri": "https://localhost:8080/"
        },
        "id": "r5VHxIPUgotp",
        "outputId": "2b207591-c47a-49dd-9adc-19d6a08a17b7"
      },
      "execution_count": 13,
      "outputs": [
        {
          "output_type": "execute_result",
          "data": {
            "text/plain": [
              "150"
            ]
          },
          "metadata": {},
          "execution_count": 13
        }
      ]
    },
    {
      "cell_type": "code",
      "source": [
        "def func(x):\n",
        "  return x*5\n",
        "\n",
        "func(50)\n",
        "\n",
        "list(map(func,[10,20]))"
      ],
      "metadata": {
        "colab": {
          "base_uri": "https://localhost:8080/"
        },
        "id": "LHrQ7MM7g52a",
        "outputId": "02c9fe36-a29c-458d-fbf1-da1ff77b4dec"
      },
      "execution_count": 14,
      "outputs": [
        {
          "output_type": "execute_result",
          "data": {
            "text/plain": [
              "[50, 100]"
            ]
          },
          "metadata": {},
          "execution_count": 14
        }
      ]
    },
    {
      "cell_type": "code",
      "source": [
        "\n",
        "a=map(lambda num : num*5,[10,20])\n",
        "next(a)"
      ],
      "metadata": {
        "colab": {
          "base_uri": "https://localhost:8080/"
        },
        "id": "oA4QKkbfhwBx",
        "outputId": "bdb4cdef-22d3-4867-9eb4-8769422540d9"
      },
      "execution_count": 16,
      "outputs": [
        {
          "output_type": "execute_result",
          "data": {
            "text/plain": [
              "50"
            ]
          },
          "metadata": {},
          "execution_count": 16
        }
      ]
    },
    {
      "cell_type": "code",
      "source": [
        "\n",
        "list(filter(lambda num : num%2==0 ,[1, 2, 3, 4, 5, 6, 7, 8, 9, 10]))"
      ],
      "metadata": {
        "colab": {
          "base_uri": "https://localhost:8080/"
        },
        "id": "sOAJ0m2miDP5",
        "outputId": "6127c7a0-f7a0-4617-eb76-d6bedfd85afc"
      },
      "execution_count": 25,
      "outputs": [
        {
          "output_type": "execute_result",
          "data": {
            "text/plain": [
              "[2, 4, 6, 8, 10]"
            ]
          },
          "metadata": {},
          "execution_count": 25
        }
      ]
    },
    {
      "cell_type": "code",
      "source": [
        "a=filter(lambda num : num%2==0 ,[1, 2, 3, 4, 5, 6, 7, 8, 9, 10])\n",
        "next(a)"
      ],
      "metadata": {
        "colab": {
          "base_uri": "https://localhost:8080/"
        },
        "id": "a_6MU7hIi4i9",
        "outputId": "015793ec-237b-46e1-dd6b-2d96d9b59f85"
      },
      "execution_count": 26,
      "outputs": [
        {
          "output_type": "execute_result",
          "data": {
            "text/plain": [
              "2"
            ]
          },
          "metadata": {},
          "execution_count": 26
        }
      ]
    },
    {
      "cell_type": "code",
      "source": [
        "#w+,a,\n",
        "\n",
        "#a2 => to check whether a number is  a palindrome or not\n",
        "# to check whether a string is palindrome or not\n",
        "\n",
        "# to take a number and print all its factor\n",
        "#list => [10,20,30,40123,123,123]\n",
        "# to check which number are more then 70\n",
        "\n",
        "  #     *\n",
        "  #   *   *\n",
        "  # *   *   *\n",
        "\n",
        " #*   *   *   *\n",
        "  # *   *   *\n",
        "  #   *   *\n",
        "  #     *\n",
        "\n",
        "  #list => [10,20,30,40123,123,123]\n",
        "# to check which two number make the value 143\n"
      ],
      "metadata": {
        "id": "X67SxbSamlyS"
      },
      "execution_count": null,
      "outputs": []
    }
  ]
}