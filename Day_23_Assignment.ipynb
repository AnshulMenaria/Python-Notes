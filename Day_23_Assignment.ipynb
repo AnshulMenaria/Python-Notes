{
 "cells": [
  {
   "cell_type": "code",
   "execution_count": 4,
   "id": "45bba882-7cef-4f03-a9d3-6680885145cb",
   "metadata": {},
   "outputs": [
    {
     "name": "stdout",
     "output_type": "stream",
     "text": [
      "Name:Anshul\n",
      "Age:20\n",
      "All Records:['admitted in 2020']\n",
      "['admitted in 2020', 'surgery in 2020']\n",
      "All Records:['admitted in 2020', 'surgery in 2020']\n"
     ]
    }
   ],
   "source": [
    "# Case Study 1: Healthcare System (Patient Record\n",
    "# Management)\n",
    "# Problem: Develop a system for managing patient records in a hospital where:\n",
    "# Patient details (name, age, and medical history) should be private.\n",
    "# Only authorized methods can retrieve or update medical history.\n",
    "# Provide a method to add new medical records while keeping previous data secure.\n",
    "\n",
    "class P_R_M:\n",
    "    def __init__(self,name,age,history):\n",
    "        self.__name = name \n",
    "        self.__age = age\n",
    "        self.__his = [history]\n",
    "\n",
    "    def get_name(self):\n",
    "        return f\"Name:{self.__name}\"\n",
    "\n",
    "    def get_age(self):\n",
    "        return f\"Age:{self.__age}\"\n",
    "\n",
    "    def get_history(self):\n",
    "        return f\"All Records:{self.__his}\"\n",
    "\n",
    "    def new_records(self,new_record):\n",
    "        self.__his.append(new_record)\n",
    "        return self.__his\n",
    "\n",
    "\n",
    "\n",
    "p1=P_R_M(\"Anshul\",20,\"admitted in 2020\")\n",
    "print(p1.get_name())\n",
    "print(p1.get_age())\n",
    "print(p1.get_history())\n",
    "print(p1.new_records(\"surgery in 2020\"))\n",
    "print(p1.get_history())\n"
   ]
  },
  {
   "cell_type": "code",
   "execution_count": null,
   "id": "689a8647-1cd6-4589-9522-cf145e5ceaba",
   "metadata": {},
   "outputs": [],
   "source": []
  }
 ],
 "metadata": {
  "kernelspec": {
   "display_name": "Python 3 (ipykernel)",
   "language": "python",
   "name": "python3"
  },
  "language_info": {
   "codemirror_mode": {
    "name": "ipython",
    "version": 3
   },
   "file_extension": ".py",
   "mimetype": "text/x-python",
   "name": "python",
   "nbconvert_exporter": "python",
   "pygments_lexer": "ipython3",
   "version": "3.10.11"
  }
 },
 "nbformat": 4,
 "nbformat_minor": 5
}
