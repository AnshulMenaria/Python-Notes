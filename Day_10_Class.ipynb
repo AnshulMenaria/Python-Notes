{
  "nbformat": 4,
  "nbformat_minor": 0,
  "metadata": {
    "colab": {
      "provenance": [],
      "gpuType": "T4",
      "authorship_tag": "ABX9TyOeT7ozjeplf48P2ih8aW6y",
      "include_colab_link": true
    },
    "kernelspec": {
      "name": "python3",
      "display_name": "Python 3"
    },
    "language_info": {
      "name": "python"
    },
    "accelerator": "GPU"
  },
  "cells": [
    {
      "cell_type": "markdown",
      "metadata": {
        "id": "view-in-github",
        "colab_type": "text"
      },
      "source": [
        "<a href=\"https://colab.research.google.com/github/AnshulMenaria/Python-Notes/blob/main/Day_10_Class.ipynb\" target=\"_parent\"><img src=\"https://colab.research.google.com/assets/colab-badge.svg\" alt=\"Open In Colab\"/></a>"
      ]
    },
    {
      "cell_type": "code",
      "execution_count": null,
      "metadata": {
        "colab": {
          "base_uri": "https://localhost:8080/"
        },
        "id": "59OxD8LO02oh",
        "outputId": "8efb6914-893e-451b-b026-4a697a4cd8fe"
      },
      "outputs": [
        {
          "output_type": "stream",
          "name": "stdout",
          "text": [
            "Enter Shifting Value:8\n",
            "[0, 0, 0, 10, 0]\n",
            "[0, 0, 0, 10, 20]\n",
            "[40, 0, 0, 10, 20]\n",
            "[40, 60, 0, 10, 20]\n",
            "[40, 60, 7, 10, 20]\n"
          ]
        }
      ],
      "source": [
        "list1=[10,20,40,60,7]\n",
        "k=int(input(\"Enter Shifting Value:\"))\n",
        "k=k%len(list1)\n",
        "list2=[0]*len(list1)\n",
        "for i in range(len(list1)):\n",
        "  list2[(i+k)%len(list1)]=list1[i]\n",
        "  print(list2)"
      ]
    },
    {
      "cell_type": "code",
      "source": [],
      "metadata": {
        "id": "oceR0nqs7g77"
      },
      "execution_count": null,
      "outputs": []
    }
  ]
}