{
  "nbformat": 4,
  "nbformat_minor": 0,
  "metadata": {
    "colab": {
      "provenance": [],
      "authorship_tag": "ABX9TyNhD+5X4mmNVoAKdCnNCX1V",
      "include_colab_link": true
    },
    "kernelspec": {
      "name": "python3",
      "display_name": "Python 3"
    },
    "language_info": {
      "name": "python"
    }
  },
  "cells": [
    {
      "cell_type": "markdown",
      "metadata": {
        "id": "view-in-github",
        "colab_type": "text"
      },
      "source": [
        "<a href=\"https://colab.research.google.com/github/AnshulMenaria/Python-Notes/blob/main/Day_09_Assignment.ipynb\" target=\"_parent\"><img src=\"https://colab.research.google.com/assets/colab-badge.svg\" alt=\"Open In Colab\"/></a>"
      ]
    },
    {
      "cell_type": "code",
      "execution_count": null,
      "metadata": {
        "colab": {
          "base_uri": "https://localhost:8080/"
        },
        "id": "jNq-pVY6a9va",
        "outputId": "aeb93237-abe0-4311-f787-824ed78e976a"
      },
      "outputs": [
        {
          "output_type": "stream",
          "name": "stdout",
          "text": [
            "[1, 3, 5, 7, 9, 11, 13, 15, 17, 19, 21, 23, 25, 27, 29, 31, 33, 35, 37, 39, 41, 43, 45, 47, 49]\n"
          ]
        }
      ],
      "source": [
        "# 1. Write a program to print the first 25 odd numbers in list\n",
        "\n",
        "list1=[]\n",
        "\n",
        "count=0\n",
        "num=1\n",
        "while(count<25):\n",
        "  if(num%2!=0):\n",
        "    list1.append(num)\n",
        "    count+=1\n",
        "  num+=1\n",
        "print(list1)"
      ]
    },
    {
      "cell_type": "code",
      "source": [
        "# 2. Arrange string characters such that lowercase letters should come first\n",
        "\n",
        "string=input(\"Enter string to arrange:\")\n",
        "list2=[]\n",
        "for i in string:\n",
        "  if(ord(i)>=97 and ord(i)<=122 ):\n",
        "    list2.append(i)\n",
        "for i in string:\n",
        "  if(ord(i)>=65 and ord(i)<=90 ):\n",
        "    list2.append(i)\n",
        "print(list2)"
      ],
      "metadata": {
        "colab": {
          "base_uri": "https://localhost:8080/"
        },
        "id": "S2B1NJXibA8_",
        "outputId": "7cf34941-021f-4ef9-de8e-685f2ad8b501"
      },
      "execution_count": null,
      "outputs": [
        {
          "output_type": "stream",
          "name": "stdout",
          "text": [
            "Enter string to arrange:ngfnLJK Vghfgv\n",
            "['n', 'g', 'f', 'n', 'g', 'h', 'f', 'g', 'v', 'L', 'J', 'K', 'V']\n"
          ]
        }
      ]
    },
    {
      "cell_type": "code",
      "source": [
        "# 3. Count all letters, digits, and special symbols from a given string\n",
        "# a. given-->str1 = \"P@#yn26at^&i5ve\"\n",
        "# b. expected-->Total counts of chars, digits, and symbols\n",
        "\n",
        "string1 = \"P@#yn26at^&i5ve\"\n",
        "char=0\n",
        "digit=0\n",
        "symbol=0\n",
        "char_list=[]\n",
        "digit_list=[]\n",
        "symbol_list=[]\n",
        "\n",
        "\n",
        "for i in string1:\n",
        "  if(ord(i)>=65 and ord(i)<=90 or ord(i)>=97 and ord(i)<=122):\n",
        "    char+=1\n",
        "    char_list.append(i)\n",
        "  elif(ord(i)>=48 and ord(i)<=57):\n",
        "    digit+=1\n",
        "    digit_list.append(i)\n",
        "  else:\n",
        "     symbol+=1\n",
        "     symbol_list.append(i)\n",
        "\n",
        "print(\"Count of Characters:\",char)\n",
        "print(char_list)\n",
        "print(\"Count of Digits:\",digit)\n",
        "print(digit_list)\n",
        "print(\"Count of Symbols:\",symbol)\n",
        "print(symbol_list)"
      ],
      "metadata": {
        "colab": {
          "base_uri": "https://localhost:8080/"
        },
        "id": "DrL1_KQkbE31",
        "outputId": "31c3a635-81b8-49b6-c019-28b623e1608d"
      },
      "execution_count": null,
      "outputs": [
        {
          "output_type": "stream",
          "name": "stdout",
          "text": [
            "Count of Characters: 8\n",
            "['P', 'y', 'n', 'a', 't', 'i', 'v', 'e']\n",
            "Count of Digits: 3\n",
            "['2', '6', '5']\n",
            "Count of Symbols: 4\n",
            "['@', '#', '^', '&']\n"
          ]
        }
      ]
    },
    {
      "cell_type": "code",
      "source": [
        "# 4. Remove empty strings from a list of strings\n",
        "\n",
        "inp=input(\"Enter list of strings:\")\n",
        "list3=[]\n",
        "\n",
        "for i in inp:\n",
        "  list3.append(i)\n",
        "for i in inp:\n",
        "  if(ord(i)==32):\n",
        "    list3.remove(i)\n",
        "print(list3)"
      ],
      "metadata": {
        "colab": {
          "base_uri": "https://localhost:8080/"
        },
        "id": "OASjS0-GbGL3",
        "outputId": "739b9195-a95a-4e22-f787-ab42a557c68d"
      },
      "execution_count": null,
      "outputs": [
        {
          "output_type": "stream",
          "name": "stdout",
          "text": [
            "Enter list of strings:jkasb  hsan a\n",
            "['j', 'k', 'a', 's', 'b', 'h', 's', 'a', 'n', 'a']\n"
          ]
        }
      ]
    },
    {
      "cell_type": "code",
      "source": [
        "# 5. Remove special symbols / punctuation from a string\n",
        "\n",
        "inp=input(\"Enter string:\")\n",
        "list4=[]\n",
        "\n",
        "for i in inp:\n",
        "  list4.append(i)\n",
        "  if(ord(i)>=33 and ord(i)<=47 or ord(i)>=58 and ord(i)<=64 or ord(i)>=91 and ord(i)<=96 or ord(i)>=123 and ord(i)<=126 or ord(i)==32):\n",
        "    list4.remove(i)\n",
        "\n",
        "print(list4)"
      ],
      "metadata": {
        "colab": {
          "base_uri": "https://localhost:8080/"
        },
        "id": "IKFLU80QbHP9",
        "outputId": "89607ef0-5003-43de-869e-234494b51b1d"
      },
      "execution_count": null,
      "outputs": [
        {
          "output_type": "stream",
          "name": "stdout",
          "text": [
            "Enter string:$%^&*jsahbc \n",
            "['j', 's', 'a', 'h', 'b', 'c']\n"
          ]
        }
      ]
    },
    {
      "cell_type": "code",
      "source": [
        "# 6. Removal all characters from a string except integers\n",
        "# a. str1 = 'I am 25 years and 10 months old'\n",
        "# b. expected-->2510\n",
        "\n",
        "string=\"I am 25 years and 10 months old\"\n",
        "list5=[]\n",
        "for i in string:\n",
        "  if(ord(i)>=48 and ord(i)<=57):\n",
        "    num=int(i)\n",
        "    list5.append(num)\n",
        "    print(num,end=\"\")\n",
        "print()\n",
        "print(list5)"
      ],
      "metadata": {
        "colab": {
          "base_uri": "https://localhost:8080/"
        },
        "id": "ZS_2w9wobIJ6",
        "outputId": "d461e474-93a2-4d8f-8e93-7a99ee5ddaae"
      },
      "execution_count": null,
      "outputs": [
        {
          "output_type": "stream",
          "name": "stdout",
          "text": [
            "2510\n",
            "[2, 5, 1, 0]\n"
          ]
        }
      ]
    },
    {
      "cell_type": "code",
      "source": [],
      "metadata": {
        "id": "pUflPHg0rIFE"
      },
      "execution_count": null,
      "outputs": []
    }
  ]
}