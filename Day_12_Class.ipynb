{
  "nbformat": 4,
  "nbformat_minor": 0,
  "metadata": {
    "colab": {
      "provenance": [],
      "gpuType": "T4",
      "authorship_tag": "ABX9TyMXAdcicOr83RhCueSbS6FX",
      "include_colab_link": true
    },
    "kernelspec": {
      "name": "python3",
      "display_name": "Python 3"
    },
    "language_info": {
      "name": "python"
    },
    "accelerator": "GPU"
  },
  "cells": [
    {
      "cell_type": "markdown",
      "metadata": {
        "id": "view-in-github",
        "colab_type": "text"
      },
      "source": [
        "<a href=\"https://colab.research.google.com/github/AnshulMenaria/Python-Notes/blob/main/Day_12_Class.ipynb\" target=\"_parent\"><img src=\"https://colab.research.google.com/assets/colab-badge.svg\" alt=\"Open In Colab\"/></a>"
      ]
    },
    {
      "cell_type": "code",
      "execution_count": 1,
      "metadata": {
        "colab": {
          "base_uri": "https://localhost:8080/"
        },
        "id": "wX4_Oel-S2e3",
        "outputId": "56c8d870-43e5-4058-e898-9f4306fb48f6"
      },
      "outputs": [
        {
          "output_type": "stream",
          "name": "stdout",
          "text": [
            "['(']\n"
          ]
        }
      ],
      "source": [
        "s=\"()\"\n",
        "mylist=[]\n",
        "for char in s:\n",
        "  if char==\"(\":\n",
        "    mylist.append(char)\n",
        "  elif char==\")\":\n",
        "    if len(mylist)==0:\n",
        "\n",
        "print(mylist)"
      ]
    },
    {
      "cell_type": "code",
      "source": [
        "s=\"()\"\n",
        "mylist=[]\n",
        "x=0\n",
        "for char in s:\n",
        "  if char==\"(\":\n",
        "    mylist.append(char)\n",
        "  elif char==\")\" and mylist[-1]!=\"(\":\n",
        "    x=1\n",
        "    break\n",
        "if(x==1):\n",
        "  print(\"invalid\")\n",
        "else:\n",
        "  print(\"valid\")"
      ],
      "metadata": {
        "colab": {
          "base_uri": "https://localhost:8080/"
        },
        "id": "z19dQs1bTJrr",
        "outputId": "f86ffba1-9722-4a2e-d03b-a02fe05887c6"
      },
      "execution_count": 4,
      "outputs": [
        {
          "output_type": "stream",
          "name": "stdout",
          "text": [
            "['(']\n",
            "valid\n"
          ]
        }
      ]
    },
    {
      "cell_type": "code",
      "source": [
        "s=\"(()\"\n",
        "mylist=[]\n",
        "x=0\n",
        "for char in s:\n",
        "  if(char==\"(\"):\n",
        "    mylist.append(char)\n",
        "  elif(char==\")\" and \"(\"!=mylist.pop()):\n",
        "    x=1\n",
        "    break\n",
        "if(x==1 or len(mylist)>0):\n",
        "  print(\"invalid\")\n",
        "else:\n",
        "  print(\"valid\")"
      ],
      "metadata": {
        "colab": {
          "base_uri": "https://localhost:8080/"
        },
        "id": "mH27vwI8U0un",
        "outputId": "f9160be7-c986-4b87-d828-8eac4cfb0031"
      },
      "execution_count": 12,
      "outputs": [
        {
          "output_type": "stream",
          "name": "stdout",
          "text": [
            "invalid\n"
          ]
        }
      ]
    },
    {
      "cell_type": "code",
      "source": [
        "s=\"{}\"\n",
        "mylist=[]\n",
        "x=0\n",
        "for char in s:\n",
        "  if(char in \"({[\"):\n",
        "    mylist.append(char)\n",
        "  elif(mylist):\n",
        "    if(char==\")\" and \"(\"!=mylist.pop()):\n",
        "      x=1\n",
        "      break\n",
        "    elif(char==\"}\" and \"{\"!=mylist.pop()):\n",
        "      x=1\n",
        "      break\n",
        "    elif(char==\"]\" and \"[\"!=mylist.pop()):\n",
        "      x=1\n",
        "      break\n",
        "  else:\n",
        "    x=1\n",
        "if(x==1 or len(mylist)>0):\n",
        "  print(\"invalid\")\n",
        "else:\n",
        "  print(\"Valid\")"
      ],
      "metadata": {
        "colab": {
          "base_uri": "https://localhost:8080/"
        },
        "id": "4mXzp2pyWPm-",
        "outputId": "4a77d2c4-06c8-469f-82ce-e7d315c6b88d"
      },
      "execution_count": 29,
      "outputs": [
        {
          "output_type": "stream",
          "name": "stdout",
          "text": [
            "Valid\n"
          ]
        }
      ]
    },
    {
      "cell_type": "code",
      "source": [
        "#anagram\n",
        "\n"
      ],
      "metadata": {
        "colab": {
          "base_uri": "https://localhost:8080/"
        },
        "id": "2jNKYyAQXC7o",
        "outputId": "7322cd87-a0b4-4209-9ed9-7e471420f0d6"
      },
      "execution_count": 32,
      "outputs": [
        {
          "output_type": "stream",
          "name": "stdout",
          "text": [
            "anagram\n"
          ]
        }
      ]
    },
    {
      "cell_type": "code",
      "source": [
        "# list comprehension\n",
        "# what is set datatype and its function\n",
        "# real life usecases of list, dictionary and set\n"
      ],
      "metadata": {
        "id": "fy3389YncxiO"
      },
      "execution_count": null,
      "outputs": []
    }
  ]
}