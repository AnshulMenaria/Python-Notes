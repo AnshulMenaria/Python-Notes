{
  "nbformat": 4,
  "nbformat_minor": 0,
  "metadata": {
    "colab": {
      "provenance": [],
      "include_colab_link": true
    },
    "kernelspec": {
      "name": "python3",
      "display_name": "Python 3"
    },
    "language_info": {
      "name": "python"
    }
  },
  "cells": [
    {
      "cell_type": "markdown",
      "metadata": {
        "id": "view-in-github",
        "colab_type": "text"
      },
      "source": [
        "<a href=\"https://colab.research.google.com/github/AnshulMenaria/Python-Assignments/blob/main/Day_2_Assignment.ipynb\" target=\"_parent\"><img src=\"https://colab.research.google.com/assets/colab-badge.svg\" alt=\"Open In Colab\"/></a>"
      ]
    },
    {
      "cell_type": "code",
      "execution_count": null,
      "metadata": {
        "colab": {
          "base_uri": "https://localhost:8080/"
        },
        "id": "C6VmgZSNYkJT",
        "outputId": "bd8a8c42-56af-4250-e754-b724d80afca1"
      },
      "outputs": [
        {
          "output_type": "stream",
          "name": "stdout",
          "text": [
            "Enter number to check even or odd:20\n",
            "Even NUmber\n"
          ]
        }
      ],
      "source": [
        "# Q1 Write a program that takes an integer input from the user and checks whether the number is odd or even.\n",
        "\n",
        "num=int(input(\"Enter number to check even or odd:\"))\n",
        "if(num%2==0):\n",
        "  print(\"Even NUmber\")\n",
        "else:\n",
        "  print(\"Odd Number\")\n"
      ]
    },
    {
      "cell_type": "code",
      "source": [
        "# Q2 Write a program that takes three numbers as input and prints the largest of the three.\n",
        "\n",
        "a=int(input(\"Enter First Number:\"))\n",
        "b=int(input(\"Enter Second Number:\"))\n",
        "c=int(input(\"Enter Thirs Number:\"))\n",
        "\n",
        "if(a>b and a>c):\n",
        "  print(\"First number is Largest\")\n",
        "elif(b>a and b>c):\n",
        "  print(\"Second number is Largest\")\n",
        "elif(c>a and c>b):\n",
        "  print(\"Third number is Largest\")\n",
        "else:\n",
        "  print(\"Invalid Inputs\")"
      ],
      "metadata": {
        "colab": {
          "base_uri": "https://localhost:8080/"
        },
        "id": "HM30NY_XZGH4",
        "outputId": "17269006-d943-4fc4-a8cd-f1374701680f"
      },
      "execution_count": null,
      "outputs": [
        {
          "output_type": "stream",
          "name": "stdout",
          "text": [
            "Enter First Number20\n",
            "Enter Second Number30\n",
            "Enter Thirs Number20\n",
            "Second number is Largest\n"
          ]
        }
      ]
    },
    {
      "cell_type": "code",
      "source": [
        "# Q3 Write a program to check if a given year is a leap year. A leap year is divisible by 4 but not by 100 unless it is also divisible by 400.\n",
        "\n",
        "year=int(input(\"Enter Year to check Leap or not:\"))\n",
        "if(year%4==0 and year%100!=0 or year%400==0):\n",
        "  print(\"Leap Year\")\n",
        "else:\n",
        "  print(\"Not A Leap Year\")"
      ],
      "metadata": {
        "colab": {
          "base_uri": "https://localhost:8080/"
        },
        "id": "hoVr8dfaasOx",
        "outputId": "6fb1d8e9-1274-4f15-a50e-b8aa407eb36e"
      },
      "execution_count": null,
      "outputs": [
        {
          "output_type": "stream",
          "name": "stdout",
          "text": [
            "Enter Year to check Leap or not:2021\n",
            "Not A Leap Year\n"
          ]
        }
      ]
    },
    {
      "cell_type": "code",
      "source": [
        "# Q5 Write a program that checks if a given letter is a vowel (a, e, i, o, u) or a consonant.\n",
        "\n",
        "letter=input(\"Enter Letter to check Vowel or Consonant:\")\n",
        "if(letter=='a' or letter=='e' or letter=='i' or letter=='o' or letter=='u'):\n",
        "  print(\"Vowel\")\n",
        "else:\n",
        "  print(\"Consonant\")"
      ],
      "metadata": {
        "id": "u0Hsddcab6Al",
        "colab": {
          "base_uri": "https://localhost:8080/"
        },
        "outputId": "b6b9be1c-9e78-4363-a173-3dc5bcbc50e9"
      },
      "execution_count": null,
      "outputs": [
        {
          "output_type": "stream",
          "name": "stdout",
          "text": [
            "Enter Letter to check Vowel or Consonant:a\n",
            "Vowel\n"
          ]
        }
      ]
    },
    {
      "cell_type": "code",
      "source": [
        "#Q4 Write a program that takes a percentage (integer) as input and prints the corresponding grade based\n",
        "#on the following criteria:\n",
        "#>= 90: Grade A\n",
        "#>= 80: Grade B\n",
        "#>= 70: Grade C\n",
        "#>= 60: Grade D\n",
        "#< 60: Grade F\n",
        "\n",
        "num=int(input(\"Enter Number to check Grade:\"))\n",
        "if(num>=90):\n",
        "  print(\"Grade A\")\n",
        "elif(num>=80):\n",
        "  print(\"Grade B\")\n",
        "elif(num>=70):\n",
        "  print(\"Grade C\")\n",
        "elif(num>=60):\n",
        "  print(\"Grade D\")\n",
        "else:\n",
        "  print(\"Grade F\")\n"
      ],
      "metadata": {
        "colab": {
          "base_uri": "https://localhost:8080/"
        },
        "id": "okOTAwtdBfJo",
        "outputId": "7687c058-9131-4895-d0d8-f81dd2ccd955"
      },
      "execution_count": null,
      "outputs": [
        {
          "output_type": "stream",
          "name": "stdout",
          "text": [
            "Enter Number to check Grade:44\n",
            "Grade F\n"
          ]
        }
      ]
    },
    {
      "cell_type": "code",
      "source": [
        "#Q6 Write a basic calculator program that takes two numbers and an operator (+, -, *, /) as input and\n",
        "#performs the specified operation. Print the result based on the operation.\n",
        "\n",
        "a=int(input(\"Enter First Number:\"))\n",
        "b=int(input(\"Enter Second Number:\"))\n",
        "o=input(\"Enter Operator:\")\n",
        "if(o=='+'):\n",
        "  print(a+b)\n",
        "elif(o=='-'):\n",
        "  print(a-b)\n",
        "elif(o=='*'):\n",
        "  print(a*b)\n",
        "elif(o=='/'):\n",
        "  print(a/b)\n",
        "else:\n",
        "  print(\"Invalid Operator\")"
      ],
      "metadata": {
        "colab": {
          "base_uri": "https://localhost:8080/"
        },
        "id": "mIy1hwuxBD75",
        "outputId": "b5f85916-5558-4876-fb2b-0b39541c6328"
      },
      "execution_count": null,
      "outputs": [
        {
          "output_type": "stream",
          "name": "stdout",
          "text": [
            "Enter First Number:2\n",
            "Enter Second Number:3\n",
            "Enter Operator:+\n",
            "5\n"
          ]
        }
      ]
    },
    {
      "cell_type": "code",
      "source": [
        "#Q7 Write a program that takes a number as input and checks whether it is positive, negative, or zero.\n",
        "\n",
        "num=int(input(\"Enter Number to check Positive(+) or Negative(-):\"))\n",
        "if(num>0):\n",
        "  print(\"Positive\")\n",
        "elif(num<0):\n",
        "  print(\"Negative\")\n",
        "else:\n",
        "  print(\"0\")"
      ],
      "metadata": {
        "colab": {
          "base_uri": "https://localhost:8080/"
        },
        "id": "Q5wR72IHBSyQ",
        "outputId": "83d46b13-c885-4017-8232-fc58fbf87d43"
      },
      "execution_count": null,
      "outputs": [
        {
          "output_type": "stream",
          "name": "stdout",
          "text": [
            "Enter Number to check Positive(+) or Negative(-):20\n",
            "Positive\n"
          ]
        }
      ]
    },
    {
      "cell_type": "code",
      "source": [
        "#Q8 Write a program that checks if a username and password entered by the user match the pre-set values\n",
        "# username = \"admin\" and password = \"1234\". If both match, print \"Login Successful\", otherwise print\n",
        "# \"Login Failed\".\n",
        "\n",
        "username='Anshul'\n",
        "password='1234'\n",
        "\n",
        "username_input=input(\"Enter Username:\")\n",
        "password_input=input(\"Enter Password:\")\n",
        "\n",
        "if(username==username_input and password==password_input):\n",
        "  print(\"Login Successfull\")\n",
        "else:\n",
        "  print(\"Login Failed\")"
      ],
      "metadata": {
        "colab": {
          "base_uri": "https://localhost:8080/"
        },
        "id": "v3QFmQLJBv63",
        "outputId": "1fc34aff-6981-47d5-d761-a9967971b7db"
      },
      "execution_count": null,
      "outputs": [
        {
          "output_type": "stream",
          "name": "stdout",
          "text": [
            "Enter Username:Anshul\n",
            "Enter Password:1234\n",
            "Login Successfull\n"
          ]
        }
      ]
    },
    {
      "cell_type": "code",
      "source": [
        "# Q9 Write a program that takes three sides of a triangle as input and checks if those sides form a valid\n",
        "# triangle. A triangle is valid if the sum of any two sides is greater than the third side.\n",
        "# Check conditions like a + b > c, b + c > a, and a + c > b.\n",
        "\n",
        "a=int(input(\"Enter Value of First Side:\"))\n",
        "b=int(input(\"Enter Value of Second Side:\"))\n",
        "c=int(input(\"Enter Value of Third Side:\"))\n",
        "\n",
        "if(a+b>c and b+c>a and a+c>b):\n",
        "  print(\"Triangle\")\n",
        "else:\n",
        "  print(\"Not a Triangle\")\n"
      ],
      "metadata": {
        "colab": {
          "base_uri": "https://localhost:8080/"
        },
        "id": "uwjoebJKCkd3",
        "outputId": "a77d5b7f-a2f5-462f-c082-3f99164371c2"
      },
      "execution_count": null,
      "outputs": [
        {
          "output_type": "stream",
          "name": "stdout",
          "text": [
            "Enter Value of First Side2\n",
            "Enter Value of Second Side3\n",
            "Enter Value of Third Side2\n",
            "Triangle\n"
          ]
        }
      ]
    },
    {
      "cell_type": "code",
      "source": [
        "# Q10 Write a program that calculates the Body Mass Index (BMI) based on user input for weight (in\n",
        "# kilograms) and height (in meters). Then categorize the BMI into:\n",
        "\n",
        "weight=int(input(\"Enter weight in kilograms:\"))\n",
        "height=float(input(\"Enter height in meters:\"))\n",
        "bmi=weight/(height*height)\n",
        "if(bmi<18.5):\n",
        "    print(\"underweight\")\n",
        "elif(bmi>=18.5 and bmi<25):\n",
        "    print(\"normal weight\")\n",
        "elif(bmi>=25 and bmi<30):\n",
        "    print(\"overweight\")\n",
        "elif(bmi>=30):\n",
        "    print(\"obesity\")\n",
        "else:\n",
        "  print(\"Enter valid input\")"
      ],
      "metadata": {
        "id": "NBazOTYrG-_X",
        "colab": {
          "base_uri": "https://localhost:8080/"
        },
        "outputId": "6fa0a183-5049-42eb-f6ca-6d1c0ca726a1"
      },
      "execution_count": null,
      "outputs": [
        {
          "output_type": "stream",
          "name": "stdout",
          "text": [
            "Enter weight in kilograms:70\n",
            "Enter height in meters:1.8\n",
            "normal weight\n"
          ]
        }
      ]
    },
    {
      "cell_type": "code",
      "source": [
        "# Q11 Write a program that calculates the discount for a product based on its price:\n",
        "# If price is greater than 1000, discount is 10%\n",
        "# If price is between 500 and 1000, discount is 5%\n",
        "# Otherwise, no discount\n",
        "# Print the final price after applying the discount.\n",
        "\n",
        "price=int(input(\"Enter Price: \"))\n",
        "if(price>1000):\n",
        "    print(\"10% discount applied\")\n",
        "    print(\"Actual Price:\", price)\n",
        "    print(\"Discounted price:\", price-(price*0.1))\n",
        "elif(price<1000 and price>500):\n",
        "    print(\"5% Discount applied\")\n",
        "    print(\"Actual price:\", price)\n",
        "    print(\"Discounted price:\", price-(price*0.05))\n",
        "else:\n",
        "  print(\"no Discount applied\")\n",
        "  print(\"actual price:\", price)\n"
      ],
      "metadata": {
        "id": "Q4nmIL9cZ64N",
        "colab": {
          "base_uri": "https://localhost:8080/"
        },
        "outputId": "08132956-9346-4193-c2a3-eb6ac2a317c2"
      },
      "execution_count": null,
      "outputs": [
        {
          "output_type": "stream",
          "name": "stdout",
          "text": [
            "Enter Price: 600\n",
            "5% Discount applied\n",
            "Actual price: 600\n",
            "Discounted price: 570.0\n"
          ]
        }
      ]
    },
    {
      "cell_type": "code",
      "source": [
        "# Q12 Write a program that takes the name of a month as input and prints the number of days in that\n",
        "# month. Consider leap years for February.\n",
        "\n",
        "month=input(\"Enter Month Name: \")\n",
        "if(month==\"january\" or month==\"march\" or month==\"may\" or month==\"july\" or month==\"august\" or month==\"october\" or month==\"december\"):\n",
        "    print(\"31 days\")\n",
        "elif(month==\"april\" or month==\"june\" or month==\"september\" or month==\"november\"):\n",
        "    print(\"30 days\")\n",
        "elif(month==\"february\"):\n",
        "    print(\"28/29 days\")\n",
        "else:\n",
        "  print(\"invalid month name:\")"
      ],
      "metadata": {
        "colab": {
          "base_uri": "https://localhost:8080/"
        },
        "id": "UnWBOL6ea0YG",
        "outputId": "5b0c61cf-4d2f-4423-fc7c-006f0f8f62b2"
      },
      "execution_count": null,
      "outputs": [
        {
          "output_type": "stream",
          "name": "stdout",
          "text": [
            "Enter Month Name: january\n",
            "31 days\n"
          ]
        }
      ]
    },
    {
      "cell_type": "code",
      "source": [
        "# Q13 Write a program that simulates a simple ATM. The user should be able to:\n",
        "# Check balance\n",
        "# Deposit money\n",
        "# Withdraw money (ensure the balance doesn't go negative) Use an if-else structure to handle the user's choices.\n",
        "\n",
        "total_balance=20000\n",
        "a=int(input(\"Press 1 for check balance and 2 for deposit and 3 for withdrawl: \"))\n",
        "if(a==1):\n",
        "    print(\"your balance is:\", total_balance)\n",
        "elif(a==2):\n",
        "    b=int(input(\"enter amount to deposit: \"))\n",
        "    total_balance=total_balance+b\n",
        "    print(\"your balance is:\", total_balance)\n",
        "elif(a==3):\n",
        "    c=int(input(\"enter amount to withdrawl: \"))\n",
        "    if(c>total_balance):\n",
        "        print(\"insufficient balance\")\n",
        "    else:\n",
        "        total_balance=total_balance-c\n",
        "        print(\"your balance is:\", total_balance)"
      ],
      "metadata": {
        "colab": {
          "base_uri": "https://localhost:8080/"
        },
        "id": "sjh-dQgYbNzA",
        "outputId": "62474e40-4b1b-4f28-e0fb-53cf75d6ee7d"
      },
      "execution_count": null,
      "outputs": [
        {
          "output_type": "stream",
          "name": "stdout",
          "text": [
            "Press 1 for check balance and 2 for deposit and 3 for withdrawl: 3\n",
            "enter amount to withdrawl: 2200\n",
            "your balance is: 17800\n"
          ]
        }
      ]
    },
    {
      "cell_type": "code",
      "source": [
        "# Q14 Write a program that categorizes a given age into different groups:\n",
        "# Infant (0-1 year)\n",
        "# Toddler (2-4 years)\n",
        "# Child (5-12 years)\n",
        "# Teenager (13-19 years)\n",
        "# Adult (20-59 years)\n",
        "# Senior (60 years and above)\n",
        "\n",
        "age=int(input(\"Enter Your Age: \"))\n",
        "if(0<age<1):\n",
        "  print(\"Infant\")\n",
        "elif(age>2 and age<4):\n",
        "  print(\"Toddler\")\n",
        "elif(age>4 and age<13):\n",
        "  print(\"Child\")\n",
        "elif(age>13 and age<19):\n",
        "  print(\"Teenager\")\n",
        "elif(age>19 and age<60):\n",
        "  print(\"Adult\")\n",
        "else:\n",
        "  print(\"Senior\")"
      ],
      "metadata": {
        "colab": {
          "base_uri": "https://localhost:8080/"
        },
        "id": "6v3cz0azbYyQ",
        "outputId": "13dca539-5000-4f3a-9483-2fa9dcb936a4"
      },
      "execution_count": null,
      "outputs": [
        {
          "output_type": "stream",
          "name": "stdout",
          "text": [
            "Enter Your Age: 3\n",
            "Toddler\n"
          ]
        }
      ]
    },
    {
      "cell_type": "code",
      "source": [
        "# Q15 Write a program that takes an integer (1-7) as input and prints the corresponding day of the week (1\n",
        "# for Monday, 2 for Tuesday, etc.).\n",
        "\n",
        "a=int(input(\"Enter Number(1-7)\"))\n",
        "if(a==1):\n",
        "    print(\"Monday\")\n",
        "elif(a==2):\n",
        "    print(\"Tuesday\")\n",
        "elif(a==3):\n",
        "    print(\"Wednesday\")\n",
        "elif(a==4):\n",
        "    print(\"Thursday\")\n",
        "elif(a==5):\n",
        "    print(\"Friday\")\n",
        "elif(a==6):\n",
        "    print(\"Saturday\")\n",
        "elif(a==7):\n",
        "    print(\"Sunday\")\n",
        "else:\n",
        "  print(\"invalid input\")"
      ],
      "metadata": {
        "colab": {
          "base_uri": "https://localhost:8080/"
        },
        "id": "JxjHvlaGbrbN",
        "outputId": "f8b9e853-0e19-4e73-eb17-d3d265bd1ed1"
      },
      "execution_count": null,
      "outputs": [
        {
          "output_type": "stream",
          "name": "stdout",
          "text": [
            "Enter Number(1-7)4\n",
            "Thursday\n"
          ]
        }
      ]
    }
  ]
}
