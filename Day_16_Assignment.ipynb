{
  "nbformat": 4,
  "nbformat_minor": 0,
  "metadata": {
    "colab": {
      "provenance": [],
      "authorship_tag": "ABX9TyPnAUYvh0tryWq/k7rDfYFv",
      "include_colab_link": true
    },
    "kernelspec": {
      "name": "python3",
      "display_name": "Python 3"
    },
    "language_info": {
      "name": "python"
    }
  },
  "cells": [
    {
      "cell_type": "markdown",
      "metadata": {
        "id": "view-in-github",
        "colab_type": "text"
      },
      "source": [
        "<a href=\"https://colab.research.google.com/github/AnshulMenaria/Python-Notes/blob/main/Day_16_Assignment.ipynb\" target=\"_parent\"><img src=\"https://colab.research.google.com/assets/colab-badge.svg\" alt=\"Open In Colab\"/></a>"
      ]
    },
    {
      "cell_type": "code",
      "source": [
        "# to check whether a number is a palindrome or not\n",
        "\n",
        "num=int(input(\"Enter a number:\"))\n",
        "temp=num\n",
        "rev=0\n",
        "while(num>0):\n",
        "    rem=num%10\n",
        "    rev=rev*10+rem\n",
        "    num=num//10\n",
        "if(temp==rev):\n",
        "    print(\"palindrome\")\n",
        "else:\n",
        "    print(\"not palindrome\")\n"
      ],
      "metadata": {
        "colab": {
          "base_uri": "https://localhost:8080/"
        },
        "id": "7Vv2_voqvuIM",
        "outputId": "58d2a813-eafe-40f3-9a1b-322fb5acc1af"
      },
      "execution_count": 10,
      "outputs": [
        {
          "output_type": "stream",
          "name": "stdout",
          "text": [
            "Enter a number:12321\n",
            "palindrome\n"
          ]
        }
      ]
    },
    {
      "cell_type": "code",
      "source": [
        "# to check whether a string is a palindrome or not\n",
        "string=input((\"Enter a string:\"))\n",
        "if(string==string[::-1]):\n",
        "  print(\"palindrome\")\n",
        "else:\n",
        "  print(\"Not a palindrome\")"
      ],
      "metadata": {
        "colab": {
          "base_uri": "https://localhost:8080/"
        },
        "id": "KalZwrAuvZ4z",
        "outputId": "d1a34488-c6f3-4460-9c39-2146bcbcea0e"
      },
      "execution_count": 14,
      "outputs": [
        {
          "output_type": "stream",
          "name": "stdout",
          "text": [
            "Enter a string:abcba\n",
            "palindrome\n"
          ]
        }
      ]
    },
    {
      "cell_type": "code",
      "source": [
        "# to take a number and print all its factor\n",
        "\n",
        "num=int(input(\"Enter a number:\"))\n",
        "for i in range(1,num+1):\n",
        "    if num%i==0:\n",
        "        print(i)"
      ],
      "metadata": {
        "colab": {
          "base_uri": "https://localhost:8080/"
        },
        "id": "JEYGV3GHvaV7",
        "outputId": "1086e1cc-6893-4973-be76-dabd72b52966"
      },
      "execution_count": 15,
      "outputs": [
        {
          "output_type": "stream",
          "name": "stdout",
          "text": [
            "Enter a number:6\n",
            "1\n",
            "2\n",
            "3\n",
            "6\n"
          ]
        }
      ]
    },
    {
      "cell_type": "code",
      "source": [
        "#list  =>[10,20,30,40123,123,123]\n",
        "# to check which number are more than target=70\n",
        "\n",
        "list1=[10,20,30,40123,123,123]\n",
        "target=70\n",
        "for i in list1:\n",
        "    if i>target:\n",
        "        print(i)"
      ],
      "metadata": {
        "colab": {
          "base_uri": "https://localhost:8080/"
        },
        "id": "c1jmW02evgIS",
        "outputId": "7343cdaa-1264-4875-9e1a-492d91011bfb"
      },
      "execution_count": 16,
      "outputs": [
        {
          "output_type": "stream",
          "name": "stdout",
          "text": [
            "40123\n",
            "123\n",
            "123\n"
          ]
        }
      ]
    },
    {
      "cell_type": "code",
      "source": [
        "#     *\n",
        "#    * *\n",
        "#   * * *\n",
        "\n",
        "for i in range(1,4):\n",
        "  for j in range(i,5):\n",
        "    print(\" \",end=\"\")\n",
        "  for k in range(1,i+1):\n",
        "    print(\"*\",end=\" \")\n",
        "  print()"
      ],
      "metadata": {
        "colab": {
          "base_uri": "https://localhost:8080/"
        },
        "id": "60b9mk-VviLy",
        "outputId": "9d9ac28c-d750-45ff-e142-9f3e1d86b33b"
      },
      "execution_count": 23,
      "outputs": [
        {
          "output_type": "stream",
          "name": "stdout",
          "text": [
            "    * \n",
            "   * * \n",
            "  * * * \n"
          ]
        }
      ]
    },
    {
      "cell_type": "code",
      "source": [
        "# * * * *\n",
        "#  * * *\n",
        "#   * *\n",
        "#    *\n",
        "\n",
        "for i in range(1,5):\n",
        "  for j in range(1,i):\n",
        "    print(\" \",end=\"\")\n",
        "  for k in range(i,5):\n",
        "    print(\"*\",end=\" \")\n",
        "  print()"
      ],
      "metadata": {
        "colab": {
          "base_uri": "https://localhost:8080/"
        },
        "id": "gYAH7nvtvi_K",
        "outputId": "6cfa080a-2d67-4c0b-dd23-4b3b6c5b9f63"
      },
      "execution_count": 35,
      "outputs": [
        {
          "output_type": "stream",
          "name": "stdout",
          "text": [
            "* * * * \n",
            " * * * \n",
            "  * * \n",
            "   * \n"
          ]
        }
      ]
    },
    {
      "cell_type": "code",
      "source": [
        "#list  =>[10,20,30,40123,123,123]\n",
        "# to check which two number make the value 143\n",
        "\n",
        "list1=[10,20,30,40123,123,123]\n",
        "\n",
        "for i in list1:\n",
        "  for j in list1:\n",
        "    if (i+j==143):\n",
        "      print(i,j)"
      ],
      "metadata": {
        "colab": {
          "base_uri": "https://localhost:8080/"
        },
        "id": "YhutvjI_vnMq",
        "outputId": "19a2e8e8-d53f-4f5b-c281-0be7f08c6087"
      },
      "execution_count": 33,
      "outputs": [
        {
          "output_type": "stream",
          "name": "stdout",
          "text": [
            "20 123\n",
            "20 123\n",
            "123 20\n",
            "123 20\n"
          ]
        }
      ]
    },
    {
      "cell_type": "code",
      "source": [],
      "metadata": {
        "id": "MnEX6Ydkyz8c"
      },
      "execution_count": null,
      "outputs": []
    }
  ]
}