{
 "cells": [
  {
   "cell_type": "code",
   "execution_count": 1,
   "id": "9fb462ec-5651-40c5-b4ca-dae33c957662",
   "metadata": {},
   "outputs": [],
   "source": [
    "# Key Points:-\n",
    "\n",
    "# 4.Attributes:- These are called as variables that holds data about an object, they are defined inside a class and represent the property or stat \n",
    "#     of an object Eg: self.name,self.xyz\n",
    "\n",
    "# 5.Methods:- These are called as function defined inside a class that operate on the objects attribute they defined the behaviour of an object\n"
   ]
  },
  {
   "cell_type": "code",
   "execution_count": 8,
   "id": "4213eea6-0cd7-4d68-84e6-d43d3a1a2c24",
   "metadata": {},
   "outputs": [
    {
     "name": "stdout",
     "output_type": "stream",
     "text": [
      "20\n",
      "-6\n",
      "91\n",
      "0.5384615384615384\n"
     ]
    }
   ],
   "source": [
    "#\n",
    "class Calculator:\n",
    "    def __init__(self,num1,num2):\n",
    "        self.n1 = num1\n",
    "        self.n2 = num2\n",
    "\n",
    "    def add(self):\n",
    "        return self.n1+self.n2\n",
    "\n",
    "    def subtract(self):\n",
    "        return self.n1-self.n2\n",
    "\n",
    "    def multiply(self):\n",
    "        return self.n1*self.n2\n",
    "\n",
    "    def division(self):\n",
    "        if (self.n2!=0):\n",
    "            return self.n1/self.n2\n",
    "        else:\n",
    "            return \"Division by zero is not divisivble\"\n",
    "\n",
    "calc = Calculator(7,13)\n",
    "\n",
    "print(calc.add())\n",
    "print(calc.subtract())\n",
    "print(calc.multiply())\n",
    "print(calc.division())"
   ]
  },
  {
   "cell_type": "code",
   "execution_count": 29,
   "id": "542546ae-3deb-4e75-9008-f77c4a0decde",
   "metadata": {},
   "outputs": [],
   "source": [
    "class BankAccount:\n",
    "    def __init__(self,name,balance):\n",
    "        self.name = name\n",
    "        self.bal = balance\n",
    "\n",
    "    def deposit(self):\n",
    "        dep=int(input(\"Enter Amount To Deposit:\"))\n",
    "        self.bal=self.bal+dep\n",
    "        return self.bal\n",
    "\n",
    "        \n",
    "    def withdraw(self):\n",
    "        withdraw=int(input(\"Enter Amount To Withdraw:\"))\n",
    "        if(withdraw>self.bal):\n",
    "            return \"You Don't Have Enough Balance\"\n",
    "        else:\n",
    "            self.bal=self.bal-withdraw\n",
    "        return f\"Remaining Balance: {self.bal}\" \n",
    "\n",
    "        \n",
    "    def check(self):\n",
    "        return self.bal\n",
    "\n",
    "        \n",
    "account=BankAccount(\"Anshul\",10000)"
   ]
  },
  {
   "cell_type": "code",
   "execution_count": 25,
   "id": "727293d3-7e47-45ee-9585-24875ab91151",
   "metadata": {},
   "outputs": [
    {
     "name": "stdin",
     "output_type": "stream",
     "text": [
      "Enter Amount To Deposit: 10\n"
     ]
    },
    {
     "name": "stdout",
     "output_type": "stream",
     "text": [
      "10010\n"
     ]
    },
    {
     "name": "stdin",
     "output_type": "stream",
     "text": [
      "Enter Amount To Withdraw: 200000000\n"
     ]
    },
    {
     "name": "stdout",
     "output_type": "stream",
     "text": [
      "You Don't Have Enough Balance\n",
      "10010\n"
     ]
    }
   ],
   "source": [
    "print(account.deposit())"
   ]
  },
  {
   "cell_type": "code",
   "execution_count": 27,
   "id": "bc63836f-5387-4b7a-8984-ce7cfa225333",
   "metadata": {},
   "outputs": [
    {
     "name": "stdin",
     "output_type": "stream",
     "text": [
      "Enter Amount To Withdraw: 10000\n"
     ]
    },
    {
     "name": "stdout",
     "output_type": "stream",
     "text": [
      "10\n"
     ]
    }
   ],
   "source": [
    "print(account.withdraw())"
   ]
  },
  {
   "cell_type": "code",
   "execution_count": 26,
   "id": "44110bc2-6910-4ec5-876a-3c2080ea9315",
   "metadata": {},
   "outputs": [
    {
     "name": "stdout",
     "output_type": "stream",
     "text": [
      "10010\n"
     ]
    }
   ],
   "source": [
    "print(account.check())"
   ]
  },
  {
   "cell_type": "code",
   "execution_count": 39,
   "id": "464bff9d-5a8a-4d8e-922a-8eed7fdb82ae",
   "metadata": {},
   "outputs": [],
   "source": [
    "class StudentDetails:\n",
    "    def __init__(self,name,age,marks):\n",
    "        self.name = name\n",
    "        self.age = age\n",
    "        self.marks = marks\n",
    "\n",
    "    def details(self):\n",
    "        print(\"Student Details\")\n",
    "        print(f\"Name:{self.name}\")\n",
    "        print(f\"Age:{self.age}\")\n",
    "        print(f\"Marks:{self.marks}\")\n",
    "\n",
    "    def result(self):\n",
    "        if(self.marks >= 40):\n",
    "            print(f\"{self.name} is passed \")\n",
    "        else:\n",
    "            print(f\"{self.name} is failed \")\n",
    "            "
   ]
  },
  {
   "cell_type": "code",
   "execution_count": 41,
   "id": "a6866ab6-8d0d-459d-93bb-c4f3b95b1842",
   "metadata": {},
   "outputs": [],
   "source": [
    "abc= StudentDetails(\"Anshul\",20,30)"
   ]
  },
  {
   "cell_type": "code",
   "execution_count": 42,
   "id": "a7a1e853-4b82-4656-bf1b-6e16ea1b7368",
   "metadata": {},
   "outputs": [
    {
     "name": "stdout",
     "output_type": "stream",
     "text": [
      "Student Details\n",
      "Name:Anshul\n",
      "Age:20\n",
      "Marks:30\n"
     ]
    }
   ],
   "source": [
    "abc.details()"
   ]
  },
  {
   "cell_type": "code",
   "execution_count": 43,
   "id": "04c6c076-3396-4b02-a7dc-6fa8eb876c4d",
   "metadata": {},
   "outputs": [
    {
     "name": "stdout",
     "output_type": "stream",
     "text": [
      "Anshul is failed \n"
     ]
    }
   ],
   "source": [
    "abc.result()"
   ]
  },
  {
   "cell_type": "code",
   "execution_count": 9,
   "id": "46e5da0f-30c3-46f2-a1db-c98551afb256",
   "metadata": {},
   "outputs": [],
   "source": [
    "class Car:\n",
    "\n",
    "    def __init__(self,engine,power,torque,engine_type,color,seat,airbag,drive_type,bootspace):\n",
    "        self.eng = engine\n",
    "        self.pow = power\n",
    "        self.tor = torque\n",
    "        self.typ = engine_type\n",
    "        self.col = color\n",
    "        self.seat = seat\n",
    "        self.airbag = airbag\n",
    "        self.dtyp = drive_type\n",
    "        self.boot = bootspace\n",
    "\n",
    "    def specification(self):\n",
    "        print(f\"Engine: {self.eng}cc\")\n",
    "        print(f\"Power: {self.pow}bhp\")\n",
    "        print(f\"Torque: {self.tor}nm\")\n",
    "        print(f\"Type: {self.typ}\")\n",
    "\n",
    "    def features(self):\n",
    "        print(f\"Color: {self.col}\")\n",
    "        print(f\"Seats: {self.seat}\")\n",
    "        print(f\"Airbags: {self.airbag}\")\n",
    "        print(f\"Driive Type: {self.dtyp}\")\n",
    "        print(f\"BootSpace: {self.boot}ltr\")\n",
    "\n",
    "skoda=Car(engine=999,power=114,torque=178,engine_type=\"Petrol\",\n",
    "        color=\"Red\",seat=5,airbag=3,drive_type=\"Manual\",bootspace=500 )"
   ]
  },
  {
   "cell_type": "code",
   "execution_count": 7,
   "id": "32ad11cb-e50a-4c41-bb46-d5b3b3ca7ecc",
   "metadata": {},
   "outputs": [
    {
     "name": "stdout",
     "output_type": "stream",
     "text": [
      "Engine: 999cc\n",
      "Power: 114bhp\n",
      "Torque: 178nm\n",
      "Type: Petrol\n"
     ]
    }
   ],
   "source": [
    "skoda.specification()"
   ]
  },
  {
   "cell_type": "code",
   "execution_count": 10,
   "id": "19e45f5f-f146-4bab-9b71-11a17f3d1f13",
   "metadata": {},
   "outputs": [
    {
     "name": "stdout",
     "output_type": "stream",
     "text": [
      "Color: Red\n",
      "Seats: 5\n",
      "Airbag: 3nm\n",
      "Driive Type: Manual\n",
      "BootSpace: 500ltr\n"
     ]
    }
   ],
   "source": [
    "skoda.features()"
   ]
  },
  {
   "cell_type": "code",
   "execution_count": null,
   "id": "f242560e-4b64-4ea9-b9e7-f383ca9cb5e3",
   "metadata": {},
   "outputs": [],
   "source": []
  }
 ],
 "metadata": {
  "kernelspec": {
   "display_name": "Python 3 (ipykernel)",
   "language": "python",
   "name": "python3"
  },
  "language_info": {
   "codemirror_mode": {
    "name": "ipython",
    "version": 3
   },
   "file_extension": ".py",
   "mimetype": "text/x-python",
   "name": "python",
   "nbconvert_exporter": "python",
   "pygments_lexer": "ipython3",
   "version": "3.10.11"
  }
 },
 "nbformat": 4,
 "nbformat_minor": 5
}
