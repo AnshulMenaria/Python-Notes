{
 "cells": [
  {
   "cell_type": "code",
   "execution_count": 38,
   "id": "f813bf8a-66a2-428a-9492-d5b9bf8a923e",
   "metadata": {},
   "outputs": [
    {
     "name": "stdout",
     "output_type": "stream",
     "text": [
      "*******\n",
      " *   *\n",
      "  * *\n",
      "   *\n"
     ]
    }
   ],
   "source": [
    "for i in range(4, 0, -1):\n",
    "    for j in range(0,4-i):\n",
    "        print(\" \", end=\"\") \n",
    "    for k in range(2*i-1):\n",
    "        if (k==0 or k==(2*i-2) or i==4): \n",
    "            print(\"*\", end=\"\")\n",
    "        else:\n",
    "            print(\" \", end=\"\")  \n",
    "    \n",
    "    print()  "
   ]
  },
  {
   "cell_type": "code",
   "execution_count": 19,
   "id": "4663dc0b-dd09-4ea8-b71a-a231612aa26e",
   "metadata": {},
   "outputs": [
    {
     "name": "stdout",
     "output_type": "stream",
     "text": [
      "* * * * \n",
      "* * * \n",
      "* * \n",
      "* \n",
      "* * \n",
      "* * * \n",
      "* * * * \n"
     ]
    }
   ],
   "source": [
    "for i in range(4,1,-1):\n",
    "    for j in range(0,i):\n",
    "        print(\"*\",end=\" \")\n",
    "    print()\n",
    "\n",
    "for i in range(1,5):\n",
    "    for j in range(0,i):\n",
    "        print(\"*\",end=\" \")\n",
    "    print()"
   ]
  },
  {
   "cell_type": "code",
   "execution_count": 23,
   "id": "a9950a5f-5066-4bb1-8c37-3f99452db2f6",
   "metadata": {},
   "outputs": [
    {
     "name": "stdout",
     "output_type": "stream",
     "text": [
      "15\n"
     ]
    }
   ],
   "source": [
    "#  sum of  all digit in a list\n",
    "\n",
    "list1=[1,2,3,4,5]\n",
    "sum=0\n",
    "for i in list1:\n",
    "    sum=sum+i\n",
    "print(sum)\n",
    "    "
   ]
  },
  {
   "cell_type": "code",
   "execution_count": null,
   "id": "bbee3e12-b693-48ce-8c9c-1fac88cfc824",
   "metadata": {},
   "outputs": [],
   "source": [
    "# Q4  [10,20,121,142,10000]\n",
    "# target=131\n",
    "# do it with single looop\n",
    "\n",
    "list1=[10,20,121,142,10000]\n",
    "target=131\n",
    "start=0\n",
    "end=len(list1)-1\n",
    "while(start<end):\n",
    "    total=list1[start]+list1[end]\n",
    "    if(total==target):\n",
    "        print((list1[start],list1[end]))\n",
    "        break\n",
    "    elif(total<target):\n",
    "        start+=1\n",
    "    else:\n",
    "        end-=1\n",
    "\n",
    "        "
   ]
  },
  {
   "cell_type": "code",
   "execution_count": 36,
   "id": "8cfd8f28-4a6a-4006-bb84-4578a93b18ac",
   "metadata": {},
   "outputs": [
    {
     "name": "stdout",
     "output_type": "stream",
     "text": [
      "{1: 'h', 2: 'i', 3: 'i'}\n",
      "{1: 'h', 2: 'i', 3: 'i', 4: 'h'}\n",
      "{1: 'h', 2: 'i', 3: 'i'}\n",
      "{1: 'h', 2: 'i'}\n",
      "{1: 'h', 2: 'y'}\n",
      "x:h\n"
     ]
    }
   ],
   "source": [
    "# Q5. to read dictionary and how to insert and delete element\n",
    "\n",
    "dict1={1:'h',2:'i',3:'i'} # creating a dictionary\n",
    "print(dict1)\n",
    "\n",
    "dict1[4]='h' #inserting new key with value\n",
    "print(dict1)\n",
    "\n",
    "x=dict1.pop(4) #popping an value using its key and storing if needed \n",
    "print(dict1)\n",
    "\n",
    "del dict1[3] #deleting key and value\n",
    "print(dict1)\n",
    "\n",
    "dict1[2] = 'y' #if there is already an key value and the insert function works as update function\n",
    "print(dict1)\n",
    "print(f\"x:{x}\")"
   ]
  },
  {
   "cell_type": "code",
   "execution_count": 7,
   "id": "dc8847b8-555c-4e72-ba5f-59c9733daba4",
   "metadata": {},
   "outputs": [
    {
     "name": "stdout",
     "output_type": "stream",
     "text": [
      "{0: 'h', 1: 'e', 2: 'l', 3: 'l', 4: 'o'}\n"
     ]
    }
   ],
   "source": [
    "# Q6. Take a string and print all character in key-value pair\n",
    "\n",
    "string=\"hello\"\n",
    "dict1={}\n",
    "for i in range(len(string)):\n",
    "    dict1[i]=string[i]\n",
    "print(dict1)"
   ]
  },
  {
   "cell_type": "code",
   "execution_count": 17,
   "id": "186df60a-6969-4174-8907-da54393ae73a",
   "metadata": {},
   "outputs": [
    {
     "name": "stdout",
     "output_type": "stream",
     "text": [
      "{'h': 2, 'e': 2, 'l': 2, 'o': 3, 'w': 1, 'a': 1, 'r': 1, 'y': 1, 'u': 1}\n"
     ]
    }
   ],
   "source": [
    "# Q7. Take a string and print all character exact count in key-value pair\n",
    "string=\"Hello How Are You\"\n",
    "count={}\n",
    "for i in string.lower():\n",
    "    if(i!=\" \"):\n",
    "        if i in count:\n",
    "            count[i]+=1\n",
    "        else:\n",
    "            count[i]=1\n",
    "print(count)"
   ]
  },
  {
   "cell_type": "code",
   "execution_count": 22,
   "id": "50da1ed2-a316-47a1-992d-3be4db2f1cb6",
   "metadata": {},
   "outputs": [
    {
     "name": "stdout",
     "output_type": "stream",
     "text": [
      "{'h': 1, 'l': 2, 'n': 1, 'c': 1, 't': 2, 'm': 1, 'y': 1}\n"
     ]
    }
   ],
   "source": [
    "# Q8. Take a string and print all consonents in key-value pair with exact counts\n",
    "\n",
    "string=\"Hello Nice to meet you\"\n",
    "consonent={}\n",
    "\n",
    "for i in string.lower():\n",
    "    if(i!=\" \"):\n",
    "        if(i not in \"aeiou\"):\n",
    "            if i in consonent:\n",
    "                consonent[i]+=1\n",
    "            else:\n",
    "                consonent[i]=1\n",
    "        \n",
    "print(consonent)\n",
    "            "
   ]
  },
  {
   "cell_type": "code",
   "execution_count": null,
   "id": "d69c3e4d-be2b-4676-9668-0603f64da516",
   "metadata": {},
   "outputs": [],
   "source": []
  }
 ],
 "metadata": {
  "kernelspec": {
   "display_name": "Python 3 (ipykernel)",
   "language": "python",
   "name": "python3"
  },
  "language_info": {
   "codemirror_mode": {
    "name": "ipython",
    "version": 3
   },
   "file_extension": ".py",
   "mimetype": "text/x-python",
   "name": "python",
   "nbconvert_exporter": "python",
   "pygments_lexer": "ipython3",
   "version": "3.10.11"
  }
 },
 "nbformat": 4,
 "nbformat_minor": 5
}
