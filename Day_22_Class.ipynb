{
 "cells": [
  {
   "cell_type": "code",
   "execution_count": 45,
   "id": "99fc7f48-937f-4a1b-b289-83610e35f2cd",
   "metadata": {},
   "outputs": [
    {
     "name": "stdout",
     "output_type": "stream",
     "text": [
      "Name: Book xyz\n",
      "Author: author xyz\n",
      "Availability: Yes\n",
      "----------------------------------------------------------------------------------\n",
      "\n",
      "Book xyz is issued to you,return it in 30 days!!! Thank You\n",
      "----------------------------------------------------------------------------------\n",
      "\n",
      "Name: Book xyz\n",
      "Author: author xyz\n",
      "Availability: No\n",
      "----------------------------------------------------------------------------------\n",
      "\n",
      "Book xyzis not available\n",
      "----------------------------------------------------------------------------------\n",
      "\n",
      "Book xyz returned!, Thank You\n",
      "----------------------------------------------------------------------------------\n",
      "\n",
      "Name: Book xyz\n",
      "Author: author xyz\n",
      "Availability: Yes\n"
     ]
    }
   ],
   "source": [
    "class Library:\n",
    "\n",
    "    def __init__(self,title,author,availability):\n",
    "        self.title = title\n",
    "        self.auth = author\n",
    "        self.avail = availability\n",
    "\n",
    "    def details(self):\n",
    "        print(\"Name:\",self.title)\n",
    "        print(\"Author:\",self.auth)\n",
    "        print(\"Availability:\",self.avail)\n",
    "\n",
    "    \n",
    "    def issue_book(self):\n",
    "        if self.avail.lower()==\"yes\":\n",
    "            print(f\"{self.title} is issued to you,return it in 30 days!!! Thank You\")\n",
    "            self.avail=\"No\"\n",
    "        else:\n",
    "            print(f\"{self.title}is not available\")\n",
    "            \n",
    "    def return_book(self):\n",
    "            print(f\"{self.title} returned!, Thank You\")\n",
    "            self.avail=\"Yes\"\n",
    "\n",
    "book1=Library(\"Book xyz\",\"author xyz\",\"Yes\")\n",
    "book1.details()\n",
    "print(\"----------------------------------------------------------------------------------\")\n",
    "print()\n",
    "book1.issue_book()\n",
    "print(\"----------------------------------------------------------------------------------\")\n",
    "print()\n",
    "book1.details()\n",
    "print(\"----------------------------------------------------------------------------------\")\n",
    "print()\n",
    "book1.issue_book()\n",
    "print(\"----------------------------------------------------------------------------------\")\n",
    "print()\n",
    "book1.return_book()\n",
    "print(\"----------------------------------------------------------------------------------\")\n",
    "print()\n",
    "book1.details()\n"
   ]
  },
  {
   "cell_type": "code",
   "execution_count": 57,
   "id": "16af8dd2-52c6-4933-8bf5-ed5511beaf17",
   "metadata": {},
   "outputs": [
    {
     "name": "stdout",
     "output_type": "stream",
     "text": [
      "Id:123\n",
      "Name:ABC\n",
      "Salary:50000\n",
      "----------------------------------------------------------------------------------\n",
      "\n"
     ]
    },
    {
     "name": "stdin",
     "output_type": "stream",
     "text": [
      "How much leaves did you took in this month: 0\n"
     ]
    },
    {
     "name": "stdout",
     "output_type": "stream",
     "text": [
      "Salary You Will Get This Month: 50000\n",
      "----------------------------------------------------------------------------------\n",
      "\n",
      "Id:123\n",
      "Name:ABC\n",
      "Salary:50000\n"
     ]
    }
   ],
   "source": [
    "class E_M_S:\n",
    "\n",
    "    def __init__(self,id,name,salary):\n",
    "        self.id = id\n",
    "        self.name = name\n",
    "        self.sal = salary\n",
    "\n",
    "    def Salary(self):\n",
    "        leave=int(input(\"How much leaves did you took in this month:\"))\n",
    "        if(leave>0):\n",
    "            self.sal=abs(self.sal-self.sal//30*leave)\n",
    "            print(\"Salary You Will Get This Month:\",self.sal)\n",
    "        else:\n",
    "            print(\"Salary You Will Get This Month:\",self.sal)\n",
    "\n",
    "    def Details(self):\n",
    "        print(f\"Id:{self.id}\")\n",
    "        print(f\"Name:{self.name}\")\n",
    "        print(f\"Salary:{self.sal}\")\n",
    "emp1=E_M_S(123,\"ABC\",50000)\n",
    "emp1.Details()\n",
    "print(\"----------------------------------------------------------------------------------\")\n",
    "print()\n",
    "emp1.Salary()\n",
    "print(\"----------------------------------------------------------------------------------\")\n",
    "print()\n",
    "emp1.Details()\n"
   ]
  },
  {
   "cell_type": "code",
   "execution_count": null,
   "id": "3e6026c6-3437-43ae-99eb-51b1858a42af",
   "metadata": {},
   "outputs": [],
   "source": []
  }
 ],
 "metadata": {
  "kernelspec": {
   "display_name": "Python 3 (ipykernel)",
   "language": "python",
   "name": "python3"
  },
  "language_info": {
   "codemirror_mode": {
    "name": "ipython",
    "version": 3
   },
   "file_extension": ".py",
   "mimetype": "text/x-python",
   "name": "python",
   "nbconvert_exporter": "python",
   "pygments_lexer": "ipython3",
   "version": "3.10.11"
  }
 },
 "nbformat": 4,
 "nbformat_minor": 5
}
