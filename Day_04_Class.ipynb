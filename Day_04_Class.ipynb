{
  "nbformat": 4,
  "nbformat_minor": 0,
  "metadata": {
    "colab": {
      "provenance": [],
      "gpuType": "T4",
      "authorship_tag": "ABX9TyNlwB1NgWEAKcIPCxA7zO7N",
      "include_colab_link": true
    },
    "kernelspec": {
      "name": "python3",
      "display_name": "Python 3"
    },
    "language_info": {
      "name": "python"
    },
    "accelerator": "GPU"
  },
  "cells": [
    {
      "cell_type": "markdown",
      "metadata": {
        "id": "view-in-github",
        "colab_type": "text"
      },
      "source": [
        "<a href=\"https://colab.research.google.com/github/AnshulMenaria/Python-Assignments/blob/main/Day_4_Class.ipynb\" target=\"_parent\"><img src=\"https://colab.research.google.com/assets/colab-badge.svg\" alt=\"Open In Colab\"/></a>"
      ]
    },
    {
      "cell_type": "code",
      "execution_count": null,
      "metadata": {
        "colab": {
          "base_uri": "https://localhost:8080/"
        },
        "id": "1EHI3Gskb-Ru",
        "outputId": "cfc19f7d-5d86-4dbd-adbb-0e9aad8097bd"
      },
      "outputs": [
        {
          "output_type": "stream",
          "name": "stdout",
          "text": [
            "a\n",
            "u\n",
            "e\n",
            "a\n",
            "i\n",
            "a\n"
          ]
        }
      ],
      "source": [
        "data=\"anshulmenaria\"\n",
        "for i in range(0,len(data)):\n",
        "  if(data[i]=='a' or data[i]=='e' or data[i]=='i' or data[i]=='o' or data[i]=='u'):\n",
        "    print(data[i])"
      ]
    },
    {
      "cell_type": "code",
      "source": [
        "data=\"anshulmenaria\"\n",
        "for i in data:\n",
        "  if (i in \"aeiou\"):\n",
        "    print(i)"
      ],
      "metadata": {
        "colab": {
          "base_uri": "https://localhost:8080/"
        },
        "id": "jxfqWeV6eKyN",
        "outputId": "2add3405-ac08-4397-849a-e6d2da6fd552"
      },
      "execution_count": null,
      "outputs": [
        {
          "output_type": "stream",
          "name": "stdout",
          "text": [
            "a\n",
            "u\n",
            "e\n",
            "a\n",
            "i\n",
            "a\n"
          ]
        }
      ]
    },
    {
      "cell_type": "code",
      "source": [
        "data=\"anshulmenaria\" #consonant\n",
        "count=0\n",
        "for i in data:\n",
        "  if(i not in \"aeiou\"):\n",
        "    count=count+1\n",
        "print(count)\n"
      ],
      "metadata": {
        "colab": {
          "base_uri": "https://localhost:8080/"
        },
        "id": "_sRzsGNOf3-L",
        "outputId": "815a5826-a011-4367-9766-f3335b4eb7da"
      },
      "execution_count": null,
      "outputs": [
        {
          "output_type": "stream",
          "name": "stdout",
          "text": [
            "7\n"
          ]
        }
      ]
    },
    {
      "cell_type": "code",
      "source": [
        "data = \"anshulmenaria\"\n",
        "count=0\n",
        "for i in range(0,len(data)):\n",
        "  if(data[i]!='a' and data[i]!='e' and data[i]!='i' and data[i]!='o' and data[i]!='u'):\n",
        "    count=count+1\n",
        "print(count)\n"
      ],
      "metadata": {
        "colab": {
          "base_uri": "https://localhost:8080/"
        },
        "id": "mqWRB_Efgq-s",
        "outputId": "e89ba0b8-e157-4647-f26b-f90687c3d742"
      },
      "execution_count": null,
      "outputs": [
        {
          "output_type": "stream",
          "name": "stdout",
          "text": [
            "7\n"
          ]
        }
      ]
    },
    {
      "cell_type": "code",
      "source": [
        "a = \"anshulmenaria\" #print first half\n",
        "for i in range(0,len(a)//2):\n",
        "  print(a[i])"
      ],
      "metadata": {
        "colab": {
          "base_uri": "https://localhost:8080/"
        },
        "id": "RTofM4-iheTO",
        "outputId": "b7320d25-94e9-496b-dfff-694b37eafd00"
      },
      "execution_count": null,
      "outputs": [
        {
          "output_type": "stream",
          "name": "stdout",
          "text": [
            "a\n",
            "n\n",
            "s\n",
            "h\n",
            "u\n",
            "l\n"
          ]
        }
      ]
    },
    {
      "cell_type": "code",
      "source": [
        "for i in range(1,21):\n",
        "  if(i%3==0):\n",
        "    continue\n",
        "  else:\n",
        "    print(i)"
      ],
      "metadata": {
        "colab": {
          "base_uri": "https://localhost:8080/"
        },
        "id": "S5rDhDoNjsAs",
        "outputId": "2f8766e9-f17c-4c8e-f0b7-815c3e8b462d"
      },
      "execution_count": null,
      "outputs": [
        {
          "output_type": "stream",
          "name": "stdout",
          "text": [
            "1\n",
            "2\n",
            "4\n",
            "5\n",
            "7\n",
            "8\n",
            "10\n",
            "11\n",
            "13\n",
            "14\n",
            "16\n",
            "17\n",
            "19\n",
            "20\n"
          ]
        }
      ]
    },
    {
      "cell_type": "code",
      "source": [
        "data=\"anshulmenaria\"\n",
        "count=0\n",
        "for i in range(0,len(data)):\n",
        "  if(data[i]=='a' or data[i]=='e' or data[i]=='i' or data[i]=='o' or data[i]=='u'):\n",
        "    continue\n",
        "  else:\n",
        "    count+=1\n",
        "print(count)"
      ],
      "metadata": {
        "colab": {
          "base_uri": "https://localhost:8080/"
        },
        "id": "51D8RYWnllsP",
        "outputId": "ce06b5c8-a893-481e-bca8-0bebfe5a0ce7"
      },
      "execution_count": null,
      "outputs": [
        {
          "output_type": "stream",
          "name": "stdout",
          "text": [
            "7\n"
          ]
        }
      ]
    },
    {
      "cell_type": "code",
      "source": [
        "data=\"anshulmenaria\"\n",
        "count=0\n",
        "for i in data:\n",
        "  if (i in \"aeiou\"):\n",
        "    continue\n",
        "  else:\n",
        "    count+=1\n",
        "print(count)"
      ],
      "metadata": {
        "colab": {
          "base_uri": "https://localhost:8080/"
        },
        "id": "ZE1cwX9cl8h5",
        "outputId": "c712c67f-9810-406f-bafc-3efb9cedf8cb"
      },
      "execution_count": null,
      "outputs": [
        {
          "output_type": "stream",
          "name": "stdout",
          "text": [
            "7\n"
          ]
        }
      ]
    },
    {
      "cell_type": "code",
      "source": [
        "#prime number\n",
        "x=7\n",
        "for i in range(2,x):\n",
        "  if(x%i==0):\n",
        "    print(\"not prime\")\n",
        "    break\n",
        "  else:\n",
        "    print(\"prime\")\n",
        "    break"
      ],
      "metadata": {
        "colab": {
          "base_uri": "https://localhost:8080/"
        },
        "id": "mJHSeLSvmJm-",
        "outputId": "2fa3090d-0342-4224-d181-376c5c7b5b78"
      },
      "execution_count": null,
      "outputs": [
        {
          "output_type": "stream",
          "name": "stdout",
          "text": [
            "prime\n"
          ]
        }
      ]
    },
    {
      "cell_type": "code",
      "source": [
        "num=7\n",
        "a=0\n",
        "for i in range(2,num):\n",
        "  if(num%i==0):\n",
        "    a=1 #if any number is divisible then it updates the value to 1\n",
        "    break\n",
        "\n",
        "#if value updatets then not a prime\n",
        "if(a==1):\n",
        "  print(\"not prime\")\n",
        "#if value remains 0 then it is a prime number\n",
        "else:\n",
        "  print(\"prime\")"
      ],
      "metadata": {
        "colab": {
          "base_uri": "https://localhost:8080/"
        },
        "id": "P64FUQtgoZVk",
        "outputId": "b9ebb214-6b29-4975-f6d5-e24df6458ee4"
      },
      "execution_count": null,
      "outputs": [
        {
          "output_type": "stream",
          "name": "stdout",
          "text": [
            "prime\n"
          ]
        }
      ]
    },
    {
      "cell_type": "code",
      "source": [
        "#while loop\n",
        "i=1\n",
        "while(i<5):\n",
        "  print(i)\n",
        "  i+=1"
      ],
      "metadata": {
        "colab": {
          "base_uri": "https://localhost:8080/"
        },
        "id": "yjdduAmVr2T6",
        "outputId": "bd37b254-60a6-48c7-db33-07007a7f2dcf"
      },
      "execution_count": null,
      "outputs": [
        {
          "output_type": "stream",
          "name": "stdout",
          "text": [
            "1\n",
            "2\n",
            "3\n",
            "4\n"
          ]
        }
      ]
    },
    {
      "cell_type": "code",
      "source": [
        "x=1\n",
        "count=0\n",
        "while(x<100):\n",
        "  if(x%3==0):\n",
        "    print(x)\n",
        "    count+=1\n",
        "  x=x+1\n",
        "  if(count==5):\n",
        "      break\n"
      ],
      "metadata": {
        "colab": {
          "base_uri": "https://localhost:8080/"
        },
        "id": "FJ8P-k05tDFx",
        "outputId": "1c86f880-1029-4c9c-848c-27e8e0db7fd0"
      },
      "execution_count": null,
      "outputs": [
        {
          "output_type": "stream",
          "name": "stdout",
          "text": [
            "3\n",
            "6\n",
            "9\n",
            "12\n",
            "15\n"
          ]
        }
      ]
    },
    {
      "cell_type": "code",
      "source": [
        "x=1\n",
        "count=0\n",
        "while(count<5):\n",
        "  if(x%3==0):\n",
        "    print(x)\n",
        "    count+=1\n",
        "  x=x+1"
      ],
      "metadata": {
        "colab": {
          "base_uri": "https://localhost:8080/"
        },
        "id": "vFV6JNvOtqhh",
        "outputId": "11658003-b692-4308-a5a6-c91d34f84582"
      },
      "execution_count": null,
      "outputs": [
        {
          "output_type": "stream",
          "name": "stdout",
          "text": [
            "3\n",
            "6\n",
            "9\n",
            "12\n",
            "15\n"
          ]
        }
      ]
    },
    {
      "cell_type": "code",
      "source": [
        "# take a random number\n",
        "x=1\n",
        "total=0\n",
        "while(total<100): #till the total reach 100\n",
        "  total=total+x #add the last total value in the x\n",
        "  print(x) # print the values until the condition get false\n",
        "  x+=1 #increment the x by 1\n",
        "if(total>100): #if\n",
        "  total=total-x\n",
        "  x=x-1\n",
        "print(\"Total\",total)"
      ],
      "metadata": {
        "colab": {
          "base_uri": "https://localhost:8080/"
        },
        "id": "iPrmpVUivBJS",
        "outputId": "b4ecf10f-66e6-4a64-caf6-8970908f0bc8"
      },
      "execution_count": null,
      "outputs": [
        {
          "output_type": "stream",
          "name": "stdout",
          "text": [
            "1\n",
            "2\n",
            "3\n",
            "4\n",
            "5\n",
            "6\n",
            "7\n",
            "8\n",
            "9\n",
            "10\n",
            "11\n",
            "12\n",
            "13\n",
            "14\n",
            "Total 90\n"
          ]
        }
      ]
    },
    {
      "cell_type": "code",
      "source": [],
      "metadata": {
        "id": "zeqpALhpvpT5"
      },
      "execution_count": null,
      "outputs": []
    }
  ]
}
