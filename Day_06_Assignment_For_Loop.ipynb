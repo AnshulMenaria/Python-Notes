{
  "nbformat": 4,
  "nbformat_minor": 0,
  "metadata": {
    "colab": {
      "provenance": [],
      "authorship_tag": "ABX9TyO77qA59uZ2VoeCh9p47w3w",
      "include_colab_link": true
    },
    "kernelspec": {
      "name": "python3",
      "display_name": "Python 3"
    },
    "language_info": {
      "name": "python"
    }
  },
  "cells": [
    {
      "cell_type": "markdown",
      "metadata": {
        "id": "view-in-github",
        "colab_type": "text"
      },
      "source": [
        "<a href=\"https://colab.research.google.com/github/AnshulMenaria/Python-Notes/blob/main/Day_6_Assignment_For_Loop.ipynb\" target=\"_parent\"><img src=\"https://colab.research.google.com/assets/colab-badge.svg\" alt=\"Open In Colab\"/></a>"
      ]
    },
    {
      "cell_type": "code",
      "execution_count": 15,
      "metadata": {
        "colab": {
          "base_uri": "https://localhost:8080/"
        },
        "id": "YuNqgtSev_Z9",
        "outputId": "07b7437d-de4d-461b-dd2b-410f2c95b92e"
      },
      "outputs": [
        {
          "output_type": "stream",
          "name": "stdout",
          "text": [
            "enter a number50\n",
            "1\n",
            "2\n",
            "5\n",
            "10\n",
            "25\n",
            "50\n"
          ]
        }
      ],
      "source": [
        "# 1. Print all factors of a given number provided by the user.\n",
        "\n",
        "num=int(input(\"enter a number\"))\n",
        "for i in range(1,num+1):\n",
        "    if num%i==0:\n",
        "        print(i)"
      ]
    },
    {
      "cell_type": "code",
      "source": [
        "# 2. Print all the armstrong numbers in the range of 100 to 1000 [M]\n",
        "\n",
        "for i in range(100,1000):\n",
        "    num=i\n",
        "    sum=0\n",
        "    while num>0:\n",
        "        rem=num%10\n",
        "        sum=sum+rem**3\n",
        "        num=num//10\n",
        "    if sum==i:\n",
        "        print(i)"
      ],
      "metadata": {
        "colab": {
          "base_uri": "https://localhost:8080/"
        },
        "id": "8ym8mQ5Fxf5Y",
        "outputId": "28de3791-afc4-4fa0-e912-742e52c3f893"
      },
      "execution_count": 16,
      "outputs": [
        {
          "output_type": "stream",
          "name": "stdout",
          "text": [
            "153\n",
            "370\n",
            "371\n",
            "407\n"
          ]
        }
      ]
    },
    {
      "cell_type": "code",
      "source": [
        "# 3. The current population of a town is 10000. The population of the town is increasing at\n",
        "# the rate of 10% per year. You have to write a program to find out the population at the\n",
        "# end of each of the last 10 years. For eg current population is 10000 so the output\n",
        "# should be like this:\n",
        "# a. 10th year => 10000\n",
        "# b. 09th year => 9000\n",
        "# c. 08th year => 8100 and so on\n",
        "\n",
        "current_population = 10000\n",
        "growth_rate = 0.10\n",
        "\n",
        "for year in range(10, 0, -1):\n",
        "  if(year==10):\n",
        "    print(\"Year:\",year)\n",
        "    print(\"Population:\",int(current_population))\n",
        "  else:\n",
        "    current_population = (current_population - (current_population * growth_rate))\n",
        "    print(\"Year:\",year)\n",
        "    print(\"Population:\",int(current_population))\n"
      ],
      "metadata": {
        "colab": {
          "base_uri": "https://localhost:8080/"
        },
        "id": "3_NtssBzxh-e",
        "outputId": "47f6e12d-8e68-4fd5-9205-b525f86e7d51"
      },
      "execution_count": 39,
      "outputs": [
        {
          "output_type": "stream",
          "name": "stdout",
          "text": [
            "Year: 10\n",
            "Population: 10000\n",
            "Year: 9\n",
            "Population: 9000\n",
            "Year: 8\n",
            "Population: 8100\n",
            "Year: 7\n",
            "Population: 7290\n",
            "Year: 6\n",
            "Population: 6561\n",
            "Year: 5\n",
            "Population: 5904\n",
            "Year: 4\n",
            "Population: 5314\n",
            "Year: 3\n",
            "Population: 4782\n",
            "Year: 2\n",
            "Population: 4304\n",
            "Year: 1\n",
            "Population: 3874\n"
          ]
        }
      ]
    },
    {
      "cell_type": "code",
      "source": [
        "# 4. Write a program to print whether a given number is prime number or not\n",
        "\n",
        "num=int(input(\"Enter number:\"))\n",
        "a=0\n",
        "for i in range(2,num):\n",
        "  if(num%i==0):\n",
        "    a=1 #if any number is divisible then it updates the value to 1\n",
        "    break\n",
        "\n",
        "#if value updatets then not a prime\n",
        "if(a==1):\n",
        "  print(\"not prime\")\n",
        "#if value remains 0 then it is a prime number\n",
        "else:\n",
        "  print(\"prime\")"
      ],
      "metadata": {
        "colab": {
          "base_uri": "https://localhost:8080/"
        },
        "id": "YPCGGU71_CiS",
        "outputId": "0c2402d4-8d9c-42d7-e3bd-b1a3cc054095"
      },
      "execution_count": 41,
      "outputs": [
        {
          "output_type": "stream",
          "name": "stdout",
          "text": [
            "Enter number:55\n",
            "not prime\n"
          ]
        }
      ]
    },
    {
      "cell_type": "code",
      "source": [
        "# 5. User will provide 2 numbers you have to find the by LCM of those 2 numbers\n",
        "\n",
        "num1=int(input(\"Enter First Number:\"))\n",
        "num2=int(input(\"Enter Second Number:\"))\n",
        "if(num1>num2):\n",
        "  greater=num1\n",
        "  lower=num2\n",
        "else:\n",
        "  greater=num2\n",
        "  lower=num1\n",
        "while(True):\n",
        "  if((greater%num1==0)and(greater%num2==0)):\n",
        "    print(\"LCM is:\",greater)\n",
        "    break\n",
        "  greater+=1"
      ],
      "metadata": {
        "colab": {
          "base_uri": "https://localhost:8080/"
        },
        "id": "kMIjxlRixlk9",
        "outputId": "b87cdae6-4092-4658-a163-325ea51770d2"
      },
      "execution_count": 42,
      "outputs": [
        {
          "output_type": "stream",
          "name": "stdout",
          "text": [
            "Enter First Number:4\n",
            "Enter Second Number:3\n",
            "LCM is: 12\n"
          ]
        }
      ]
    },
    {
      "cell_type": "code",
      "source": [
        "# 6. User will provide 2 numbers you have to find the HCF of those 2 numbers\n",
        "\n",
        "num1=int(input(\"Enter First Number:\"))\n",
        "num2=int(input(\"Enter Second Number:\"))\n",
        "if(num1>num2):\n",
        "  greater=num1\n",
        "  lower=num2\n",
        "else:\n",
        "  greater=num2\n",
        "  lower=num1\n",
        "  while(True):\n",
        "    if((num1%greater==0)and(num2%greater==0)):\n",
        "      print(\"HCF is:\",greater)\n",
        "      break\n",
        "    greater-=1\n"
      ],
      "metadata": {
        "colab": {
          "base_uri": "https://localhost:8080/"
        },
        "id": "j1NVjWfaxm2F",
        "outputId": "c9602ec0-5e87-4950-8993-593fa024e5d9"
      },
      "execution_count": 45,
      "outputs": [
        {
          "output_type": "stream",
          "name": "stdout",
          "text": [
            "Enter First Number:2\n",
            "Enter Second Number:4\n",
            "HCF is: 2\n"
          ]
        }
      ]
    },
    {
      "cell_type": "code",
      "source": [
        "# 7. Write a program to find the sum of first n numbers, where n will be provided by the\n",
        "# user. Eg if the user provides n=10 the output should be 55.\n",
        "\n",
        "num=int(input(\"enter a number\"))\n",
        "sum=0\n",
        "for i in range(1,num+1):\n",
        "    sum=sum+i\n",
        "print(sum)\n"
      ],
      "metadata": {
        "colab": {
          "base_uri": "https://localhost:8080/"
        },
        "id": "D95YgvxIxoOe",
        "outputId": "7c676bd3-33ba-447e-f664-d5f36389fcac"
      },
      "execution_count": 46,
      "outputs": [
        {
          "output_type": "stream",
          "name": "stdout",
          "text": [
            "enter a number10\n",
            "55\n"
          ]
        }
      ]
    },
    {
      "cell_type": "code",
      "source": [
        "# 8. Write a program that can multiply 2 numbers provided by the user without using the\n",
        "# ( * multiply) operator\n",
        "\n",
        "num1=int(input(\"Enter First Number:\"))\n",
        "num2=int(input(\"Enter Second Number:\"))\n",
        "sum=0\n",
        "for i in range(1,num2+1):\n",
        "    sum=sum+num1\n",
        "print(sum)"
      ],
      "metadata": {
        "colab": {
          "base_uri": "https://localhost:8080/"
        },
        "id": "L42_wuSAxqZD",
        "outputId": "c77553ce-d269-4437-8a13-c56cf5979f05"
      },
      "execution_count": 50,
      "outputs": [
        {
          "output_type": "stream",
          "name": "stdout",
          "text": [
            "Enter First Number:4\n",
            "Enter Second Number:5\n",
            "20\n"
          ]
        }
      ]
    },
    {
      "cell_type": "code",
      "source": [
        "# 9. Write a program that can find the factorial of a given number provided by the user.\n",
        "\n",
        "num=int(input(\"enter a number\"))\n",
        "fact=1\n",
        "for i in range(1,num+1):\n",
        "    fact=fact*i\n",
        "print(fact)\n"
      ],
      "metadata": {
        "colab": {
          "base_uri": "https://localhost:8080/"
        },
        "id": "MOZNqBbXxtsk",
        "outputId": "cb854a66-5917-4b56-fc3d-de4dfb24e4e5"
      },
      "execution_count": 49,
      "outputs": [
        {
          "output_type": "stream",
          "name": "stdout",
          "text": [
            "enter a number5\n",
            "120\n"
          ]
        }
      ]
    },
    {
      "cell_type": "code",
      "source": [
        "# 10. Write a program to count the total number of digits in a number using a while loop.\n",
        "# a. For example, the number is 75869, so the output should be 5.\n",
        "\n",
        "num=int(input(\"enter a number\"))\n",
        "count=0\n",
        "while num>0:\n",
        "    count=count+1\n",
        "    num=num//10\n",
        "print(count)"
      ],
      "metadata": {
        "colab": {
          "base_uri": "https://localhost:8080/"
        },
        "id": "_r_1hU-Exu69",
        "outputId": "ce1f370a-b19e-4ea5-bc59-7477e0400ac8"
      },
      "execution_count": 47,
      "outputs": [
        {
          "output_type": "stream",
          "name": "stdout",
          "text": [
            "enter a number75869\n",
            "5\n"
          ]
        }
      ]
    },
    {
      "cell_type": "code",
      "source": [
        "# 11. Write a program that keeps on accepting a number from the user until the user enters\n",
        "# Zero. Display the sum and average of all the numbers.\n",
        "\n",
        "sum=0\n",
        "count=0\n",
        "while (True):\n",
        "    num=int(input(\"enter a number\"))\n",
        "    if(num==0):\n",
        "        break\n",
        "    sum=sum+num\n",
        "    count=count+1\n",
        "print(\"Sum is:\",sum)\n",
        "average=sum/count\n",
        "print(\"Average is:\",average)"
      ],
      "metadata": {
        "colab": {
          "base_uri": "https://localhost:8080/"
        },
        "id": "HRo8xH4Sxwux",
        "outputId": "34af17c1-e95f-4d02-ae6b-6fc3c7bf6b4c"
      },
      "execution_count": 52,
      "outputs": [
        {
          "output_type": "stream",
          "name": "stdout",
          "text": [
            "enter a number2\n",
            "enter a number3\n",
            "enter a number4\n",
            "enter a number5\n",
            "enter a number0\n",
            "sum is: 14\n",
            "average is: 3.5\n"
          ]
        }
      ]
    },
    {
      "cell_type": "code",
      "source": [
        "# 12. Write a program to print multiplication table of a given number For example, num = 2\n",
        "# so the output should be 2,4,6,8....20.\n",
        "\n",
        "num=int(input(\"enter a number:\"))\n",
        "for i in range(1,11):\n",
        "    print( num*i)"
      ],
      "metadata": {
        "colab": {
          "base_uri": "https://localhost:8080/"
        },
        "id": "_Ceby_xyxycx",
        "outputId": "fc478ba0-0342-44ee-be38-f4ae714a0606"
      },
      "execution_count": 58,
      "outputs": [
        {
          "output_type": "stream",
          "name": "stdout",
          "text": [
            "enter a number:2\n",
            "2\n",
            "4\n",
            "6\n",
            "8\n",
            "10\n",
            "12\n",
            "14\n",
            "16\n",
            "18\n",
            "20\n"
          ]
        }
      ]
    },
    {
      "cell_type": "code",
      "source": [
        "# 13. Use else block to display a message “Done” after successful execution of for loop\n",
        "# For example, the following loop will execute without any error.\n",
        "\n",
        "for i in range(1,1):\n",
        "    print(i)\n",
        "else:\n",
        "    print(\"Done!\")"
      ],
      "metadata": {
        "colab": {
          "base_uri": "https://localhost:8080/"
        },
        "id": "tBI8_xL_x0fr",
        "outputId": "04c9006a-c233-404a-8dd2-fd78246e48ca"
      },
      "execution_count": 64,
      "outputs": [
        {
          "output_type": "stream",
          "name": "stdout",
          "text": [
            "Done!\n"
          ]
        }
      ]
    },
    {
      "cell_type": "code",
      "source": [
        "# 14. Display Fibonacci series up to 10 terms\n",
        "# a. The Fibonacci Sequence is a series of numbers. The next number is found by\n",
        "# adding up the two numbers before it. The first two numbers are 0 and 1.\n",
        "# b. For example, 0, 1, 1, 2, 3, 5, 8, 13, 21. The next number in this series above\n",
        "# is 13+21 = 34.\n",
        "\n",
        "num=int(input(\"Enter Numbers:\"))\n",
        "a=0\n",
        "b=1\n",
        "print(a)\n",
        "print(b)\n",
        "for i in range(1,num-1):\n",
        "  c=a+b\n",
        "  print(c)\n",
        "  a=b\n",
        "  b=c\n",
        ""
      ],
      "metadata": {
        "colab": {
          "base_uri": "https://localhost:8080/"
        },
        "id": "r_shymh1x2E3",
        "outputId": "a9b448d2-6a87-43c5-d947-cd063ef68500"
      },
      "execution_count": 65,
      "outputs": [
        {
          "output_type": "stream",
          "name": "stdout",
          "text": [
            "Enter Numbers:6\n",
            "0\n",
            "1\n",
            "1\n",
            "2\n",
            "3\n",
            "5\n"
          ]
        }
      ]
    },
    {
      "cell_type": "code",
      "source": [
        "# 15. Write a program to print all the unique combinations of two digits from 1 to 4 for ex\n",
        "# (1,2),(2,3)..... [Medium level]\n",
        "\n",
        "for i in range(1,5):\n",
        "  for j in range(1,5):\n",
        "    if i!=j:\n",
        "      print(\"(\",i,\",\",j,\")\")"
      ],
      "metadata": {
        "colab": {
          "base_uri": "https://localhost:8080/"
        },
        "id": "fjGLnE6Hx3nJ",
        "outputId": "1ee02d1b-3124-4c43-f208-9febeaf52721"
      },
      "execution_count": 69,
      "outputs": [
        {
          "output_type": "stream",
          "name": "stdout",
          "text": [
            "( 1 , 2 )\n",
            "( 1 , 3 )\n",
            "( 1 , 4 )\n",
            "( 2 , 1 )\n",
            "( 2 , 3 )\n",
            "( 2 , 4 )\n",
            "( 3 , 1 )\n",
            "( 3 , 2 )\n",
            "( 3 , 4 )\n",
            "( 4 , 1 )\n",
            "( 4 , 2 )\n",
            "( 4 , 3 )\n"
          ]
        }
      ]
    }
  ]
}
