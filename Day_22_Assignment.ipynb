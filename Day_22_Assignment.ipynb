{
 "cells": [
  {
   "cell_type": "code",
   "execution_count": 26,
   "id": "d7288638-69eb-4d37-8fe3-100703627a92",
   "metadata": {},
   "outputs": [
    {
     "name": "stdout",
     "output_type": "stream",
     "text": [
      "20\n",
      "{'A': 20, 'B': 21, 'C': 19, 'D': 22}\n",
      "{'A': 20, 'B': 21, 'C': 19, 'D': 21}\n",
      "{'A': 20, 'B': 21, 'D': 21}\n",
      "True\n",
      "A 20\n",
      "B 21\n",
      "D 21\n",
      "dict_keys(['A', 'B', 'D'])\n",
      "dict_values([20, 21, 21])\n",
      "Not Found\n",
      "{'A': {'Age': 20, 'Grade': 'A'}, 'B': {'Age': 21, 'Grade': 'B'}}\n"
     ]
    }
   ],
   "source": [
    "# 1. Create a dictionary containing names as keys and their ages as values. Print the dictionary.  \n",
    "students={\"A\":20,\"B\":21,\"C\":19}\n",
    "\n",
    "# 2. Access a value from a dictionary using a key.  \n",
    "print(students[\"A\"])\n",
    "\n",
    "# 3. Add a new key-value pair to an existing dictionary.  \n",
    "students[\"D\"]=22\n",
    "print(students)\n",
    "\n",
    "# 4. Update the value of an existing key in a dictionary.  \n",
    "students[\"D\"] = 21\n",
    "print(students)\n",
    "\n",
    "# 5. Delete a key-value pair from a dictionary using `del`.  \n",
    "del students[\"C\"]\n",
    "print(students)\n",
    "\n",
    "# 6. Check if a key exists in a dictionary using `in`. \n",
    "print(\"A\" in students)\n",
    "\n",
    "# 7. Loop through keys and values in a dictionary.  \n",
    "for i,j in students.items():\n",
    "    print(i,j)\n",
    "    \n",
    "# 8. Get all keys and values from a dictionary using `.keys()` and `.values()`.  \n",
    "print(students.keys())\n",
    "print(students.values())\n",
    "\n",
    "# 9. Use `.get()` to retrieve a value safely (without KeyError).  \n",
    "print(students.get(\"E\",\"Not Found\"))\n",
    "\n",
    "# 10. Create a nested dictionary where each key has another dictionary as a value (e.g., storing student details).  \n",
    "classroom = {\n",
    "    \"A\": {\"Age\": 20, \"Grade\": \"A\"},\n",
    "    \"B\": {\"Age\": 21, \"Grade\": \"B\"}\n",
    "}\n",
    "\n",
    "print(classroom)"
   ]
  },
  {
   "cell_type": "code",
   "execution_count": 25,
   "id": "c1203e17-3c50-497e-b2de-35162d70cee1",
   "metadata": {},
   "outputs": [
    {
     "name": "stdout",
     "output_type": "stream",
     "text": [
      "[10, 20, 30, 40, 50]\n",
      "30\n",
      "[20, 30, 40]\n",
      "[10, 20, 30, 40, 50, 60]\n",
      "[10, 20, 40, 50, 60]\n",
      "[10, 20, 40, 50, 60]\n",
      "[60, 50, 40, 20, 10]\n",
      "[10, 20, 40, 50, 60]\n",
      "2\n",
      "[100, 400, 1600, 2500, 3600]\n",
      "[10, 20, 40, 50, 60, 70, 80, 90]\n"
     ]
    }
   ],
   "source": [
    "# 1. Create a list with at least 5 elements and print it.\n",
    "numbers = [10, 20, 30, 40, 50]\n",
    "print(numbers)\n",
    "\n",
    "# 2. Access an element from the list using an index.\n",
    "print(numbers[2])\n",
    "\n",
    "# 3. Slice a list to get a sublist.\n",
    "print(numbers[1:4])\n",
    "\n",
    "# 4. Append a new element to a list.\n",
    "numbers.append(60)\n",
    "print(numbers)\n",
    "\n",
    "# 5. Remove an element from a list using `.remove()` or `.pop()`.\n",
    "numbers.remove(30)\n",
    "print(numbers)\n",
    "\n",
    "# 6. Sort a list in ascending and descending order.\n",
    "numbers.sort()\n",
    "print(numbers)  # Ascending order\n",
    "numbers.sort(reverse=True)\n",
    "print(numbers)  # Descending order\n",
    "\n",
    "# 7. Reverse a list using slicing or `.reverse()`.\n",
    "numbers.reverse()\n",
    "print(numbers)\n",
    "\n",
    "# 8. Find the index of an element in the list.\n",
    "print(numbers.index(40))\n",
    "\n",
    "# 9. Use a list comprehension to create a new list from an existing list.\n",
    "squared = [x**2 for x in numbers]\n",
    "print(squared)\n",
    "\n",
    "# 10. Concatenate two lists and print the result.\n",
    "more_numbers = [70, 80, 90]\n",
    "all_numbers = numbers + more_numbers\n",
    "print(all_numbers)\n"
   ]
  },
  {
   "cell_type": "code",
   "execution_count": 29,
   "id": "5562e2a8-4b51-4086-9e82-c2d1474b5d56",
   "metadata": {},
   "outputs": [
    {
     "name": "stdout",
     "output_type": "stream",
     "text": [
      "('apple', 'banana', 'cherry', 'mango', 'grape')\n",
      "banana\n",
      "('banana', 'cherry', 'mango')\n",
      "True\n",
      "5\n",
      "1\n",
      "2\n",
      "['apple', 'banana', 'cherry', 'mango', 'grape', 'kiwi']\n",
      "apple banana cherry mango grape\n",
      "b\n"
     ]
    }
   ],
   "source": [
    "# 1. Create a tuple with at least 5 elements and print it.\n",
    "fruits = (\"apple\", \"banana\", \"cherry\", \"mango\", \"grape\")\n",
    "print(fruits)\n",
    "\n",
    "# 2. Access an element from a tuple using an index.\n",
    "print(fruits[1])\n",
    "\n",
    "# 3. Slice a tuple to get a sub-tuple.\n",
    "print(fruits[1:4])\n",
    "\n",
    "# 4. Check if an element exists in a tuple using `in`.\n",
    "print(\"apple\" in fruits)\n",
    "\n",
    "# 5. Find the length of a tuple using `len()`.\n",
    "print(len(fruits))\n",
    "\n",
    "# 6. Count occurrences of an element in a tuple using `.count()`.\n",
    "print(fruits.count(\"banana\"))\n",
    "\n",
    "# 7. Find the index of an element in a tuple using `.index()`.\n",
    "print(fruits.index(\"cherry\"))\n",
    "\n",
    "# 8. Convert a tuple to a list and modify it.\n",
    "fruits_list = list(fruits)\n",
    "fruits_list.append(\"kiwi\")\n",
    "print(fruits_list)\n",
    "\n",
    "# 9. Unpack tuple values into multiple variables.\n",
    "a, b, c, d, e = fruits\n",
    "print(a, b, c, d, e)\n",
    "\n",
    "# 10. Create a nested tuple and access elements from it.\n",
    "nested_tuple = ((\"a\", 10), (\"b\", 8), (\"c\", 4))\n",
    "print(nested_tuple[1][0])\n"
   ]
  },
  {
   "cell_type": "code",
   "execution_count": null,
   "id": "92d44d1e-30ed-4ec0-8980-f1901d272274",
   "metadata": {},
   "outputs": [],
   "source": []
  }
 ],
 "metadata": {
  "kernelspec": {
   "display_name": "Python 3 (ipykernel)",
   "language": "python",
   "name": "python3"
  },
  "language_info": {
   "codemirror_mode": {
    "name": "ipython",
    "version": 3
   },
   "file_extension": ".py",
   "mimetype": "text/x-python",
   "name": "python",
   "nbconvert_exporter": "python",
   "pygments_lexer": "ipython3",
   "version": "3.10.11"
  }
 },
 "nbformat": 4,
 "nbformat_minor": 5
}
