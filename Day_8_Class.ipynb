{
  "nbformat": 4,
  "nbformat_minor": 0,
  "metadata": {
    "colab": {
      "provenance": [],
      "gpuType": "T4",
      "authorship_tag": "ABX9TyMsGFkZHx3gDto4xnD21g5Z",
      "include_colab_link": true
    },
    "kernelspec": {
      "name": "python3",
      "display_name": "Python 3"
    },
    "language_info": {
      "name": "python"
    },
    "accelerator": "GPU"
  },
  "cells": [
    {
      "cell_type": "markdown",
      "metadata": {
        "id": "view-in-github",
        "colab_type": "text"
      },
      "source": [
        "<a href=\"https://colab.research.google.com/github/AnshulMenaria/Python-Notes/blob/main/Day_8_Class.ipynb\" target=\"_parent\"><img src=\"https://colab.research.google.com/assets/colab-badge.svg\" alt=\"Open In Colab\"/></a>"
      ]
    },
    {
      "cell_type": "code",
      "execution_count": null,
      "metadata": {
        "colab": {
          "base_uri": "https://localhost:8080/"
        },
        "id": "KN0ZQEfDf7nN",
        "outputId": "aa147c70-ab73-4d80-ba6e-96812937a62c"
      },
      "outputs": [
        {
          "output_type": "stream",
          "name": "stdout",
          "text": [
            "20\n",
            "7\n",
            "4\n",
            "Y= [20, 7, 4]\n"
          ]
        }
      ],
      "source": [
        "x=[10,20,7,4,3,12]\n",
        "y=[]\n",
        "for i in range(0,len(x)-1):\n",
        "  if(x[i] > x[i+1]):\n",
        "    print(x[i])\n",
        "    y.append(x[i])\n",
        "print(\"Y=\",y)"
      ]
    },
    {
      "cell_type": "code",
      "source": [
        "x=[10,20,7,4,3,12]\n",
        "a=0\n",
        "for i in range(0,len(x)-1):\n",
        "  if(x[i] > a):\n",
        "    a=x[i]\n",
        "print(\"Greatest:\",a)"
      ],
      "metadata": {
        "colab": {
          "base_uri": "https://localhost:8080/"
        },
        "id": "rPsrRTnQhVMN",
        "outputId": "0e5c05d4-1258-4188-bd15-54d2d3d9796e"
      },
      "execution_count": null,
      "outputs": [
        {
          "output_type": "stream",
          "name": "stdout",
          "text": [
            "Greatest: 20\n"
          ]
        }
      ]
    },
    {
      "cell_type": "code",
      "source": [
        "x=[10,20,7,40,3,12]\n",
        "a=0\n",
        "for i in range(0,len(x)-1):\n",
        "  for j in range(i,len(x)):\n",
        "    if(x[j]>x[i]):\n",
        "      a=x[j]\n",
        "      x[i]=x[j]\n",
        "      x[j]=a\n",
        "    else:\n",
        "      a=x[i]\n",
        "      x[j]=x[i]\n",
        "      x[i]=a\n",
        "print(\"Greatest:\",a)\n"
      ],
      "metadata": {
        "colab": {
          "base_uri": "https://localhost:8080/"
        },
        "id": "VS_wwMjyktHa",
        "outputId": "3cb61f14-3852-41f8-a1b8-302249d6af88"
      },
      "execution_count": null,
      "outputs": [
        {
          "output_type": "stream",
          "name": "stdout",
          "text": [
            "Greatest: 40\n"
          ]
        }
      ]
    },
    {
      "cell_type": "code",
      "source": [
        "x=[1,3,2,5,6,10,9]\n",
        "max1=x[0]\n",
        "max2=0\n",
        "for i in range(0,len(x)):\n",
        "  if(x[i] > max1):\n",
        "    max2=max1\n",
        "    max1=x[i]\n",
        "  elif(x[i] > max2):\n",
        "      max2=x[i]\n",
        "print(\"Second Highest:\",max2)"
      ],
      "metadata": {
        "colab": {
          "base_uri": "https://localhost:8080/"
        },
        "id": "UXOpn7b8q_rP",
        "outputId": "288a7419-ac2a-4517-d1b2-842b4c22d724"
      },
      "execution_count": null,
      "outputs": [
        {
          "output_type": "stream",
          "name": "stdout",
          "text": [
            "Second Highest: 9\n"
          ]
        }
      ]
    },
    {
      "cell_type": "code",
      "source": [
        "x=[0,1,2,4,6,8,9,11]\n",
        "k=13\n",
        "for i in range(0,len(x)):\n",
        "  for j in range(i+1,len(x)):\n",
        "    if(x[i]+x[j]==k):\n",
        "      print(x[i],x[j])\n",
        "\n"
      ],
      "metadata": {
        "colab": {
          "base_uri": "https://localhost:8080/"
        },
        "id": "0V6MOPYiuFgJ",
        "outputId": "822b1ac7-4149-46e9-9e6e-e35856af7932"
      },
      "execution_count": null,
      "outputs": [
        {
          "output_type": "stream",
          "name": "stdout",
          "text": [
            "2 11\n",
            "4 9\n"
          ]
        }
      ]
    },
    {
      "cell_type": "code",
      "source": [
        "x=[-3,1,2,4,6,8,9,11]\n",
        "a=13\n",
        "for i in range(0,len(x)):\n",
        "  for j in range(i+1,len(x)):\n",
        "    for k in range(j+1,len(x)):\n",
        "      if(x[i]+x[j]+x[k]==a):\n",
        "        print(x[i],x[j],x[k])\n",
        "\n"
      ],
      "metadata": {
        "colab": {
          "base_uri": "https://localhost:8080/"
        },
        "id": "5hMWabLbvvTs",
        "outputId": "19c37a4e-fcb3-4650-fc23-42b55de3708c"
      },
      "execution_count": null,
      "outputs": [
        {
          "output_type": "stream",
          "name": "stdout",
          "text": [
            "1 4 8\n"
          ]
        }
      ]
    },
    {
      "cell_type": "code",
      "source": [
        "x=[0,1,2,4,6,8,9,11]\n",
        "k=13\n",
        "for i in range(0,len(x)-1):\n",
        "  if(x[i]+x[i+1]==k):\n",
        "    print(x[i])\n",
        "\n"
      ],
      "metadata": {
        "id": "bCTSApP1wflj"
      },
      "execution_count": null,
      "outputs": []
    },
    {
      "cell_type": "code",
      "source": [
        "#what is time complexity\n",
        "#how to figure out/calculate time complexity\n",
        "#enumerate vs zip function\n",
        "#list revision\n",
        "#what is dictionary and what are its usage\n"
      ],
      "metadata": {
        "id": "XodscDDvxrqA"
      },
      "execution_count": null,
      "outputs": []
    }
  ]
}