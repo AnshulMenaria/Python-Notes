{
  "nbformat": 4,
  "nbformat_minor": 0,
  "metadata": {
    "colab": {
      "provenance": [],
      "authorship_tag": "ABX9TyMju2aJxTxI5sJPWcuQ8Dq6",
      "include_colab_link": true
    },
    "kernelspec": {
      "name": "python3",
      "display_name": "Python 3"
    },
    "language_info": {
      "name": "python"
    }
  },
  "cells": [
    {
      "cell_type": "markdown",
      "metadata": {
        "id": "view-in-github",
        "colab_type": "text"
      },
      "source": [
        "<a href=\"https://colab.research.google.com/github/AnshulMenaria/Python-Notes/blob/main/Day_15_Assignment.ipynb\" target=\"_parent\"><img src=\"https://colab.research.google.com/assets/colab-badge.svg\" alt=\"Open In Colab\"/></a>"
      ]
    },
    {
      "cell_type": "code",
      "execution_count": 5,
      "metadata": {
        "colab": {
          "base_uri": "https://localhost:8080/"
        },
        "id": "UT-Lg-P9r46X",
        "outputId": "5360a3f3-1414-40bc-c71e-a9e68be95b4c"
      },
      "outputs": [
        {
          "output_type": "stream",
          "name": "stdout",
          "text": [
            "2 4 6 8 10 12 14 16 18 20 \n",
            "3 6 9 12 15 18 21 24 27 30 \n",
            "4 8 12 16 20 24 28 32 36 40 \n",
            "5 10 15 20 25 30 35 40 45 50 \n"
          ]
        }
      ],
      "source": [
        "# 1. Nested loop  overview\n",
        "# -take a number from 2 to 5 and print its table\n",
        "\n",
        "for i in range(2,6):\n",
        "  for j in range(1,11):\n",
        "    print(i*j,end=\" \")\n",
        "  print()"
      ]
    },
    {
      "cell_type": "code",
      "source": [
        "# -take a number from 6 to 2 and print its table\n",
        "for i in range(6,1,-1):\n",
        "  for j in range(1,11):\n",
        "    print(i*j,end=\" \")\n",
        "  print()"
      ],
      "metadata": {
        "colab": {
          "base_uri": "https://localhost:8080/"
        },
        "id": "NitUdn5ss9iT",
        "outputId": "eef84402-2c61-43f8-a7ec-aeff5d9cb2f7"
      },
      "execution_count": 6,
      "outputs": [
        {
          "output_type": "stream",
          "name": "stdout",
          "text": [
            "6 12 18 24 30 36 42 48 54 60 \n",
            "5 10 15 20 25 30 35 40 45 50 \n",
            "4 8 12 16 20 24 28 32 36 40 \n",
            "3 6 9 12 15 18 21 24 27 30 \n",
            "2 4 6 8 10 12 14 16 18 20 \n"
          ]
        }
      ]
    },
    {
      "cell_type": "code",
      "source": [
        "# -take a number from 6 to 2 and print its table in reversse\n",
        "#  60  54  48 42 36 30 24 18 12 6\n",
        "for i in range(6,1,-1):\n",
        "  for j in range(10,0,-1):\n",
        "    print(i*j,end=\" \")\n",
        "  print()"
      ],
      "metadata": {
        "colab": {
          "base_uri": "https://localhost:8080/"
        },
        "id": "8xO_Gzjzs-UC",
        "outputId": "a06b23e5-6cb4-4cde-e5cb-a2846ebd1a7e"
      },
      "execution_count": 7,
      "outputs": [
        {
          "output_type": "stream",
          "name": "stdout",
          "text": [
            "60 54 48 42 36 30 24 18 12 6 \n",
            "50 45 40 35 30 25 20 15 10 5 \n",
            "40 36 32 28 24 20 16 12 8 4 \n",
            "30 27 24 21 18 15 12 9 6 3 \n",
            "20 18 16 14 12 10 8 6 4 2 \n"
          ]
        }
      ]
    },
    {
      "cell_type": "code",
      "source": [
        "# 2. Check a number is a prime not\n",
        "\n",
        "num = int(input(\"Enter a number: \"))\n",
        "a=0\n",
        "for i in range(2,num):\n",
        "  if num%i==0:\n",
        "    a=1\n",
        "    break\n",
        "if a==0:\n",
        "  print(\"prime\")\n",
        "else:\n",
        "  print(\"not prime\")"
      ],
      "metadata": {
        "colab": {
          "base_uri": "https://localhost:8080/"
        },
        "id": "hkrip2tvtYj6",
        "outputId": "fb323d7c-a972-445a-9932-8ba4020d9f97"
      },
      "execution_count": 11,
      "outputs": [
        {
          "output_type": "stream",
          "name": "stdout",
          "text": [
            "Enter a number: 11\n",
            "prime\n"
          ]
        }
      ]
    },
    {
      "cell_type": "code",
      "source": [
        "# 3. Take a range of values from 2to 19 and print all prime number\n",
        "\n",
        "for i in range(2,20):\n",
        "  a=0\n",
        "  for j in range(2,i):\n",
        "    if i%j==0:\n",
        "      a=1\n",
        "      break\n",
        "  if a==0:\n",
        "    print(i)"
      ],
      "metadata": {
        "colab": {
          "base_uri": "https://localhost:8080/"
        },
        "id": "zojhNgtyteaC",
        "outputId": "7746f8d4-3fe2-4009-e0d2-4410d2198b2d"
      },
      "execution_count": 12,
      "outputs": [
        {
          "output_type": "stream",
          "name": "stdout",
          "text": [
            "2\n",
            "3\n",
            "5\n",
            "7\n",
            "11\n",
            "13\n",
            "17\n",
            "19\n"
          ]
        }
      ]
    },
    {
      "cell_type": "code",
      "source": [
        "# 4.\n",
        "# ****\n",
        "# ***\n",
        "# **\n",
        "# *\n",
        "\n",
        "for i in range(4,0,-1):\n",
        "  for j in range(1,i+1):\n",
        "    print(\"*\",end=\"\")\n",
        "  print()"
      ],
      "metadata": {
        "colab": {
          "base_uri": "https://localhost:8080/"
        },
        "id": "RX2H2QgktgVD",
        "outputId": "2c30a44b-9101-463c-a6bb-767942736238"
      },
      "execution_count": 13,
      "outputs": [
        {
          "output_type": "stream",
          "name": "stdout",
          "text": [
            "****\n",
            "***\n",
            "**\n",
            "*\n"
          ]
        }
      ]
    },
    {
      "cell_type": "code",
      "source": [
        "# 5.\n",
        "# $$$*\n",
        "# $$**\n",
        "# $***\n",
        "# ****\n",
        "\n",
        "for i in range(4,0,-1):\n",
        "  for j in range(1,i):\n",
        "    print(\"$\",end=\"\")\n",
        "  for k in range(i,5):\n",
        "    print(\"*\",end=\"\")\n",
        "  print()"
      ],
      "metadata": {
        "colab": {
          "base_uri": "https://localhost:8080/"
        },
        "id": "PTS-E-fvthzS",
        "outputId": "e0863e94-254f-4371-c4c0-d0e444fc63a8"
      },
      "execution_count": 24,
      "outputs": [
        {
          "output_type": "stream",
          "name": "stdout",
          "text": [
            "$$$*\n",
            "$$**\n",
            "$***\n",
            "****\n"
          ]
        }
      ]
    },
    {
      "cell_type": "code",
      "source": [],
      "metadata": {
        "id": "Mi8nXbEcuCua"
      },
      "execution_count": null,
      "outputs": []
    }
  ]
}