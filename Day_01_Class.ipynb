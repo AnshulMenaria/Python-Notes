{
  "nbformat": 4,
  "nbformat_minor": 0,
  "metadata": {
    "colab": {
      "provenance": [],
      "authorship_tag": "ABX9TyOX96IWwN+YUbTSJZLI2vV9",
      "include_colab_link": true
    },
    "kernelspec": {
      "name": "python3",
      "display_name": "Python 3"
    },
    "language_info": {
      "name": "python"
    }
  },
  "cells": [
    {
      "cell_type": "markdown",
      "metadata": {
        "id": "view-in-github",
        "colab_type": "text"
      },
      "source": [
        "<a href=\"https://colab.research.google.com/github/AnshulMenaria/Python-Assignments/blob/main/Day_1_Class.ipynb\" target=\"_parent\"><img src=\"https://colab.research.google.com/assets/colab-badge.svg\" alt=\"Open In Colab\"/></a>"
      ]
    },
    {
      "cell_type": "code",
      "source": [
        "#Go to Browser --> Google Collab --> New NoteBook\n"
      ],
      "metadata": {
        "id": "sx9hyTXeosxv"
      },
      "execution_count": null,
      "outputs": []
    },
    {
      "cell_type": "code",
      "source": [
        "#Installation Process of Python\n",
        "\n",
        "#Options:\n",
        "# 1. Install Python --> Install Code Editor(VS Code) --> Extension Of python in code editor\n",
        "\n",
        "#2 Install Annaconda --> Jupyter Notebook\n",
        "\n",
        "#3 Go to Browser --> Google Collab --> New NoteBook\n"
      ],
      "metadata": {
        "id": "3YUqOws_wVGU"
      },
      "execution_count": null,
      "outputs": []
    },
    {
      "cell_type": "code",
      "source": [
        "# Python --> Python is a General-purpose, interpreted programming language whihc was inventend in 1991 by Guido van Rossoum\n",
        "# python --version (for version checking)"
      ],
      "metadata": {
        "id": "2nvmcycDw6pK"
      },
      "execution_count": null,
      "outputs": []
    },
    {
      "cell_type": "code",
      "source": [
        "# Fundamentals of python\n",
        "# 1. Variable\n",
        "# 2. Data Types\n",
        "# 3. input(),print()"
      ],
      "metadata": {
        "id": "O64Ixr4XxSjf"
      },
      "execution_count": null,
      "outputs": []
    },
    {
      "cell_type": "code",
      "source": [
        "# 1. Variables --> It is a container in which we will store or assign\n",
        "a= 56\n",
        "b='sam'\n",
        "c=78.48\n",
        "\n",
        "#a,b,c are variables"
      ],
      "metadata": {
        "id": "Dx8qjTgixcUz"
      },
      "execution_count": null,
      "outputs": []
    },
    {
      "cell_type": "code",
      "source": [
        "#Global Variables --> Entirely modify\n",
        "#Local Variable --> modify and used in a block of code\n"
      ],
      "metadata": {
        "id": "7uS_9CwCxunp"
      },
      "execution_count": null,
      "outputs": []
    },
    {
      "cell_type": "code",
      "source": [
        "#2. Data Types -->\n",
        "#a. Integer --> 56,7,78,-87,-8\n",
        "#b. Float --> 45.5,5.66,-5.4,-3.32\n",
        "#c. String --> 'aaa',\"aaa\",'''aaa'''\n",
        "#d. Boolean ---> 56>5 -- True, 7>56 --- False"
      ],
      "metadata": {
        "id": "z9FI4IAUx5FQ"
      },
      "execution_count": null,
      "outputs": []
    },
    {
      "cell_type": "code",
      "source": [
        "# type() --> It is used to check datatype of a varible"
      ],
      "metadata": {
        "id": "6ddWOQeWyR37"
      },
      "execution_count": null,
      "outputs": []
    },
    {
      "cell_type": "code",
      "source": [
        "type(56)"
      ],
      "metadata": {
        "colab": {
          "base_uri": "https://localhost:8080/"
        },
        "id": "yZsXSwYyyW5r",
        "outputId": "d0360d55-aa2d-4b24-c12d-937ec6e0c02d"
      },
      "execution_count": null,
      "outputs": [
        {
          "output_type": "execute_result",
          "data": {
            "text/plain": [
              "int"
            ]
          },
          "metadata": {},
          "execution_count": 11
        }
      ]
    },
    {
      "cell_type": "code",
      "source": [
        "type(56.6)"
      ],
      "metadata": {
        "colab": {
          "base_uri": "https://localhost:8080/"
        },
        "id": "Kr0T5LhKyaNm",
        "outputId": "d3e378af-f4e0-4e24-b06a-118f6d35d4f0"
      },
      "execution_count": null,
      "outputs": [
        {
          "output_type": "execute_result",
          "data": {
            "text/plain": [
              "float"
            ]
          },
          "metadata": {},
          "execution_count": 12
        }
      ]
    },
    {
      "cell_type": "code",
      "source": [
        "type(56>6)"
      ],
      "metadata": {
        "colab": {
          "base_uri": "https://localhost:8080/"
        },
        "id": "T0OVu9_HycV3",
        "outputId": "a6ef4525-7025-4f0f-f296-918271db359f"
      },
      "execution_count": null,
      "outputs": [
        {
          "output_type": "execute_result",
          "data": {
            "text/plain": [
              "bool"
            ]
          },
          "metadata": {},
          "execution_count": 13
        }
      ]
    },
    {
      "cell_type": "code",
      "source": [
        "type('anshul')"
      ],
      "metadata": {
        "colab": {
          "base_uri": "https://localhost:8080/"
        },
        "id": "ouW3zIhXyeBb",
        "outputId": "6373f5cf-7f24-449a-eafb-b6f09cf716cc"
      },
      "execution_count": null,
      "outputs": [
        {
          "output_type": "execute_result",
          "data": {
            "text/plain": [
              "str"
            ]
          },
          "metadata": {},
          "execution_count": 14
        }
      ]
    },
    {
      "cell_type": "code",
      "source": [
        "#type-casting --> it is used to change types of values from one data type to another data type"
      ],
      "metadata": {
        "id": "nN-9cMGiyf2D"
      },
      "execution_count": null,
      "outputs": []
    },
    {
      "cell_type": "code",
      "source": [
        "a = 67\n",
        "type(a)\n",
        "b = float(a)\n",
        "type(b)"
      ],
      "metadata": {
        "colab": {
          "base_uri": "https://localhost:8080/"
        },
        "id": "GZPLxMGNy5YV",
        "outputId": "e511f4f4-a16b-4a23-8e39-92626619fd6e"
      },
      "execution_count": null,
      "outputs": [
        {
          "output_type": "execute_result",
          "data": {
            "text/plain": [
              "float"
            ]
          },
          "metadata": {},
          "execution_count": 16
        }
      ]
    },
    {
      "cell_type": "code",
      "source": [
        "# print()-- it is used to execute our queries on terminal"
      ],
      "metadata": {
        "id": "1MCHuEvVy_Xv"
      },
      "execution_count": null,
      "outputs": []
    },
    {
      "cell_type": "code",
      "source": [
        "a=1\n",
        "b=2\n",
        "print(a)\n",
        "print(\"First Line Completed\")\n",
        "print(b)"
      ],
      "metadata": {
        "colab": {
          "base_uri": "https://localhost:8080/"
        },
        "id": "HZgjTa0jzJMW",
        "outputId": "02596b3c-2979-4883-f8b1-3f0e96de5233"
      },
      "execution_count": null,
      "outputs": [
        {
          "output_type": "stream",
          "name": "stdout",
          "text": [
            "1\n",
            "First Line Completed\n",
            "2\n"
          ]
        }
      ]
    },
    {
      "cell_type": "code",
      "source": [
        "a=1\n",
        "b=2\n",
        "c=a+b\n",
        "print(c)\n"
      ],
      "metadata": {
        "colab": {
          "base_uri": "https://localhost:8080/"
        },
        "id": "y74IoeFgzU8F",
        "outputId": "a8aca95d-225d-4635-feab-bb09d300851d"
      },
      "execution_count": null,
      "outputs": [
        {
          "output_type": "stream",
          "name": "stdout",
          "text": [
            "3\n"
          ]
        }
      ]
    },
    {
      "cell_type": "code",
      "source": [
        "a=\"1\"\n",
        "b=\"2\"\n",
        "c=a+b\n",
        "print(c)"
      ],
      "metadata": {
        "colab": {
          "base_uri": "https://localhost:8080/"
        },
        "id": "NmyVXMhu0nxX",
        "outputId": "d7819898-c713-4ae6-c7f0-8536fa2ee90e"
      },
      "execution_count": null,
      "outputs": [
        {
          "output_type": "stream",
          "name": "stdout",
          "text": [
            "12\n"
          ]
        }
      ]
    },
    {
      "cell_type": "code",
      "source": [
        "# input() --> This is pre-defined function of python, it takes queries from user and send it to the function,\n",
        "# its output is in string format by default."
      ],
      "metadata": {
        "id": "rclCtvWezo8l"
      },
      "execution_count": null,
      "outputs": []
    },
    {
      "cell_type": "code",
      "source": [
        "a=input(\"Enter First Number:\")\n",
        "b=input(\"Enter Second Number\")\n",
        "c=a+b\n",
        "c"
      ],
      "metadata": {
        "colab": {
          "base_uri": "https://localhost:8080/",
          "height": 72
        },
        "id": "9Cd7wd6cz8gF",
        "outputId": "e185b7c0-2f80-44f1-ce9b-90206b4ca3b9"
      },
      "execution_count": null,
      "outputs": [
        {
          "name": "stdout",
          "output_type": "stream",
          "text": [
            "Enter First Number:2\n",
            "Enter Second Number2\n"
          ]
        },
        {
          "output_type": "execute_result",
          "data": {
            "text/plain": [
              "'22'"
            ],
            "application/vnd.google.colaboratory.intrinsic+json": {
              "type": "string"
            }
          },
          "metadata": {},
          "execution_count": 25
        }
      ]
    },
    {
      "cell_type": "code",
      "source": [
        "a=int(input(\"Enter First Number:\"))\n",
        "b=int(input(\"Enter Second Number\"))\n",
        "c=a+b\n",
        "c"
      ],
      "metadata": {
        "colab": {
          "base_uri": "https://localhost:8080/"
        },
        "id": "40QcB0VF0Ffr",
        "outputId": "493ae774-577a-43ab-a6eb-85a5551a2940"
      },
      "execution_count": null,
      "outputs": [
        {
          "name": "stdout",
          "output_type": "stream",
          "text": [
            "Enter First Number:30\n",
            "Enter Second Number38\n"
          ]
        },
        {
          "output_type": "execute_result",
          "data": {
            "text/plain": [
              "68"
            ]
          },
          "metadata": {},
          "execution_count": 26
        }
      ]
    },
    {
      "cell_type": "code",
      "source": [],
      "metadata": {
        "id": "16Twe2JO0L2r"
      },
      "execution_count": null,
      "outputs": []
    }
  ]
}
