{
  "nbformat": 4,
  "nbformat_minor": 0,
  "metadata": {
    "colab": {
      "provenance": [],
      "gpuType": "T4",
      "authorship_tag": "ABX9TyPD9Oy3TleDSa0CurY4O0Uu",
      "include_colab_link": true
    },
    "kernelspec": {
      "name": "python3",
      "display_name": "Python 3"
    },
    "language_info": {
      "name": "python"
    },
    "accelerator": "GPU"
  },
  "cells": [
    {
      "cell_type": "markdown",
      "metadata": {
        "id": "view-in-github",
        "colab_type": "text"
      },
      "source": [
        "<a href=\"https://colab.research.google.com/github/AnshulMenaria/Python-Assignments/blob/main/Day_4_Assignment.ipynb\" target=\"_parent\"><img src=\"https://colab.research.google.com/assets/colab-badge.svg\" alt=\"Open In Colab\"/></a>"
      ]
    },
    {
      "cell_type": "code",
      "execution_count": 17,
      "metadata": {
        "colab": {
          "base_uri": "https://localhost:8080/"
        },
        "id": "4-n6tIs6Lxfk",
        "outputId": "68645ccf-dff7-4147-a153-b08c74652240"
      },
      "outputs": [
        {
          "output_type": "stream",
          "name": "stdout",
          "text": [
            "enter a number20\n",
            "1\n",
            "2\n",
            "3\n",
            "4\n",
            "5\n",
            "6\n",
            "7\n",
            "8\n",
            "9\n",
            "10\n",
            "11\n",
            "12\n",
            "13\n",
            "14\n",
            "15\n",
            "16\n",
            "17\n",
            "18\n",
            "19\n",
            "20\n"
          ]
        }
      ],
      "source": [
        "#1 Write a program to print all natural numbers from 1 to n. – using while loop\n",
        "n=int(input(\"enter a number\"))\n",
        "i=1\n",
        "while (i<=n):\n",
        "    print(i)\n",
        "    i=i+1"
      ]
    },
    {
      "cell_type": "code",
      "source": [
        "# 2. Write a program to print all natural numbers in reverse (from n to 1). –\n",
        "# using while loop\n",
        "\n",
        "n=int(input(\"Enter Number\"))\n",
        "while(n>0):\n",
        "  print(n)\n",
        "  n-=1"
      ],
      "metadata": {
        "colab": {
          "base_uri": "https://localhost:8080/"
        },
        "id": "rWSGxJwWL1iS",
        "outputId": "2d03b844-f3a6-469c-ca8f-42098ea3a602"
      },
      "execution_count": 18,
      "outputs": [
        {
          "output_type": "stream",
          "name": "stdout",
          "text": [
            "Enter Number30\n",
            "30\n",
            "29\n",
            "28\n",
            "27\n",
            "26\n",
            "25\n",
            "24\n",
            "23\n",
            "22\n",
            "21\n",
            "20\n",
            "19\n",
            "18\n",
            "17\n",
            "16\n",
            "15\n",
            "14\n",
            "13\n",
            "12\n",
            "11\n",
            "10\n",
            "9\n",
            "8\n",
            "7\n",
            "6\n",
            "5\n",
            "4\n",
            "3\n",
            "2\n",
            "1\n"
          ]
        }
      ]
    },
    {
      "cell_type": "code",
      "source": [
        "# 3. Write a program to print all alphabets from a to z. – using while loop\n",
        "\n",
        "i = 97 #ASCII value of Alphabets from smaller a to z starts from 97 to 122\n",
        "while (i<=122):\n",
        "    print(chr(i),end=\" \") #using end to give spacce between alphabets because by default its set as end=\"\\n\" for new line\n",
        "    i+=1"
      ],
      "metadata": {
        "colab": {
          "base_uri": "https://localhost:8080/"
        },
        "id": "qReVtKg0L5VN",
        "outputId": "bdc1087f-7f3e-481b-e039-a28af099dd8f"
      },
      "execution_count": 31,
      "outputs": [
        {
          "output_type": "stream",
          "name": "stdout",
          "text": [
            "a b c d e f g h i j k l m n o p q r s t u v w x y z "
          ]
        }
      ]
    },
    {
      "cell_type": "code",
      "source": [
        "# 4. Write a program to print all even numbers between 1 to 100. – using\n",
        "# while loop\n",
        "i=1\n",
        "while(i<=100):\n",
        "  if(i%2==0):\n",
        "    print(i,end=' ')\n",
        "  i+=1\n",
        ""
      ],
      "metadata": {
        "colab": {
          "base_uri": "https://localhost:8080/"
        },
        "id": "wJuU3YvrL7i-",
        "outputId": "a77a380f-02d5-48ac-eac0-d00ce1457dbb"
      },
      "execution_count": 35,
      "outputs": [
        {
          "output_type": "stream",
          "name": "stdout",
          "text": [
            "2 4 6 8 10 12 14 16 18 20 22 24 26 28 30 32 34 36 38 40 42 44 46 48 50 52 54 56 58 60 62 64 66 68 70 72 74 76 78 80 82 84 86 88 90 92 94 96 98 100 "
          ]
        }
      ]
    },
    {
      "cell_type": "code",
      "source": [
        "# 5. Write a program to find the sum of all odd numbers between 1 to n.\n",
        "\n",
        "n=int(input(\"Enter Number:\"))\n",
        "n=n+1\n",
        "sum=0\n",
        "for i in range(1,n):\n",
        "  if(i%2!=0):\n",
        "    sum+=i\n",
        "print(sum)"
      ],
      "metadata": {
        "colab": {
          "base_uri": "https://localhost:8080/"
        },
        "id": "BWmTY-w_L96f",
        "outputId": "c47ea5c9-f50a-4bdc-e1a3-7872982942ba"
      },
      "execution_count": 41,
      "outputs": [
        {
          "output_type": "stream",
          "name": "stdout",
          "text": [
            "Enter Number:34\n",
            "289\n"
          ]
        }
      ]
    },
    {
      "cell_type": "code",
      "source": [
        "# 6. Write a program to count the number of digits in a number.\n",
        "num=int(input(\"Enter Number to Count digits:\"))\n",
        "count=0\n",
        "while(num>0):\n",
        "  num=num//10\n",
        "  count+=1\n",
        "print(count)"
      ],
      "metadata": {
        "colab": {
          "base_uri": "https://localhost:8080/"
        },
        "id": "SzbKFmW8MAHg",
        "outputId": "fb7b6cef-5b0d-4dc7-d3c4-b2447fdaa732"
      },
      "execution_count": 60,
      "outputs": [
        {
          "output_type": "stream",
          "name": "stdout",
          "text": [
            "Enter Number to Count digits:4356\n",
            "4\n"
          ]
        }
      ]
    },
    {
      "cell_type": "code",
      "source": [
        "# 7. Write a program to calculate the sum of digits of a number.\n",
        "num=int(input(\"Enter Number:\"))\n",
        "sum=0\n",
        "rem=0\n",
        "while(num>0):\n",
        "  rem=num%10\n",
        "  sum=sum+rem\n",
        "  num=num//10\n",
        "print(sum)"
      ],
      "metadata": {
        "colab": {
          "base_uri": "https://localhost:8080/"
        },
        "id": "-hUAl18nMC75",
        "outputId": "2df23543-d26a-4195-8f16-d194581a0d74"
      },
      "execution_count": 48,
      "outputs": [
        {
          "output_type": "stream",
          "name": "stdout",
          "text": [
            "Enter Number:432\n",
            "9\n"
          ]
        }
      ]
    },
    {
      "cell_type": "code",
      "source": [
        "# 8. Write a program to find the first and last digit of a number.\n",
        "\n",
        "count=0\n",
        "rem=0\n",
        "num=int(input(\"Enter Number:\"))\n",
        "while(num>0): #running the loop until the number is greater than 0\n",
        "  rem=num%10  #calculating the remainder of a number to get the last digit of number like 234%10=4\n",
        "  num=num//10 #after getting the remainder we will remove the last digit by dividing it by 10\n",
        "  count=count+1  #as much times loop will run the count value increases by 1\n",
        "  if(count==1): #if count value is 1 it means the loop runs one time\n",
        "    print(\"Last Digit:\",rem) #and if loop runs one time the the value in rem will be the last digit of the number\n",
        "print(\"First Digit:\",rem) #after the loop ends the last value of rem is the first value of the number like 234, one time the rem is 4 and num is 23 after division\n",
        "          #second time the rem of 23 is 3 and the num after divide is 2, third time the rem is 2 and num will 0 after divide then\n",
        "          #then it will exit the loop because num is now less than or eqauls to zero and print the last value of remainder which is the first digit of number"
      ],
      "metadata": {
        "colab": {
          "base_uri": "https://localhost:8080/"
        },
        "id": "ML3UXlnQMFLZ",
        "outputId": "951aec6d-01e6-4370-ec65-e32965ff1764"
      },
      "execution_count": 61,
      "outputs": [
        {
          "output_type": "stream",
          "name": "stdout",
          "text": [
            "Enter Number:2345\n",
            "Last Digit: 5\n",
            "First Digit: 2\n"
          ]
        }
      ]
    },
    {
      "cell_type": "code",
      "source": [
        "# 9. Write a program to find the sum of first and last digit of a number.\n",
        "\n",
        "count=0\n",
        "rem=0\n",
        "num=int(input(\"Enter Number:\"))\n",
        "while(num>0): #running the loop until the number is greater than 0\n",
        "  rem=num%10  #calculating the remainder of a number to get the last digit of number like 234%10=4\n",
        "  num=num//10 #after getting the remainder we will remove the last digit by dividing it by 10\n",
        "  count=count+1  #as much times loop will run the count value increases by 1\n",
        "  if(count==1): #if count value is 1 it means the loop runs one time\n",
        "    sum=sum+rem #adding the last digit in sum 0+rem\n",
        "    print(\"Last Digit:\",rem) #and if loop runs one time the the value in rem will be the last digit of the number\n",
        "print(\"First Digit:\",rem) #after the loop ends the last value of rem is the first value of the number like 234, one time the rem is 4 and num is 23 after division\n",
        "                          #second time the rem of 23 is 3 and the num after divide is 2, third time the rem is 2 and num will 0 after divide then\n",
        "                          #then it will exit the loop because num is now less than or eqauls to zero and print the last value of remainder which is the first digit of number\n",
        "sum=sum+rem #adding the first digit in sum\n",
        "print(\"Sum of First and Last Digit:\",sum)"
      ],
      "metadata": {
        "colab": {
          "base_uri": "https://localhost:8080/"
        },
        "id": "3BwpS1ZRMHXV",
        "outputId": "7b3b04c2-a1df-4238-e3b3-868b9beced34"
      },
      "execution_count": 56,
      "outputs": [
        {
          "output_type": "stream",
          "name": "stdout",
          "text": [
            "Enter Number:234\n",
            "Last Digit: 4\n",
            "First Digit: 2\n",
            "Sum of First and Last Digit: 6\n"
          ]
        }
      ]
    },
    {
      "cell_type": "code",
      "source": [
        "# 10.Write a program to enter a number and print its reverse.\n",
        "\n",
        "rem=0\n",
        "reverse=0\n",
        "num=int(input(\"Enter Number:\"))\n",
        "while(num>0):\n",
        "  rem=num%10\n",
        "  reverse=reverse*10+rem\n",
        "  num=num//10\n",
        "print(\"Reverse of Number is:\",reverse)"
      ],
      "metadata": {
        "colab": {
          "base_uri": "https://localhost:8080/"
        },
        "id": "oAdCJCv0MJcc",
        "outputId": "40e9e460-3169-48a9-f257-e743f2e7ed18"
      },
      "execution_count": 59,
      "outputs": [
        {
          "output_type": "stream",
          "name": "stdout",
          "text": [
            "Enter Number:3678\n",
            "Reverse of Number is: 8763\n"
          ]
        }
      ]
    },
    {
      "cell_type": "code",
      "source": [
        "# 11.Write a program to find the power of a number using for loop.\n",
        "\n",
        "num=int(input(\"Enter Number:\"))\n",
        "power=int(input(\"Enter Power:\"))\n",
        "result=1 #taking result 1 because if we take 0 then multiplying it first time with x number will make the number also 0\n",
        "for i in range(power): #using power in range because we want to run how much time the num will multiply itself\n",
        "  result=result*num #in this the number will multiply itself for the n times like the question is 3^3 then for first time it will 1*3 then second time 3*3 then 9*3\n",
        "print(result)"
      ],
      "metadata": {
        "colab": {
          "base_uri": "https://localhost:8080/"
        },
        "id": "ybXuKo41MOov",
        "outputId": "c426d748-1225-4696-f5e0-bc1b03566b6d"
      },
      "execution_count": 62,
      "outputs": [
        {
          "output_type": "stream",
          "name": "stdout",
          "text": [
            "Enter Number:5\n",
            "Enter Power:2\n",
            "25\n"
          ]
        }
      ]
    },
    {
      "cell_type": "code",
      "source": [
        "# 12.Write a program to find all factors of a number.\n",
        "\n",
        "num=int(input(\"Enter Number:\"))\n",
        "for i in range(1,num+1):\n",
        "  if(num%i==0):\n",
        "    print(i,end=\" \")"
      ],
      "metadata": {
        "colab": {
          "base_uri": "https://localhost:8080/"
        },
        "id": "eWPRaSqSMRDz",
        "outputId": "49b7a45d-3fbe-4595-c0a1-4a102344d9d1"
      },
      "execution_count": 65,
      "outputs": [
        {
          "output_type": "stream",
          "name": "stdout",
          "text": [
            "Enter Number:34\n",
            "1 2 17 34 "
          ]
        }
      ]
    },
    {
      "cell_type": "code",
      "source": [
        "# 13.Write a program to calculate the factorial of a number.\n",
        "\n",
        "num=int(input(\"Enter Number:\"))\n",
        "total=1\n",
        "for i in range(1,num+1):\n",
        "  total=total*i\n",
        "print(total)"
      ],
      "metadata": {
        "colab": {
          "base_uri": "https://localhost:8080/"
        },
        "id": "9j957Iu4MSwj",
        "outputId": "d635630a-dfae-4112-89c3-0ee435505d31"
      },
      "execution_count": 76,
      "outputs": [
        {
          "output_type": "stream",
          "name": "stdout",
          "text": [
            "Enter Number:4\n",
            "24\n"
          ]
        }
      ]
    },
    {
      "cell_type": "code",
      "source": [
        "# 14.Write a program to find LCM of two numbers.\n",
        "\n",
        "num1=int(input(\"Enter First Number:\"))\n",
        "num2=int(input(\"Enter Second Number:\"))\n",
        "if(num1>num2):\n",
        "  greater=num1\n",
        "  lower=num2\n",
        "else:\n",
        "  greater=num2\n",
        "  lower=num1\n",
        "while(True):\n",
        "  if((greater%num1==0)and(greater%num2==0)):\n",
        "    print(\"LCM is:\",greater)\n",
        "    break\n",
        "  greater+=1"
      ],
      "metadata": {
        "colab": {
          "base_uri": "https://localhost:8080/"
        },
        "id": "unKJ9BS0e3wu",
        "outputId": "ed1b169d-7041-43c2-90f2-d6ba8ed77493"
      },
      "execution_count": 79,
      "outputs": [
        {
          "output_type": "stream",
          "name": "stdout",
          "text": [
            "Enter First Number:345\n",
            "Enter Second Number:45\n",
            "LCM is: 1035\n"
          ]
        }
      ]
    },
    {
      "cell_type": "code",
      "source": [
        "# 15.Write a program to check whether a number is Prime number or not.\n",
        "\n",
        "num=int(input(\"Enter Number:\"))\n",
        "a=0\n",
        "for i in range(2,num):\n",
        "  if(num%i==0):\n",
        "    a=1\n",
        "    break\n",
        "if(a==1):\n",
        "  print(\"Not Prime\")\n",
        "else:\n",
        "  print(\"Prime\")"
      ],
      "metadata": {
        "colab": {
          "base_uri": "https://localhost:8080/"
        },
        "id": "iygEHhIrMV53",
        "outputId": "548dac31-d32e-480b-cab4-85c1a7879725"
      },
      "execution_count": 75,
      "outputs": [
        {
          "output_type": "stream",
          "name": "stdout",
          "text": [
            "Enter Number:3\n",
            "Prime\n"
          ]
        }
      ]
    }
  ]
}
