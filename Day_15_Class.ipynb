{
  "nbformat": 4,
  "nbformat_minor": 0,
  "metadata": {
    "colab": {
      "provenance": [],
      "gpuType": "T4",
      "authorship_tag": "ABX9TyNWYZzbcTfMb7/dALh03vml",
      "include_colab_link": true
    },
    "kernelspec": {
      "name": "python3",
      "display_name": "Python 3"
    },
    "language_info": {
      "name": "python"
    },
    "accelerator": "GPU"
  },
  "cells": [
    {
      "cell_type": "markdown",
      "metadata": {
        "id": "view-in-github",
        "colab_type": "text"
      },
      "source": [
        "<a href=\"https://colab.research.google.com/github/AnshulMenaria/Python-Notes/blob/main/Day_15_Class.ipynb\" target=\"_parent\"><img src=\"https://colab.research.google.com/assets/colab-badge.svg\" alt=\"Open In Colab\"/></a>"
      ]
    },
    {
      "cell_type": "code",
      "execution_count": null,
      "metadata": {
        "id": "F6Jf0rt6hn3l"
      },
      "outputs": [],
      "source": [
        "def func(eid,ename):\n",
        "  print(f\"eid:{eid} ename:{ename}\")"
      ]
    },
    {
      "cell_type": "code",
      "source": [
        "func(10,\"Anshul\")"
      ],
      "metadata": {
        "colab": {
          "base_uri": "https://localhost:8080/"
        },
        "id": "_cBXBy5sh9sc",
        "outputId": "1619e8ec-01c4-40e4-e076-68d94b11148c"
      },
      "execution_count": null,
      "outputs": [
        {
          "output_type": "stream",
          "name": "stdout",
          "text": [
            "eid:10 ename:Anshul\n"
          ]
        }
      ]
    },
    {
      "cell_type": "code",
      "source": [
        "def func(*x):\n",
        "  print(x)"
      ],
      "metadata": {
        "id": "iyiuBu_0iHCq"
      },
      "execution_count": null,
      "outputs": []
    },
    {
      "cell_type": "code",
      "source": [
        "func(10,20,30)"
      ],
      "metadata": {
        "colab": {
          "base_uri": "https://localhost:8080/"
        },
        "id": "ezM3PUe3jide",
        "outputId": "448763f2-9169-4729-ba71-131dff7d0844"
      },
      "execution_count": null,
      "outputs": [
        {
          "output_type": "stream",
          "name": "stdout",
          "text": [
            "(10, 20, 30)\n"
          ]
        }
      ]
    },
    {
      "cell_type": "code",
      "source": [
        "def func(**x):\n",
        "  print(x)\n"
      ],
      "metadata": {
        "id": "hSxuNmQUjlR1"
      },
      "execution_count": null,
      "outputs": []
    },
    {
      "cell_type": "code",
      "source": [
        "func(eid=10,name=\"anshul\",salary=20000)"
      ],
      "metadata": {
        "colab": {
          "base_uri": "https://localhost:8080/"
        },
        "id": "N0q5F6vrj3sc",
        "outputId": "3bc05956-dff0-44e9-bce8-9c3526b32e3c"
      },
      "execution_count": null,
      "outputs": [
        {
          "output_type": "stream",
          "name": "stdout",
          "text": [
            "{'eid': 10, 'name': 'anshul', 'salary': 20000}\n"
          ]
        }
      ]
    },
    {
      "cell_type": "code",
      "source": [
        "#first class function\n",
        "def func(x):\n",
        "  return 5*x\n",
        "\n",
        "y=func(10)\n",
        "print(y)"
      ],
      "metadata": {
        "id": "yrmAxm69kBfi"
      },
      "execution_count": null,
      "outputs": []
    },
    {
      "cell_type": "code",
      "source": [],
      "metadata": {
        "id": "FaSVdlNkgTtc"
      },
      "execution_count": null,
      "outputs": []
    }
  ]
}