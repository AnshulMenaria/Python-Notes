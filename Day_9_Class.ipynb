{
  "nbformat": 4,
  "nbformat_minor": 0,
  "metadata": {
    "colab": {
      "provenance": [],
      "gpuType": "T4",
      "authorship_tag": "ABX9TyM+jWfXIADPY8F3Crc+wMVR",
      "include_colab_link": true
    },
    "kernelspec": {
      "name": "python3",
      "display_name": "Python 3"
    },
    "language_info": {
      "name": "python"
    },
    "accelerator": "GPU"
  },
  "cells": [
    {
      "cell_type": "markdown",
      "metadata": {
        "id": "view-in-github",
        "colab_type": "text"
      },
      "source": [
        "<a href=\"https://colab.research.google.com/github/AnshulMenaria/Python-Notes/blob/main/Day_9_Class.ipynb\" target=\"_parent\"><img src=\"https://colab.research.google.com/assets/colab-badge.svg\" alt=\"Open In Colab\"/></a>"
      ]
    },
    {
      "cell_type": "code",
      "execution_count": 4,
      "metadata": {
        "colab": {
          "base_uri": "https://localhost:8080/"
        },
        "id": "ZWShRZOWn6YV",
        "outputId": "29c65cec-ded2-46d2-dfde-760f858a447a"
      },
      "outputs": [
        {
          "output_type": "stream",
          "name": "stdout",
          "text": [
            "30\n"
          ]
        }
      ],
      "source": [
        "x=[10,20,30,30,40,40,7]\n",
        "\n",
        "max1=x[0]\n",
        "max2=0\n",
        "\n",
        "for i in range(0,len(x)):\n",
        "  if(x[i]>max1):\n",
        "    max2=max1\n",
        "    max1=x[i]\n",
        "  elif(x[i]>max2 and x[i]!=max1):\n",
        "    max2=x[i]\n",
        "print(max2)"
      ]
    },
    {
      "cell_type": "code",
      "source": [
        "x=[0,1,2,3,6,9,11,4,7,5]\n",
        "target=9\n",
        "start=x[0]\n",
        "end=len(x)-1\n",
        "\n",
        "while(True):\n",
        "  if(start+end==target and start!=0 and end!=0):\n",
        "    print(start,end)\n",
        "    break\n",
        "  elif(start+end>target):\n",
        "    end=x[end-1]\n",
        "  else:\n",
        "    start=x[start+1]\n",
        ""
      ],
      "metadata": {
        "colab": {
          "base_uri": "https://localhost:8080/"
        },
        "id": "yfTU08rKpkcd",
        "outputId": "b54096e2-25cf-4bbc-a87e-40f81da5475f"
      },
      "execution_count": 19,
      "outputs": [
        {
          "output_type": "stream",
          "name": "stdout",
          "text": [
            "2 7\n"
          ]
        }
      ]
    },
    {
      "cell_type": "code",
      "source": [
        "# pascals triangle\n",
        "\n",
        "mylist=[]\n",
        "for i in range(1,6):\n",
        "  templist=[]\n",
        "\n",
        "  for j in range(i,5):\n",
        "    print(\" \",end=\"\")\n",
        "  for k in range(1,i+1):\n",
        "    if(k==1 or k==i):\n",
        "      print(\"1\",end=\" \")\n",
        "      templist.append(1)\n",
        "    else:\n",
        "      templist.append(mylist[i-2][k-2]+mylist[i-2][k-1])\n",
        "      print(mylist[i-2][k-2]+mylist[i-2][k-1],end=\" \")\n",
        "  mylist.append(templist)\n",
        "  print()\n",
        "print(mylist)"
      ],
      "metadata": {
        "colab": {
          "base_uri": "https://localhost:8080/"
        },
        "id": "FoCB5FXFracO",
        "outputId": "f9523472-a1fd-4505-f84a-79e5fdeff772"
      },
      "execution_count": 1,
      "outputs": [
        {
          "output_type": "stream",
          "name": "stdout",
          "text": [
            "    1 \n",
            "   1 1 \n",
            "  1 2 1 \n",
            " 1 3 3 1 \n",
            "1 4 6 4 1 \n",
            "[[1], [1, 1], [1, 2, 1], [1, 3, 3, 1], [1, 4, 6, 4, 1]]\n"
          ]
        }
      ]
    },
    {
      "cell_type": "code",
      "source": [],
      "metadata": {
        "id": "TI-tmgHlyjHg"
      },
      "execution_count": null,
      "outputs": []
    }
  ]
}