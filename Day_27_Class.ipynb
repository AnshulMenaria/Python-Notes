{
 "cells": [
  {
   "cell_type": "code",
   "execution_count": 1,
   "id": "d79808ce-4eb4-4797-a66c-4456726eab48",
   "metadata": {},
   "outputs": [
    {
     "name": "stdout",
     "output_type": "stream",
     "text": [
      "Name:Anshul, Age:20, History:['admitted in 2020']\n",
      "['admitted in 2020', 'surgery in 2020']\n",
      "Name:Anshul, Age:20, History:['admitted in 2020', 'surgery in 2020']\n"
     ]
    }
   ],
   "source": [
    "class P_R_M:\n",
    "    def __init__(self,name,age,history):\n",
    "        self.__name = name \n",
    "        self.__age = age\n",
    "        self.__his = [history]\n",
    "\n",
    "    def get_history(self):\n",
    "        return f\"Name:{self.__name}, Age:{self.__age}, History:{self.__his}\"\n",
    "\n",
    "    def new_records(self,new_record):\n",
    "        self.__his.append(new_record)\n",
    "        return self.__his\n",
    "\n",
    "p1=P_R_M(\"Anshul\",20,\"admitted in 2020\")\n",
    "print(p1.get_history())\n",
    "print(p1.new_records(\"surgery in 2020\"))\n",
    "print(p1.get_history())"
   ]
  },
  {
   "cell_type": "code",
   "execution_count": 8,
   "id": "90c40e44-3bba-4541-a91a-dcd944534014",
   "metadata": {},
   "outputs": [
    {
     "name": "stdout",
     "output_type": "stream",
     "text": [
      "Name:Anshul,Marks:[80, 20, 90]\n",
      "Average:63.333333333333336\n"
     ]
    }
   ],
   "source": [
    "class O_E_S:\n",
    "    def __init__(self,name,marks):\n",
    "        self.name=name\n",
    "        self.__marks = [marks]\n",
    "\n",
    "    def addmarks(self,newmarks):\n",
    "        self.__marks.append(newmarks)\n",
    "        return self.__marks\n",
    "\n",
    "    def getmarks(self):\n",
    "        return f\"Name:{self.name},Marks:{self.__marks}\"\n",
    "\n",
    "    def Average(self):\n",
    "        count=0\n",
    "        sum=0\n",
    "        for i in self.__marks:\n",
    "            sum+=i\n",
    "            count+=1\n",
    "        average= sum/count\n",
    "        return f\"Average:{average}\"\n",
    "\n",
    "student=O_E_S(\"Anshul\",80)\n",
    "student.addmarks(20)\n",
    "student.addmarks(90)\n",
    "print(student.getmarks())\n",
    "print(student.Average())"
   ]
  },
  {
   "cell_type": "code",
   "execution_count": 17,
   "id": "d9be6bd2-5ecc-4186-897c-da4fc1af5b12",
   "metadata": {},
   "outputs": [
    {
     "name": "stdout",
     "output_type": "stream",
     "text": [
      "Hey User Your Details\n",
      "Username:Anshul, Number:9145946510\n",
      "\n",
      "You have ordered:\n",
      "Product Name:Laptop, Price:30000\n",
      "\n",
      "Thank You For Shopping!!\n"
     ]
    }
   ],
   "source": [
    "class Customer:\n",
    "    def __init__(self,name,number):\n",
    "        self.name=name\n",
    "        self.number=number\n",
    "\n",
    "    def getDetails(self):\n",
    "        return f\"Username:{self.name}, Number:{self.number}\"\n",
    "\n",
    "class Product:\n",
    "    def __init__(self,pro_name,price):\n",
    "        self.pname=pro_name\n",
    "        self.price=price\n",
    "\n",
    "    def getProductDetails(self):\n",
    "        return f\"Product Name:{self.pname}, Price:{self.price}\"\n",
    "\n",
    "class Order(Customer,Product):\n",
    "    def __init__(self, name, number, pro_name, price):\n",
    "        Customer.__init__(self, name, number)\n",
    "        Product.__init__(self, pro_name, price)\n",
    "         \n",
    "    def summary(self):\n",
    "        print(\"Hey User Your Details\")\n",
    "        print(super().getDetails())\n",
    "        print(\"\\nYou have ordered:\")\n",
    "        print(super().getProductDetails())\n",
    "        print(\"\\nThank You For Shopping!!\")\n",
    "\n",
    "order1 = Order(\"Anshul\", 9145946510, \"Laptop\", 30000)\n",
    "order1.summary()"
   ]
  },
  {
   "cell_type": "code",
   "execution_count": 3,
   "id": "f3a0a309-733a-476e-910a-082af0c289dc",
   "metadata": {},
   "outputs": [],
   "source": [
    "class User:\n",
    "    def __init__(self,user_id,user_name,preference,budget):\n",
    "        self.uid = user_id \n",
    "        self.uname = user_name\n",
    "        self.pref = preference \n",
    "        self.budg = budget \n",
    "\n",
    "class Product:\n",
    "    def __init__(self,product_id,pro_name,category,price):\n",
    "        self.pid = product_id \n",
    "        self.pname = pro_name\n",
    "        self.cat = category \n",
    "        self.price = price\n",
    "\n",
    "class Shopping_Assistant(User,Product):\n",
    "    def __init__(self,user_id,user_name,preference,budget,    product_id,pro_name,category,price):\n",
    "        User.__init__(self,user_id,user_name,preference,budget)\n",
    "        Product.__init__(self,product_id,pro_name,category,price)\n",
    "\n",
    "\n",
    "    "
   ]
  },
  {
   "cell_type": "code",
   "execution_count": null,
   "id": "16900e2a-4b09-4aee-bf02-85d0f609c0da",
   "metadata": {},
   "outputs": [],
   "source": []
  }
 ],
 "metadata": {
  "kernelspec": {
   "display_name": "Python 3 (ipykernel)",
   "language": "python",
   "name": "python3"
  },
  "language_info": {
   "codemirror_mode": {
    "name": "ipython",
    "version": 3
   },
   "file_extension": ".py",
   "mimetype": "text/x-python",
   "name": "python",
   "nbconvert_exporter": "python",
   "pygments_lexer": "ipython3",
   "version": "3.10.11"
  }
 },
 "nbformat": 4,
 "nbformat_minor": 5
}
