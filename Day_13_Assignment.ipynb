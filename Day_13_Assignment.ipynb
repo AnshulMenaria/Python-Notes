{
  "nbformat": 4,
  "nbformat_minor": 0,
  "metadata": {
    "colab": {
      "provenance": [],
      "authorship_tag": "ABX9TyNkdsqrcl5H33xIDuoTTDc+",
      "include_colab_link": true
    },
    "kernelspec": {
      "name": "python3",
      "display_name": "Python 3"
    },
    "language_info": {
      "name": "python"
    }
  },
  "cells": [
    {
      "cell_type": "markdown",
      "metadata": {
        "id": "view-in-github",
        "colab_type": "text"
      },
      "source": [
        "<a href=\"https://colab.research.google.com/github/AnshulMenaria/Python-Notes/blob/main/Day_13_Assignment.ipynb\" target=\"_parent\"><img src=\"https://colab.research.google.com/assets/colab-badge.svg\" alt=\"Open In Colab\"/></a>"
      ]
    },
    {
      "cell_type": "code",
      "execution_count": null,
      "metadata": {
        "id": "PA9HTfvd106Z",
        "colab": {
          "base_uri": "https://localhost:8080/"
        },
        "outputId": "b2d15029-eeaf-4b00-dcf3-3f277f2899dd"
      },
      "outputs": [
        {
          "output_type": "stream",
          "name": "stdout",
          "text": [
            "Valid\n"
          ]
        }
      ],
      "source": [
        "s=\"{}\"\n",
        "mylist=[]\n",
        "x=0\n",
        "for char in s:\n",
        "  if(char in \"({[\"):\n",
        "    mylist.append(char)\n",
        "  elif(mylist):\n",
        "    if(char==\")\" and \"(\"!=mylist.pop()):\n",
        "      x=1\n",
        "      break\n",
        "    elif(char==\"}\" and \"{\"!=mylist.pop()):\n",
        "      x=1\n",
        "      break\n",
        "    elif(char==\"]\" and \"[\"!=mylist.pop()):\n",
        "      x=1\n",
        "      break\n",
        "  else:\n",
        "    x=1\n",
        "if(x==1 or len(mylist)>0):\n",
        "  print(\"invalid\")\n",
        "else:\n",
        "  print(\"Valid\")"
      ]
    },
    {
      "cell_type": "code",
      "source": [
        "str1=\"({[}])\"\n",
        "dict1={\"(\":\")\",\"{\":\"}\",\"[\":\"]\"}\n",
        "a=len(str1)-1\n",
        "if len(str1)%2==0:\n",
        "  for i in range(0,len(str1)//2):\n",
        "    print(\"Opening Bracket:\",str1[i])\n",
        "    if str1[i] == \"(\" and str1[a]==dict1[\"(\"]:\n",
        "      a-=1\n",
        "      print(\"Closing Bracket\",dict1[\"(\"])\n",
        "    elif str1[i] == \"{\" and str1[a]==dict1[\"{\"]:\n",
        "      a-=1\n",
        "      print(dict1[\"Closing Bracket\",\"{\"])\n",
        "    elif str1[i] == \"[\" and str1[a]==dict1[\"[\"]:\n",
        "      a-=1\n",
        "      print(dict1[\"Closing Bracket\",\"[\"])\n",
        "    else:\n",
        "      print(\"Invalid Closing Bracket:\",str1[a])\n",
        "      break\n",
        "  else:\n",
        "    print(\"Valid\")\n",
        "else:\n",
        "  print(\"Invalid \")"
      ],
      "metadata": {
        "colab": {
          "base_uri": "https://localhost:8080/"
        },
        "id": "noQoIgIH8vhp",
        "outputId": "a58308f1-1751-4aa7-9da1-94aed38fd88f"
      },
      "execution_count": 36,
      "outputs": [
        {
          "output_type": "stream",
          "name": "stdout",
          "text": [
            "Opening Bracket: (\n",
            "Closing Bracket )\n",
            "Opening Bracket: {\n",
            "Invalid Closing Bracket: ]\n"
          ]
        }
      ]
    },
    {
      "cell_type": "code",
      "source": [
        "dict1={1000:\"M\",900:\"CM\",500:\"D\",400:\"CD\",100:\"C\",90:\"XC\",50:\"L\",40:\"XL\",\n",
        "       10:\"X\",9:\"IX\",5:\"V\",4:\"IV\",1:\"I\"}\n",
        "num=int(input(\"Enter Number to Convert in Roman Number:\"))\n",
        "roman=\"\"\n",
        "for i in dict1.keys():\n",
        "  while num>=i:\n",
        "    roman+=dict1[i]\n",
        "    num-=i\n",
        "print(roman)"
      ],
      "metadata": {
        "id": "YCtBFHS3Fp5w",
        "colab": {
          "base_uri": "https://localhost:8080/"
        },
        "outputId": "ba7bfcb2-db64-4346-9113-3674b90632bf"
      },
      "execution_count": 47,
      "outputs": [
        {
          "output_type": "stream",
          "name": "stdout",
          "text": [
            "Enter Number to Convert in Roman Number:20\n",
            "XX\n"
          ]
        }
      ]
    },
    {
      "cell_type": "code",
      "source": [],
      "metadata": {
        "id": "y6gxo01050Vt"
      },
      "execution_count": 38,
      "outputs": []
    }
  ]
}