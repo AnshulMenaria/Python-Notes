{
  "nbformat": 4,
  "nbformat_minor": 0,
  "metadata": {
    "colab": {
      "provenance": [],
      "authorship_tag": "ABX9TyPz/GRTPFpDwPijzZ/YWxgB",
      "include_colab_link": true
    },
    "kernelspec": {
      "name": "python3",
      "display_name": "Python 3"
    },
    "language_info": {
      "name": "python"
    }
  },
  "cells": [
    {
      "cell_type": "markdown",
      "metadata": {
        "id": "view-in-github",
        "colab_type": "text"
      },
      "source": [
        "<a href=\"https://colab.research.google.com/github/AnshulMenaria/Python-Notes/blob/main/Day_13_Class.ipynb\" target=\"_parent\"><img src=\"https://colab.research.google.com/assets/colab-badge.svg\" alt=\"Open In Colab\"/></a>"
      ]
    },
    {
      "cell_type": "code",
      "source": [
        "set1={1,2,3}\n",
        "print(set1)"
      ],
      "metadata": {
        "colab": {
          "base_uri": "https://localhost:8080/"
        },
        "id": "EKk4KyIqj1bJ",
        "outputId": "e86455ff-92d8-4564-c832-63dea03d6ca1"
      },
      "execution_count": 2,
      "outputs": [
        {
          "output_type": "stream",
          "name": "stdout",
          "text": [
            "{1, 2, 3}\n"
          ]
        }
      ]
    },
    {
      "cell_type": "code",
      "source": [
        "set1={1,2,3}\n",
        "set1.add(500)\n",
        "print(set1)"
      ],
      "metadata": {
        "colab": {
          "base_uri": "https://localhost:8080/"
        },
        "id": "7j4opbSDj7e_",
        "outputId": "dfc3bf95-b334-4724-87f1-8d95646999ad"
      },
      "execution_count": 6,
      "outputs": [
        {
          "output_type": "stream",
          "name": "stdout",
          "text": [
            "{1, 2, 3, 500}\n"
          ]
        }
      ]
    },
    {
      "cell_type": "code",
      "source": [
        "set1={1,2,3}\n",
        "set1.discard(500)\n",
        "print(set1)"
      ],
      "metadata": {
        "colab": {
          "base_uri": "https://localhost:8080/"
        },
        "id": "FBW1vyjzlDG3",
        "outputId": "25229291-e8c3-4871-a0d2-a5b06b2c1f7e"
      },
      "execution_count": 7,
      "outputs": [
        {
          "output_type": "stream",
          "name": "stdout",
          "text": [
            "{1, 2, 3}\n"
          ]
        }
      ]
    },
    {
      "cell_type": "code",
      "source": [
        "set1={1,2,3}\n",
        "set1.pop()\n",
        "print(set1)"
      ],
      "metadata": {
        "colab": {
          "base_uri": "https://localhost:8080/"
        },
        "id": "0y1DhzRwmPh6",
        "outputId": "329db43b-34c0-40a5-b8b3-7c81eeec72da"
      },
      "execution_count": 8,
      "outputs": [
        {
          "output_type": "stream",
          "name": "stdout",
          "text": [
            "{2, 3}\n"
          ]
        }
      ]
    },
    {
      "cell_type": "code",
      "source": [
        "set1={1,2,3}\n",
        "set1.update([4,5,6])\n",
        "print(set1)"
      ],
      "metadata": {
        "colab": {
          "base_uri": "https://localhost:8080/"
        },
        "id": "Re1tjzxKmRrI",
        "outputId": "f821e2d8-c5df-41ae-de08-b7b5d9fecc6c"
      },
      "execution_count": 9,
      "outputs": [
        {
          "output_type": "stream",
          "name": "stdout",
          "text": [
            "{1, 2, 3, 4, 5, 6}\n"
          ]
        }
      ]
    },
    {
      "cell_type": "code",
      "source": [
        "set1={1,2,3}\n",
        "set2={2,3,4}\n",
        "set1.union(set2)"
      ],
      "metadata": {
        "colab": {
          "base_uri": "https://localhost:8080/"
        },
        "id": "Qtv9IQFQmWhf",
        "outputId": "ffd0a2fb-ecf4-442e-8ec3-9731c1143af8"
      },
      "execution_count": 10,
      "outputs": [
        {
          "output_type": "execute_result",
          "data": {
            "text/plain": [
              "{1, 2, 3, 4}"
            ]
          },
          "metadata": {},
          "execution_count": 10
        }
      ]
    },
    {
      "cell_type": "code",
      "source": [
        "set1={1,2,3}\n",
        "set2={2,3,4}\n",
        "set1.difference(set2)"
      ],
      "metadata": {
        "colab": {
          "base_uri": "https://localhost:8080/"
        },
        "id": "2UIavi7imqRY",
        "outputId": "f912e984-61c9-4338-966b-9f0b47ae183f"
      },
      "execution_count": 11,
      "outputs": [
        {
          "output_type": "execute_result",
          "data": {
            "text/plain": [
              "{1}"
            ]
          },
          "metadata": {},
          "execution_count": 11
        }
      ]
    },
    {
      "cell_type": "code",
      "source": [
        "set1={1,2,3}\n",
        "set2={2,3,4}\n",
        "set1.intersection(set2)"
      ],
      "metadata": {
        "colab": {
          "base_uri": "https://localhost:8080/"
        },
        "id": "P1kuWoO1my3G",
        "outputId": "d8b75273-2070-4e84-92af-858e95741218"
      },
      "execution_count": 12,
      "outputs": [
        {
          "output_type": "execute_result",
          "data": {
            "text/plain": [
              "{2, 3}"
            ]
          },
          "metadata": {},
          "execution_count": 12
        }
      ]
    },
    {
      "cell_type": "code",
      "source": [
        "set1={1,2,3}\n",
        "set2={2,3,4}\n",
        "set1.difference_update(set2)\n",
        "print(set1)\n",
        "print(set2)\n"
      ],
      "metadata": {
        "colab": {
          "base_uri": "https://localhost:8080/"
        },
        "id": "gDDFPr4am5lT",
        "outputId": "3ccf0efd-64cb-4e62-f199-5a2d016f06db"
      },
      "execution_count": 13,
      "outputs": [
        {
          "output_type": "stream",
          "name": "stdout",
          "text": [
            "{1}\n",
            "{2, 3, 4}\n"
          ]
        }
      ]
    },
    {
      "cell_type": "code",
      "source": [
        "set1={1,2,3}\n",
        "set2={2,3,4}\n",
        "set1.intersection_update(set2)\n",
        "print(set1)\n",
        "print(set2)\n"
      ],
      "metadata": {
        "colab": {
          "base_uri": "https://localhost:8080/"
        },
        "id": "3BaQ3suHnHOb",
        "outputId": "a8449868-46c2-4d94-e7fc-020bccebf91b"
      },
      "execution_count": 14,
      "outputs": [
        {
          "output_type": "stream",
          "name": "stdout",
          "text": [
            "{2, 3}\n",
            "{2, 3, 4}\n"
          ]
        }
      ]
    },
    {
      "cell_type": "code",
      "source": [
        "set1={1,2,3,4}\n",
        "set2={2,3,4}\n",
        "\n",
        "print(set1.issuperset(set2))\n",
        "print(set2.issuperset(set1))\n"
      ],
      "metadata": {
        "colab": {
          "base_uri": "https://localhost:8080/"
        },
        "id": "ORearhYXnSHT",
        "outputId": "38599cff-696e-4b80-c6e8-8d76934cc958"
      },
      "execution_count": 19,
      "outputs": [
        {
          "output_type": "stream",
          "name": "stdout",
          "text": [
            "True\n",
            "False\n"
          ]
        }
      ]
    },
    {
      "cell_type": "code",
      "source": [
        "set1={1,2,3,4}\n",
        "set2={2,3,4}\n",
        "\n",
        "print(set1.symmetric_difference(set2))\n",
        "print(set2)\n"
      ],
      "metadata": {
        "colab": {
          "base_uri": "https://localhost:8080/"
        },
        "id": "zQwz1F-WotA-",
        "outputId": "06f74629-d2d8-4cd3-faf0-42d449d0d9c8"
      },
      "execution_count": 21,
      "outputs": [
        {
          "output_type": "stream",
          "name": "stdout",
          "text": [
            "{1}\n",
            "{2, 3, 4}\n"
          ]
        }
      ]
    },
    {
      "cell_type": "code",
      "source": [
        "set1={1,5,6}\n",
        "set2={2,3,4}\n",
        "set3={6,1,4}\n",
        "set4={3,2,7}\n",
        "print(set1.isdisjoint(set2))\n",
        "print(set2.isdisjoint(set3))\n",
        "print(set3.isdisjoint(set4))\n"
      ],
      "metadata": {
        "colab": {
          "base_uri": "https://localhost:8080/"
        },
        "id": "oiTly20HpZXp",
        "outputId": "b6506c41-daab-43f2-eefc-c0d00520b836"
      },
      "execution_count": 28,
      "outputs": [
        {
          "output_type": "stream",
          "name": "stdout",
          "text": [
            "True\n",
            "False\n",
            "True\n"
          ]
        }
      ]
    },
    {
      "cell_type": "code",
      "source": [
        "# Functions\n",
        "# Block of code\n",
        "# we can use it for converting yoyr code into smaller portion of code\n",
        "# help in reusability\n",
        "# debugging\n"
      ],
      "metadata": {
        "id": "wwFxWOpKstdJ"
      },
      "execution_count": 35,
      "outputs": []
    },
    {
      "cell_type": "code",
      "source": [
        "# void function_name();\n",
        "\n",
        "def add():\n",
        "    a=int(input(\"Enter a value:\"))\n",
        "    b=int(input(\"Enter b value:\"))\n",
        "    c=a+b\n",
        "    print(c)\n",
        "\n"
      ],
      "metadata": {
        "id": "qUmlUGqptKYw"
      },
      "execution_count": 39,
      "outputs": []
    },
    {
      "cell_type": "code",
      "source": [
        "add()"
      ],
      "metadata": {
        "colab": {
          "base_uri": "https://localhost:8080/"
        },
        "id": "HDni2ObhvgYK",
        "outputId": "d8411e69-98ca-4f46-f6bc-53a4d9ebb01e"
      },
      "execution_count": 40,
      "outputs": [
        {
          "output_type": "stream",
          "name": "stdout",
          "text": [
            "Enter a value:20\n",
            "Enter b value:20\n",
            "40\n"
          ]
        }
      ]
    },
    {
      "cell_type": "code",
      "source": [
        "def a(z):\n",
        "  print(z)\n",
        "a(20)"
      ],
      "metadata": {
        "colab": {
          "base_uri": "https://localhost:8080/"
        },
        "id": "6a904XX2vhpQ",
        "outputId": "7c79535f-b99a-47ab-c223-4594c7c9725f"
      },
      "execution_count": 42,
      "outputs": [
        {
          "output_type": "stream",
          "name": "stdout",
          "text": [
            "20\n"
          ]
        }
      ]
    },
    {
      "cell_type": "code",
      "source": [
        "def add(a,b):\n",
        "    c=a+b\n",
        "    print(c)\n",
        "add(10,20)"
      ],
      "metadata": {
        "colab": {
          "base_uri": "https://localhost:8080/"
        },
        "id": "Xs2PKl0fxW0b",
        "outputId": "c638d32d-583f-452f-f247-bed3d13b390d"
      },
      "execution_count": 43,
      "outputs": [
        {
          "output_type": "stream",
          "name": "stdout",
          "text": [
            "30\n"
          ]
        }
      ]
    },
    {
      "cell_type": "code",
      "source": [
        "def add(a,b):\n",
        "    c=a+b\n",
        "    print(c)\n",
        "def sub(a,b):\n",
        "    c=a-b\n",
        "    print(c)\n",
        "def mul(a,b):\n",
        "    c=a*b\n",
        "    print(c)\n",
        "def div(a,b):\n",
        "    c=a/b\n",
        "    print(c)\n",
        "a=int(input(\"Enter a value:\"))\n",
        "b=int(input(\"Enter b value:\"))\n",
        "c=input(\"Enter operator:\")\n",
        "if c=='+':\n",
        "    add(a,b)\n",
        "elif c=='-':\n",
        "    sub(a,b)\n",
        ""
      ],
      "metadata": {
        "colab": {
          "base_uri": "https://localhost:8080/"
        },
        "id": "IthmWb21xlNn",
        "outputId": "786be59a-9103-4bac-d026-a76c136c5a22"
      },
      "execution_count": 44,
      "outputs": [
        {
          "output_type": "stream",
          "name": "stdout",
          "text": [
            "Enter a value:7\n",
            "Enter b value:8\n",
            "Enter operator:-\n",
            "-1\n"
          ]
        }
      ]
    },
    {
      "cell_type": "code",
      "source": [
        "x=20\n",
        "def a():\n",
        "  global x\n",
        "  x=10\n",
        "  print(x)\n",
        "\n",
        "a()\n",
        "print(x)"
      ],
      "metadata": {
        "colab": {
          "base_uri": "https://localhost:8080/"
        },
        "id": "P8U4RRzVyEy6",
        "outputId": "6b3f282b-5501-4dda-f6b3-faf0cb0babdd"
      },
      "execution_count": 48,
      "outputs": [
        {
          "output_type": "stream",
          "name": "stdout",
          "text": [
            "10\n",
            "10\n"
          ]
        }
      ]
    },
    {
      "cell_type": "code",
      "source": [
        "x=20\n",
        "def a(x):\n",
        "\n",
        "  print(x)\n",
        "\n",
        "a(200)\n",
        "print(x)"
      ],
      "metadata": {
        "colab": {
          "base_uri": "https://localhost:8080/"
        },
        "id": "UmcpMbzpyq_W",
        "outputId": "5f4b8e83-75e6-4a36-e75a-025448ecda23"
      },
      "execution_count": 53,
      "outputs": [
        {
          "output_type": "stream",
          "name": "stdout",
          "text": [
            "200\n",
            "20\n"
          ]
        }
      ]
    },
    {
      "cell_type": "code",
      "source": [
        "#Valid Parenthesis using dictionary\n",
        "#Number to Roman using dictionary\n",
        "#Dictionary Comprehension\n"
      ],
      "metadata": {
        "id": "Wr2GunhD0TYa"
      },
      "execution_count": null,
      "outputs": []
    }
  ]
}