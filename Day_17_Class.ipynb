{
 "cells": [
  {
   "cell_type": "code",
   "execution_count": 7,
   "id": "f1e97c9f-abce-4754-8f42-491c52217b42",
   "metadata": {},
   "outputs": [
    {
     "name": "stdout",
     "output_type": "stream",
     "text": [
      "Anshul Menaria\n"
     ]
    }
   ],
   "source": [
    "file1=open(\"anshul.txt\",\"r\") #open allow you to open any file using path and \n",
    "#r for read only write function will give error\n",
    "\n",
    "file1_data=file1.read()\n",
    "file1.close()\n",
    "\n",
    "print(file1_data)"
   ]
  },
  {
   "cell_type": "code",
   "execution_count": 30,
   "id": "6f1cc205-af67-4fd9-a913-3e844f598a51",
   "metadata": {},
   "outputs": [],
   "source": [
    "file1=open(\"anshul.txt\",\"w\") #w for write only read function will give error\n",
    "\n",
    "file1.write(\"Anshul Menaria\")\n",
    "file1.close()"
   ]
  },
  {
   "cell_type": "code",
   "execution_count": 19,
   "id": "f3907dee-49d0-426a-97ce-ab4214af86eb",
   "metadata": {},
   "outputs": [
    {
     "name": "stdout",
     "output_type": "stream",
     "text": [
      "#nshul Menaria\n"
     ]
    }
   ],
   "source": [
    "file1=open(\"anshul.txt\",\"r+\") #r+ allows you to read and write both and make changes in starting only according to data length\n",
    "file1_data=file1.read()\n",
    "file1.write(\" #\")\n",
    "file1.close()\n",
    "\n",
    "print(file1_data)"
   ]
  },
  {
   "cell_type": "code",
   "execution_count": 18,
   "id": "127ca89b-bd82-4d76-9839-6e13ad109bb6",
   "metadata": {},
   "outputs": [
    {
     "name": "stdout",
     "output_type": "stream",
     "text": [
      "nshul Menaria\n"
     ]
    }
   ],
   "source": [
    "file1=open(\"anshul.txt\",\"r+\")\n",
    "file1.write(\"#\")\n",
    "file1_data=file1.read()\n",
    "file1.close()\n",
    "\n",
    "print(file1_data)"
   ]
  },
  {
   "cell_type": "code",
   "execution_count": 21,
   "id": "0f4992ca-3e4d-46d3-acaf-82b07ff06021",
   "metadata": {},
   "outputs": [
    {
     "name": "stdout",
     "output_type": "stream",
     "text": [
      "\n"
     ]
    }
   ],
   "source": [
    "file1=open(\"anshul.txt\",\"w+\") #w+ will replace the write data with everything in file\n",
    "file1.write(\"$$\")\n",
    "file1_data=file1.read()\n",
    "file1.close()\n",
    "\n",
    "print(file1_data)"
   ]
  },
  {
   "cell_type": "code",
   "execution_count": 23,
   "id": "64f6311b-041e-4a76-9527-e28ba84991df",
   "metadata": {},
   "outputs": [
    {
     "name": "stdout",
     "output_type": "stream",
     "text": [
      "1: 0\n",
      "2: 2\n",
      "\n"
     ]
    }
   ],
   "source": [
    "file1=open(\"anshul.txt\",\"w+\") #w+ will replace the write data with everything in file\n",
    "print(\"1:\",file1.tell()) #prints the cursor location that where it is \n",
    "file1.write(\"$$\")\n",
    "print(\"2:\",file1.tell())\n",
    "file1_data=file1.read()\n",
    "file1.close()\n",
    "\n",
    "print(file1_data)"
   ]
  },
  {
   "cell_type": "code",
   "execution_count": 27,
   "id": "1e85b4c7-8c60-4ef6-b5f1-a03f2a564dbc",
   "metadata": {},
   "outputs": [
    {
     "name": "stdout",
     "output_type": "stream",
     "text": [
      "1: 0\n",
      "2: 9\n",
      "3: 4\n",
      "sthan\n"
     ]
    }
   ],
   "source": [
    "file1=open(\"anshul.txt\",\"w+\") #w+ will replace the write data with everything in file\n",
    "print(\"1:\",file1.tell()) #prints the cursor location that where it is \n",
    "file1.write(\"Rajasthan\")\n",
    "print(\"2:\",file1.tell())\n",
    "\n",
    "file1.seek(4) #seek will change the position of cursor to the giver position\n",
    "print(\"3:\",file1.tell())\n",
    "\n",
    "file1_data=file1.read()\n",
    "\n",
    "file1.close()\n",
    "\n",
    "print(file1_data)"
   ]
  },
  {
   "cell_type": "code",
   "execution_count": 40,
   "id": "279b0ec7-669a-4858-81a7-6d09d30441f7",
   "metadata": {},
   "outputs": [
    {
     "name": "stdout",
     "output_type": "stream",
     "text": [
      "Anshul Menaria\n",
      "\n",
      "Anshul\n"
     ]
    }
   ],
   "source": [
    "with open(\"anshul.txt\",\"r\") as x: #using with open we can directly store it in an variable with the help of as\n",
    "    print(x.readline()) #using readlin() we can read line one by one\n",
    "    print(x.readline()) #we have to print the lines as much we want to read\n"
   ]
  },
  {
   "cell_type": "code",
   "execution_count": null,
   "id": "eec6bb3c-20e9-47bd-926f-05febfa00a91",
   "metadata": {},
   "outputs": [],
   "source": []
  },
  {
   "cell_type": "code",
   "execution_count": 44,
   "id": "980bb7db-e47e-495b-b7a8-01e0766bad36",
   "metadata": {},
   "outputs": [
    {
     "name": "stdout",
     "output_type": "stream",
     "text": [
      "Anshul Menaria,10\n",
      "\n",
      "Anshul,6\n"
     ]
    }
   ],
   "source": [
    "with open(\"anshul.txt\",\"r\") as x: \n",
    "    for line in x: # using for loop we can read all lines in one time\n",
    "        print(line) \n"
   ]
  },
  {
   "cell_type": "code",
   "execution_count": 45,
   "id": "93124468-28aa-480c-8f3c-917498ad7fb1",
   "metadata": {},
   "outputs": [
    {
     "name": "stdout",
     "output_type": "stream",
     "text": [
      "Anshul Menaria,10\n",
      "Anshul,6\n"
     ]
    }
   ],
   "source": [
    "with open(\"anshul.txt\",\"r\") as x: \n",
    "    for line in x: # using for loop we can read all lines in one time\n",
    "        print(line.strip()) #it cremoves the \\n(new line) which is introduced in windows text files\n"
   ]
  },
  {
   "cell_type": "code",
   "execution_count": 46,
   "id": "6342ec5f-9a83-4d46-b018-3516293677e0",
   "metadata": {},
   "outputs": [
    {
     "name": "stdout",
     "output_type": "stream",
     "text": [
      "Anshul Menaria,10 <class 'str'>\n",
      "Anshul,6 <class 'str'>\n"
     ]
    }
   ],
   "source": [
    "with open(\"anshul.txt\",\"r\") as x: \n",
    "    for line in x: \n",
    "        print(line.strip(), type(line)) #type displays the datatype on line data \n"
   ]
  },
  {
   "cell_type": "code",
   "execution_count": 63,
   "id": "ddc937cc-95c8-465a-bfa0-b4279f415aa6",
   "metadata": {},
   "outputs": [
    {
     "name": "stdout",
     "output_type": "stream",
     "text": [
      "['Anshul Menaria', '10']\n",
      "['Anshul', '6']\n"
     ]
    }
   ],
   "source": [
    "with open(\"anshul.txt\",\"r\") as x: \n",
    "    for line in x: \n",
    "        line=line.strip()\n",
    "        print(line.split(\",\"))"
   ]
  },
  {
   "cell_type": "code",
   "execution_count": 65,
   "id": "74ae60db-7f47-4832-a7dd-ba1776778381",
   "metadata": {},
   "outputs": [
    {
     "name": "stdout",
     "output_type": "stream",
     "text": [
      "Name:Anshul Menaria,Age:10\n",
      "Name:Anshul,Age:6\n"
     ]
    }
   ],
   "source": [
    "with open(\"anshul.txt\",\"r\") as x: \n",
    "    for line in x: \n",
    "        line=line.strip()\n",
    "        name,age=line.split(\",\")\n",
    "        print(f\"Name:{name},Age:{age}\")"
   ]
  },
  {
   "cell_type": "code",
   "execution_count": 55,
   "id": "5dd88b09-3d5b-4c18-b577-eb1e6623a298",
   "metadata": {},
   "outputs": [
    {
     "data": {
      "text/plain": [
       "['Anshul,Menaria', 'ANshul']"
      ]
     },
     "execution_count": 55,
     "metadata": {},
     "output_type": "execute_result"
    }
   ],
   "source": [
    "\"Anshul,Menaria ANshul\".split()\n"
   ]
  },
  {
   "cell_type": "code",
   "execution_count": 58,
   "id": "d98940ef-3859-4e2e-a1b0-af5f8b45e838",
   "metadata": {},
   "outputs": [
    {
     "data": {
      "text/plain": [
       "['Anshul', 'Menaria anshul']"
      ]
     },
     "execution_count": 58,
     "metadata": {},
     "output_type": "execute_result"
    }
   ],
   "source": [
    "\"Anshul,Menaria anshul\".split(\",\")"
   ]
  },
  {
   "cell_type": "code",
   "execution_count": 43,
   "id": "09592f4c-afc4-4e61-b548-3bd5f061192f",
   "metadata": {},
   "outputs": [
    {
     "name": "stdout",
     "output_type": "stream",
     "text": [
      "['Anshul Menaria,10\\n', 'Anshul,6']\n"
     ]
    }
   ],
   "source": [
    "with open(\"anshul.txt\",\"r\") as x:\n",
    "    print(x.readlines())"
   ]
  },
  {
   "cell_type": "code",
   "execution_count": 69,
   "id": "527959f6-5b0e-4e86-88d1-49e467244cb0",
   "metadata": {},
   "outputs": [
    {
     "name": "stdout",
     "output_type": "stream",
     "text": [
      "['Anshul Menaria', '10']\n",
      "['Anshul', '6']\n"
     ]
    }
   ],
   "source": [
    "import csv\n",
    "file2=open(\"anshul.txt\",\"r\")\n",
    "csv_file=csv.reader(file2)\n",
    "for i in csv_file:\n",
    "    print(i)"
   ]
  },
  {
   "cell_type": "code",
   "execution_count": 70,
   "id": "c80be894-2704-4837-8f86-9fb6fbefd63a",
   "metadata": {},
   "outputs": [
    {
     "name": "stdout",
     "output_type": "stream",
     "text": [
      "Name:Anshul Menaria,Age:10\n",
      "Name:Anshul,Age:6\n"
     ]
    }
   ],
   "source": [
    "import csv #importing csv file to seperate data with , \n",
    "file2=open(\"anshul.txt\",\"r\")\n",
    "csv_file=csv.reader(file2) #using reader we include csv package here\n",
    "for i in csv_file:\n",
    "    name,age=i\n",
    "    print(f\"Name:{name},Age:{age}\")"
   ]
  },
  {
   "cell_type": "code",
   "execution_count": null,
   "id": "4e53fe2d-56fb-4148-901e-777ab3c136e2",
   "metadata": {},
   "outputs": [],
   "source": [
    "# A2\n",
    "# *******\n",
    "#  *   *\n",
    "#   * *\n",
    "#    *\n",
    "\n",
    "# ****\n",
    "# ***\n",
    "# **\n",
    "# *\n",
    "# **\n",
    "# ***\n",
    "# ****\n",
    "\n",
    "# sum of all digit in list\n",
    "\n",
    "# [10,20,121,142,10000]\n",
    "# target=131 with single loop\n",
    "\n",
    "# to read dictionary and how to insert and delete element from list\n",
    "\n",
    "# take a string and print all character in key-value pair\n",
    "# take a string and print all characters exact count in key-value pair\n",
    "# take a string and print all consonent in key-value pair with exact counts\n"
   ]
  }
 ],
 "metadata": {
  "kernelspec": {
   "display_name": "Python 3 (ipykernel)",
   "language": "python",
   "name": "python3"
  },
  "language_info": {
   "codemirror_mode": {
    "name": "ipython",
    "version": 3
   },
   "file_extension": ".py",
   "mimetype": "text/x-python",
   "name": "python",
   "nbconvert_exporter": "python",
   "pygments_lexer": "ipython3",
   "version": "3.10.11"
  }
 },
 "nbformat": 4,
 "nbformat_minor": 5
}
