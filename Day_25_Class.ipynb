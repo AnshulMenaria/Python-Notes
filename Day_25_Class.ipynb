{
 "cells": [
  {
   "cell_type": "code",
   "execution_count": 2,
   "id": "19076cca-fd85-45b0-9fc2-db27a8394c5e",
   "metadata": {},
   "outputs": [
    {
     "name": "stdout",
     "output_type": "stream",
     "text": [
      "Name=Anshul\n",
      "Role=Frontend Developer\n",
      "Location=Jaipur\n",
      "This is great job\n"
     ]
    }
   ],
   "source": [
    "class Employee:\n",
    "    location = \"Jaipur\"\n",
    "    def __init__(self,name,role):\n",
    "        self.name = name\n",
    "        self.role = role\n",
    "    def getInfo(self):\n",
    "        print(f\"Name={self.name}\")\n",
    "        print(f\"Role={self.role}\")\n",
    "        print(f\"Location={self.location}\")\n",
    "\n",
    "    @staticmethod\n",
    "    def Statement():\n",
    "        print(\"This is great job\")\n",
    "\n",
    "emp1=Employee(\"Anshul\",\"Frontend Developer\")\n",
    "emp1.getInfo()\n",
    "emp1.Statement()"
   ]
  },
  {
   "cell_type": "code",
   "execution_count": 6,
   "id": "957c7593-7495-4c39-ac29-06afb87224ed",
   "metadata": {},
   "outputs": [
    {
     "name": "stdout",
     "output_type": "stream",
     "text": [
      "Hello, I am Sam from the parent class.\n",
      "I am 10 years old from the child class\n"
     ]
    }
   ],
   "source": [
    "class Parent:\n",
    "    def __init__(self,name):\n",
    "        self.name = name\n",
    "\n",
    "    def greet(self):\n",
    "        print(f\"Hello, I am {self.name} from the parent class.\")\n",
    "\n",
    "class Child(Parent):\n",
    "    def __init__(self,name,age):\n",
    "        super().__init__(name)\n",
    "        self.age=age\n",
    "\n",
    "    def greet(self):\n",
    "        super().greet()\n",
    "        print(f\"I am {self.age} years old from the child class\")\n",
    "\n",
    "child1 = Child(\"Sam\",10)\n",
    "child1.greet()"
   ]
  },
  {
   "cell_type": "code",
   "execution_count": null,
   "id": "4152a143-cf1d-45c8-ba01-5b8eedeec1b0",
   "metadata": {},
   "outputs": [],
   "source": []
  }
 ],
 "metadata": {
  "kernelspec": {
   "display_name": "Python 3 (ipykernel)",
   "language": "python",
   "name": "python3"
  },
  "language_info": {
   "codemirror_mode": {
    "name": "ipython",
    "version": 3
   },
   "file_extension": ".py",
   "mimetype": "text/x-python",
   "name": "python",
   "nbconvert_exporter": "python",
   "pygments_lexer": "ipython3",
   "version": "3.10.11"
  }
 },
 "nbformat": 4,
 "nbformat_minor": 5
}
