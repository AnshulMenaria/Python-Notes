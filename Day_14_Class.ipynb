{
  "nbformat": 4,
  "nbformat_minor": 0,
  "metadata": {
    "colab": {
      "provenance": [],
      "gpuType": "T4",
      "authorship_tag": "ABX9TyPT2SBBU4xZqz1Z0xnjoqfr",
      "include_colab_link": true
    },
    "kernelspec": {
      "name": "python3",
      "display_name": "Python 3"
    },
    "language_info": {
      "name": "python"
    },
    "accelerator": "GPU"
  },
  "cells": [
    {
      "cell_type": "markdown",
      "metadata": {
        "id": "view-in-github",
        "colab_type": "text"
      },
      "source": [
        "<a href=\"https://colab.research.google.com/github/AnshulMenaria/Python-Notes/blob/main/Day_14_Class.ipynb\" target=\"_parent\"><img src=\"https://colab.research.google.com/assets/colab-badge.svg\" alt=\"Open In Colab\"/></a>"
      ]
    },
    {
      "cell_type": "code",
      "execution_count": null,
      "metadata": {
        "id": "nWPQRdT7roFN",
        "colab": {
          "base_uri": "https://localhost:8080/"
        },
        "outputId": "e9f8dba8-f960-483e-b019-cc4d3547812e"
      },
      "outputs": [
        {
          "output_type": "stream",
          "name": "stdout",
          "text": [
            "Global Variable: 138859673932528 500\n",
            "Passing Through Global Variable With Same Name: 138859673932528 500\n",
            "Assigning Variable: 138859673942064 600\n",
            "After Running Function: 138859673932528 500\n"
          ]
        }
      ],
      "source": [
        "#functions\n",
        "def a(num):\n",
        "  print(\"Passing Through Global Variable With Same Name:\",id(num),num)\n",
        "  num=600\n",
        "  print(\"Assigning Variable:\",id(num),num)\n",
        "\n",
        "num=500\n",
        "print(\"Global Variable:\",id(num),num)\n",
        "a(num)\n",
        "print(\"After Running Function:\",id(num),num)\n",
        "#if we do changes in function on the immutable data it will not affect the original variable\n",
        "#because in immutable datatype the memory changes and the global variable doesn't affect"
      ]
    },
    {
      "cell_type": "code",
      "source": [
        "#functions\n",
        "def a(num):\n",
        "  print(\"Passing Through Global Variable With Same Name:\",id(num),num)\n",
        "  num.append(30)\n",
        "  print(\"Assigning New Data:\",id(num),num)\n",
        "\n",
        "num=[10,20]\n",
        "print(\"Global Variable:\",id(num),num)\n",
        "a(num)\n",
        "print(\"After Running Function:\",id(num),num)\n",
        "#if we do changes in function on the mutable data it will affect the original variable\n",
        "#because in mutable datatype the memory doesn't change the data will be changed"
      ],
      "metadata": {
        "colab": {
          "base_uri": "https://localhost:8080/"
        },
        "id": "E7HfwTTIxQCS",
        "outputId": "35b6fdf5-8cd7-4d8b-91fb-54c2c5e96d65"
      },
      "execution_count": null,
      "outputs": [
        {
          "output_type": "stream",
          "name": "stdout",
          "text": [
            "Global Variable: 138860585873664 [10, 20]\n",
            "Passing Through Global Variable With Same Name: 138860585873664 [10, 20]\n",
            "Assigning New Data: 138860585873664 [10, 20, 30]\n",
            "After Running Function: 138860585873664 [10, 20, 30]\n"
          ]
        }
      ]
    },
    {
      "cell_type": "code",
      "source": [
        "#types of argument passing in function\n",
        "\n",
        "def func(x,y,z): #here we defined three parameters x,y and z\n",
        "  print((\"x:\",x,\"y:\",y,\"z:\",z))\n",
        "func(10,20,30) #here we pass required arguments like we defined x,y and z so we pass three different values\n",
        "func(20,10,30) #while passing arguments it will be passed as the position of parameters like first x so 20 will be passed to x\n",
        "# it is known as positional argument\n",
        "func(x=30,y=10,z=20) #here it doesn't follow positional arguments if we define parameter and value then it will passed to that parameter\n",
        "# it is known as keyword argument\n",
        "func(20,10,30,x=30,y=10,z=20) #if we pass three positional arguments and pass three keyword argument sbut we only have three parameters then it will not accept and give an error\n",
        "\n",
        "def func1(x,z,y=20): #it will take default value so if we doesnt pass third value so it will pass default value\n",
        "  print((\"x:\",x,\"y:\",y,\"z:\",z))\n",
        "\n",
        "func1(10,20,30) #and if we pass the third value it will pass that and ignore default value"
      ],
      "metadata": {
        "colab": {
          "base_uri": "https://localhost:8080/"
        },
        "id": "IjwVM5FVxsEE",
        "outputId": "b0530dd6-af5c-44cb-f661-9133cd73da9b"
      },
      "execution_count": null,
      "outputs": [
        {
          "output_type": "stream",
          "name": "stdout",
          "text": [
            "('x:', 10, 'y:', 20, 'z:', 30)\n",
            "('x:', 20, 'y:', 10, 'z:', 30)\n",
            "('x:', 30, 'y:', 10, 'z:', 20)\n",
            "('x:', 20, 'y:', 10, 'z:', 30)\n",
            "('x:', 10, 'y:', 30, 'z:', 20)\n"
          ]
        }
      ]
    },
    {
      "cell_type": "code",
      "source": [
        "def prime(num):\n",
        "  a=0\n",
        "  for i in range(2,num):\n",
        "    if(num%i==0):\n",
        "      a=1\n",
        "      break\n",
        "  if(a==0):\n",
        "    print(\"Prime\")\n",
        "  else:\n",
        "    print(\"Not Prime\")\n",
        "\n",
        "num=int(input(\"Enter Number:\"))\n",
        "\n",
        "prime(num)"
      ],
      "metadata": {
        "colab": {
          "base_uri": "https://localhost:8080/"
        },
        "id": "RZelR99azB-q",
        "outputId": "f413f2b5-f31c-4acb-89a7-086c3170c649"
      },
      "execution_count": null,
      "outputs": [
        {
          "output_type": "stream",
          "name": "stdout",
          "text": [
            "Enter Number:5\n",
            "Prime\n"
          ]
        }
      ]
    },
    {
      "cell_type": "code",
      "source": [
        "def armstrong(num):\n",
        "  sum=0\n",
        "  temp=num\n",
        "  while(num>0):\n",
        "    rem=num%10\n",
        "    sum=sum+rem*rem*rem\n",
        "    num=num//10\n",
        "  if(sum==temp):\n",
        "    print(\"Armstrong\")\n",
        "  else:\n",
        "    print(\"Not Armstrong\")\n",
        "\n",
        "num=int(input(\"Enter Number:\"))\n",
        "armstrong(num)"
      ],
      "metadata": {
        "colab": {
          "base_uri": "https://localhost:8080/"
        },
        "id": "Zq1OWK842-Fw",
        "outputId": "93ff27bc-e860-45ad-8aae-06fcc93992bd"
      },
      "execution_count": null,
      "outputs": [
        {
          "output_type": "stream",
          "name": "stdout",
          "text": [
            "Enter Number:153\n",
            "Armstrong\n"
          ]
        }
      ]
    },
    {
      "cell_type": "code",
      "source": [
        "def func(num):\n",
        "  num+=10\n",
        "  print(num) #using print function it will just display the output and doesnt return and we cant store the value in any variable\n",
        "  return num #using return function it will return the value and we can store it in any variable\n",
        "y=func(10) # here if we store the last output we cant store it because the print is only displaying and if we return it will store\n",
        "print(\"Y:\",y)"
      ],
      "metadata": {
        "colab": {
          "base_uri": "https://localhost:8080/"
        },
        "id": "9VjnI_LW4Q7V",
        "outputId": "d300a58b-1433-423a-9523-5842c8cf4b52"
      },
      "execution_count": null,
      "outputs": [
        {
          "output_type": "stream",
          "name": "stdout",
          "text": [
            "20\n",
            "Y: 20\n"
          ]
        }
      ]
    },
    {
      "cell_type": "code",
      "source": [
        "# virtual environment\n",
        "# first class function vs high ordered function\n"
      ],
      "metadata": {
        "id": "W_fBwRNc6IJ-"
      },
      "execution_count": null,
      "outputs": []
    }
  ]
}